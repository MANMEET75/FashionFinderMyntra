{
 "cells": [
  {
   "cell_type": "markdown",
   "id": "c7f5fbeb",
   "metadata": {},
   "source": [
    "# RECOMMENDATION SYSTEM\n",
    "Dealing with Research Environment"
   ]
  },
  {
   "cell_type": "markdown",
   "id": "ad61cc8e",
   "metadata": {},
   "source": [
    "## Problem Statement\n",
    "This project understands the recommendation of Myntra's fashion products based on the product selected by the user so it is the content based recommendation problem statement having variables like index, ProductID, Title, Price in INR.,Colour Name, Brand Name, Image URL, Count of Ratings, Average Rating of Product and Product Description."
   ]
  },
  {
   "cell_type": "markdown",
   "id": "347869d2",
   "metadata": {},
   "source": [
    "## Data Collection\n",
    "Dataset is collected from the kaggle"
   ]
  },
  {
   "cell_type": "markdown",
   "id": "b586efa6",
   "metadata": {},
   "source": [
    "## Importing the libraries"
   ]
  },
  {
   "cell_type": "code",
   "execution_count": 1,
   "id": "95053d59",
   "metadata": {},
   "outputs": [],
   "source": [
    "import numpy as np \n",
    "import pandas as pd\n",
    "import seaborn as sns\n",
    "import matplotlib.pyplot as plt\n",
    "%matplotlib inline"
   ]
  },
  {
   "cell_type": "markdown",
   "id": "123c2d8f",
   "metadata": {},
   "source": [
    "## Importing the dataset"
   ]
  },
  {
   "cell_type": "code",
   "execution_count": 2,
   "id": "b7d18f86",
   "metadata": {},
   "outputs": [],
   "source": [
    "fashion = pd.read_csv('data/Fashion Dataset.csv')"
   ]
  },
  {
   "cell_type": "markdown",
   "id": "720d4663",
   "metadata": {},
   "source": [
    "## Showing Top 5 Records "
   ]
  },
  {
   "cell_type": "code",
   "execution_count": 3,
   "id": "124e55e2",
   "metadata": {},
   "outputs": [
    {
     "data": {
      "text/html": [
       "<div>\n",
       "<style scoped>\n",
       "    .dataframe tbody tr th:only-of-type {\n",
       "        vertical-align: middle;\n",
       "    }\n",
       "\n",
       "    .dataframe tbody tr th {\n",
       "        vertical-align: top;\n",
       "    }\n",
       "\n",
       "    .dataframe thead th {\n",
       "        text-align: right;\n",
       "    }\n",
       "</style>\n",
       "<table border=\"1\" class=\"dataframe\">\n",
       "  <thead>\n",
       "    <tr style=\"text-align: right;\">\n",
       "      <th></th>\n",
       "      <th>Unnamed: 0</th>\n",
       "      <th>p_id</th>\n",
       "      <th>name</th>\n",
       "      <th>price</th>\n",
       "      <th>colour</th>\n",
       "      <th>brand</th>\n",
       "      <th>img</th>\n",
       "      <th>ratingCount</th>\n",
       "      <th>avg_rating</th>\n",
       "      <th>description</th>\n",
       "      <th>p_attributes</th>\n",
       "    </tr>\n",
       "  </thead>\n",
       "  <tbody>\n",
       "    <tr>\n",
       "      <th>0</th>\n",
       "      <td>0</td>\n",
       "      <td>17048614.0</td>\n",
       "      <td>Khushal K Women Black Ethnic Motifs Printed Ku...</td>\n",
       "      <td>5099.0</td>\n",
       "      <td>Black</td>\n",
       "      <td>Khushal K</td>\n",
       "      <td>http://assets.myntassets.com/assets/images/170...</td>\n",
       "      <td>4522.0</td>\n",
       "      <td>4.418399</td>\n",
       "      <td>Black printed Kurta with Palazzos with dupatta...</td>\n",
       "      <td>{'Add-Ons': 'NA', 'Body Shape ID': '443,333,32...</td>\n",
       "    </tr>\n",
       "    <tr>\n",
       "      <th>1</th>\n",
       "      <td>1</td>\n",
       "      <td>16524740.0</td>\n",
       "      <td>InWeave Women Orange Solid Kurta with Palazzos...</td>\n",
       "      <td>5899.0</td>\n",
       "      <td>Orange</td>\n",
       "      <td>InWeave</td>\n",
       "      <td>http://assets.myntassets.com/assets/images/165...</td>\n",
       "      <td>1081.0</td>\n",
       "      <td>4.119334</td>\n",
       "      <td>Orange solid Kurta with Palazzos with dupatta&lt;...</td>\n",
       "      <td>{'Add-Ons': 'NA', 'Body Shape ID': '443,333,32...</td>\n",
       "    </tr>\n",
       "    <tr>\n",
       "      <th>2</th>\n",
       "      <td>2</td>\n",
       "      <td>16331376.0</td>\n",
       "      <td>Anubhutee Women Navy Blue Ethnic Motifs Embroi...</td>\n",
       "      <td>4899.0</td>\n",
       "      <td>Navy Blue</td>\n",
       "      <td>Anubhutee</td>\n",
       "      <td>http://assets.myntassets.com/assets/images/163...</td>\n",
       "      <td>1752.0</td>\n",
       "      <td>4.161530</td>\n",
       "      <td>Navy blue embroidered Kurta with Trousers with...</td>\n",
       "      <td>{'Add-Ons': 'NA', 'Body Shape ID': '333,424', ...</td>\n",
       "    </tr>\n",
       "    <tr>\n",
       "      <th>3</th>\n",
       "      <td>3</td>\n",
       "      <td>14709966.0</td>\n",
       "      <td>Nayo Women Red Floral Printed Kurta With Trous...</td>\n",
       "      <td>3699.0</td>\n",
       "      <td>Red</td>\n",
       "      <td>Nayo</td>\n",
       "      <td>http://assets.myntassets.com/assets/images/147...</td>\n",
       "      <td>4113.0</td>\n",
       "      <td>4.088986</td>\n",
       "      <td>Red printed kurta with trouser and dupatta&lt;br&gt;...</td>\n",
       "      <td>{'Add-Ons': 'NA', 'Body Shape ID': '333,424', ...</td>\n",
       "    </tr>\n",
       "    <tr>\n",
       "      <th>4</th>\n",
       "      <td>4</td>\n",
       "      <td>11056154.0</td>\n",
       "      <td>AHIKA Women Black &amp; Green Printed Straight Kurta</td>\n",
       "      <td>1350.0</td>\n",
       "      <td>Black</td>\n",
       "      <td>AHIKA</td>\n",
       "      <td>http://assets.myntassets.com/assets/images/110...</td>\n",
       "      <td>21274.0</td>\n",
       "      <td>3.978377</td>\n",
       "      <td>Black and green printed straight kurta, has a ...</td>\n",
       "      <td>{'Body Shape ID': '424', 'Body or Garment Size...</td>\n",
       "    </tr>\n",
       "  </tbody>\n",
       "</table>\n",
       "</div>"
      ],
      "text/plain": [
       "   Unnamed: 0        p_id                                               name  \\\n",
       "0           0  17048614.0  Khushal K Women Black Ethnic Motifs Printed Ku...   \n",
       "1           1  16524740.0  InWeave Women Orange Solid Kurta with Palazzos...   \n",
       "2           2  16331376.0  Anubhutee Women Navy Blue Ethnic Motifs Embroi...   \n",
       "3           3  14709966.0  Nayo Women Red Floral Printed Kurta With Trous...   \n",
       "4           4  11056154.0   AHIKA Women Black & Green Printed Straight Kurta   \n",
       "\n",
       "    price     colour      brand  \\\n",
       "0  5099.0      Black  Khushal K   \n",
       "1  5899.0     Orange    InWeave   \n",
       "2  4899.0  Navy Blue  Anubhutee   \n",
       "3  3699.0        Red       Nayo   \n",
       "4  1350.0      Black      AHIKA   \n",
       "\n",
       "                                                 img  ratingCount  avg_rating  \\\n",
       "0  http://assets.myntassets.com/assets/images/170...       4522.0    4.418399   \n",
       "1  http://assets.myntassets.com/assets/images/165...       1081.0    4.119334   \n",
       "2  http://assets.myntassets.com/assets/images/163...       1752.0    4.161530   \n",
       "3  http://assets.myntassets.com/assets/images/147...       4113.0    4.088986   \n",
       "4  http://assets.myntassets.com/assets/images/110...      21274.0    3.978377   \n",
       "\n",
       "                                         description  \\\n",
       "0  Black printed Kurta with Palazzos with dupatta...   \n",
       "1  Orange solid Kurta with Palazzos with dupatta<...   \n",
       "2  Navy blue embroidered Kurta with Trousers with...   \n",
       "3  Red printed kurta with trouser and dupatta<br>...   \n",
       "4  Black and green printed straight kurta, has a ...   \n",
       "\n",
       "                                        p_attributes  \n",
       "0  {'Add-Ons': 'NA', 'Body Shape ID': '443,333,32...  \n",
       "1  {'Add-Ons': 'NA', 'Body Shape ID': '443,333,32...  \n",
       "2  {'Add-Ons': 'NA', 'Body Shape ID': '333,424', ...  \n",
       "3  {'Add-Ons': 'NA', 'Body Shape ID': '333,424', ...  \n",
       "4  {'Body Shape ID': '424', 'Body or Garment Size...  "
      ]
     },
     "execution_count": 3,
     "metadata": {},
     "output_type": "execute_result"
    }
   ],
   "source": [
    "fashion.head()"
   ]
  },
  {
   "cell_type": "markdown",
   "id": "b9251061",
   "metadata": {},
   "source": [
    "## Getting the shape of the dataset"
   ]
  },
  {
   "cell_type": "code",
   "execution_count": 4,
   "id": "8b52b1ca",
   "metadata": {},
   "outputs": [
    {
     "data": {
      "text/plain": [
       "(14330, 11)"
      ]
     },
     "execution_count": 4,
     "metadata": {},
     "output_type": "execute_result"
    }
   ],
   "source": [
    "fashion.shape"
   ]
  },
  {
   "cell_type": "markdown",
   "id": "24d92287",
   "metadata": {},
   "source": [
    "## Insights\n",
    "- We have 14330 Observations and 11 Features in the dataset"
   ]
  },
  {
   "cell_type": "markdown",
   "id": "e935a1c6",
   "metadata": {},
   "source": [
    "## Dataset Information\n"
   ]
  },
  {
   "cell_type": "markdown",
   "id": "9862ab80",
   "metadata": {},
   "source": [
    "- Unnamed: 0 = This feature is just like a serial number which is uniquely representing each and every observation.\n",
    "- p_id = It represents the id of fashion product which is uniquely representing each and every product and we will use it to fetch the image of fashion product in the development environment.\n",
    "- name = It represents the title of the fashion product.\n",
    "- price = It represents the price of the product in INR.\n",
    "- colour = It represents the color name used in fashion product.\n",
    "- brand = It represents the brand name of the fashion product.\n",
    "- img = It represents the image URL for the fashion product.\n",
    "- ratingCount = It represents the count of the rating given by the user to that particular fashion product.\n",
    "- avg_rating = It represents the average rating of the fashion product.\n",
    "- description = It represents the brief information regarding fashion product and it contains some of the HTML elements.\n",
    "- p_attributes = It represents the product attributes such as Add-Ons, we have dupatta or not in fashion product stuff like that."
   ]
  },
  {
   "cell_type": "markdown",
   "id": "91a7c878",
   "metadata": {},
   "source": [
    "## Dropping the Index Feature\n",
    "As it will not help in recommendation it just uniquely identifying each and every observation over here in the dataset"
   ]
  },
  {
   "cell_type": "code",
   "execution_count": 5,
   "id": "ea7d1a0f",
   "metadata": {},
   "outputs": [],
   "source": [
    "fashion.drop([\"Unnamed: 0\"],axis=1,inplace=True)"
   ]
  },
  {
   "cell_type": "markdown",
   "id": "84757631",
   "metadata": {},
   "source": [
    "## Checking the existence of missing values"
   ]
  },
  {
   "cell_type": "code",
   "execution_count": 6,
   "id": "250b2c9c",
   "metadata": {},
   "outputs": [
    {
     "data": {
      "text/plain": [
       "p_id              18\n",
       "name              18\n",
       "price             18\n",
       "colour            21\n",
       "brand             18\n",
       "img               18\n",
       "ratingCount     7749\n",
       "avg_rating      7749\n",
       "description       18\n",
       "p_attributes      18\n",
       "dtype: int64"
      ]
     },
     "execution_count": 6,
     "metadata": {},
     "output_type": "execute_result"
    }
   ],
   "source": [
    "fashion.isna().sum()"
   ]
  },
  {
   "cell_type": "markdown",
   "id": "0819bc8f",
   "metadata": {},
   "source": [
    "## There are missing values in the dataset"
   ]
  },
  {
   "cell_type": "code",
   "execution_count": 7,
   "id": "9c529125",
   "metadata": {},
   "outputs": [
    {
     "name": "stdout",
     "output_type": "stream",
     "text": [
      "p_id 0.0013  % missing values\n",
      "name 0.0013  % missing values\n",
      "price 0.0013  % missing values\n",
      "colour 0.0015  % missing values\n",
      "brand 0.0013  % missing values\n",
      "img 0.0013  % missing values\n",
      "ratingCount 0.5408  % missing values\n",
      "avg_rating 0.5408  % missing values\n",
      "description 0.0013  % missing values\n",
      "p_attributes 0.0013  % missing values\n"
     ]
    }
   ],
   "source": [
    "features_with_na=[features for features in fashion.columns if fashion[features].isnull().sum()>1]\n",
    "\n",
    "for feature in features_with_na:\n",
    "    print(feature, np.round(fashion[feature].isnull().mean(), 4),  ' % missing values')"
   ]
  },
  {
   "cell_type": "code",
   "execution_count": 8,
   "id": "81f009d0",
   "metadata": {},
   "outputs": [
    {
     "data": {
      "text/plain": [
       "['p_id',\n",
       " 'name',\n",
       " 'price',\n",
       " 'colour',\n",
       " 'brand',\n",
       " 'img',\n",
       " 'ratingCount',\n",
       " 'avg_rating',\n",
       " 'description',\n",
       " 'p_attributes']"
      ]
     },
     "execution_count": 8,
     "metadata": {},
     "output_type": "execute_result"
    }
   ],
   "source": [
    "features_with_na"
   ]
  },
  {
   "cell_type": "markdown",
   "id": "726274a8",
   "metadata": {},
   "source": [
    "## Planning to deal with missing values"
   ]
  },
  {
   "cell_type": "markdown",
   "id": "db9ba571",
   "metadata": {},
   "source": [
    "- As we are building content based recommendation System so therefore features like ratingCount and avg_rating are not essential for the recommendation purpose so therefore we are dropping them\n",
    "- after dropping them we have very less amount of missing values in remaining features with nan so therefore simply we will drop na because they will not affect the system"
   ]
  },
  {
   "cell_type": "code",
   "execution_count": 9,
   "id": "a49102bb",
   "metadata": {},
   "outputs": [],
   "source": [
    "fashion.drop([\"ratingCount\",\"avg_rating\"],axis=1,inplace=True)"
   ]
  },
  {
   "cell_type": "code",
   "execution_count": 10,
   "id": "5d63ffb8",
   "metadata": {},
   "outputs": [],
   "source": [
    "fashion.dropna(inplace=True)"
   ]
  },
  {
   "cell_type": "code",
   "execution_count": 11,
   "id": "e5c0d0e9",
   "metadata": {},
   "outputs": [
    {
     "data": {
      "text/plain": [
       "p_id            0\n",
       "name            0\n",
       "price           0\n",
       "colour          0\n",
       "brand           0\n",
       "img             0\n",
       "description     0\n",
       "p_attributes    0\n",
       "dtype: int64"
      ]
     },
     "execution_count": 11,
     "metadata": {},
     "output_type": "execute_result"
    }
   ],
   "source": [
    "fashion.isna().sum()"
   ]
  },
  {
   "cell_type": "code",
   "execution_count": 12,
   "id": "ace05c2a",
   "metadata": {},
   "outputs": [
    {
     "data": {
      "text/plain": [
       "(14309, 8)"
      ]
     },
     "execution_count": 12,
     "metadata": {},
     "output_type": "execute_result"
    }
   ],
   "source": [
    "fashion.shape"
   ]
  },
  {
   "cell_type": "markdown",
   "id": "c7e98a69",
   "metadata": {},
   "source": [
    "## Checking the duplicates"
   ]
  },
  {
   "cell_type": "code",
   "execution_count": 13,
   "id": "4c9a24e8",
   "metadata": {},
   "outputs": [
    {
     "data": {
      "text/plain": [
       "44"
      ]
     },
     "execution_count": 13,
     "metadata": {},
     "output_type": "execute_result"
    }
   ],
   "source": [
    "fashion.duplicated().sum()"
   ]
  },
  {
   "cell_type": "code",
   "execution_count": 14,
   "id": "8d88ce74",
   "metadata": {},
   "outputs": [],
   "source": [
    "fashion.drop_duplicates(inplace=True)"
   ]
  },
  {
   "cell_type": "code",
   "execution_count": 15,
   "id": "fa167100",
   "metadata": {},
   "outputs": [
    {
     "data": {
      "text/plain": [
       "0"
      ]
     },
     "execution_count": 15,
     "metadata": {},
     "output_type": "execute_result"
    }
   ],
   "source": [
    "fashion.duplicated().sum()"
   ]
  },
  {
   "cell_type": "code",
   "execution_count": 16,
   "id": "712d9106",
   "metadata": {},
   "outputs": [
    {
     "data": {
      "text/plain": [
       "(14265, 8)"
      ]
     },
     "execution_count": 16,
     "metadata": {},
     "output_type": "execute_result"
    }
   ],
   "source": [
    "fashion.shape"
   ]
  },
  {
   "cell_type": "markdown",
   "id": "f3b59c2f",
   "metadata": {},
   "source": [
    "## Checking data types"
   ]
  },
  {
   "cell_type": "code",
   "execution_count": 17,
   "id": "6cc6e834",
   "metadata": {},
   "outputs": [
    {
     "name": "stdout",
     "output_type": "stream",
     "text": [
      "<class 'pandas.core.frame.DataFrame'>\n",
      "Int64Index: 14265 entries, 0 to 14329\n",
      "Data columns (total 8 columns):\n",
      " #   Column        Non-Null Count  Dtype  \n",
      "---  ------        --------------  -----  \n",
      " 0   p_id          14265 non-null  float64\n",
      " 1   name          14265 non-null  object \n",
      " 2   price         14265 non-null  float64\n",
      " 3   colour        14265 non-null  object \n",
      " 4   brand         14265 non-null  object \n",
      " 5   img           14265 non-null  object \n",
      " 6   description   14265 non-null  object \n",
      " 7   p_attributes  14265 non-null  object \n",
      "dtypes: float64(2), object(6)\n",
      "memory usage: 1003.0+ KB\n"
     ]
    }
   ],
   "source": [
    "fashion.info()"
   ]
  },
  {
   "cell_type": "markdown",
   "id": "4f52f13b",
   "metadata": {},
   "source": [
    "## Checking the number of unique values of each column"
   ]
  },
  {
   "cell_type": "code",
   "execution_count": 18,
   "id": "255f71c8",
   "metadata": {},
   "outputs": [
    {
     "data": {
      "text/plain": [
       "p_id            14220\n",
       "name            13879\n",
       "price            1208\n",
       "colour             49\n",
       "brand            1021\n",
       "img             14220\n",
       "description     14232\n",
       "p_attributes    13094\n",
       "dtype: int64"
      ]
     },
     "execution_count": 18,
     "metadata": {},
     "output_type": "execute_result"
    }
   ],
   "source": [
    "fashion.nunique()"
   ]
  },
  {
   "cell_type": "markdown",
   "id": "d2e6e2e5",
   "metadata": {},
   "source": [
    "## Check statistics of data set"
   ]
  },
  {
   "cell_type": "code",
   "execution_count": 19,
   "id": "31e1e9a7",
   "metadata": {},
   "outputs": [
    {
     "data": {
      "text/html": [
       "<div>\n",
       "<style scoped>\n",
       "    .dataframe tbody tr th:only-of-type {\n",
       "        vertical-align: middle;\n",
       "    }\n",
       "\n",
       "    .dataframe tbody tr th {\n",
       "        vertical-align: top;\n",
       "    }\n",
       "\n",
       "    .dataframe thead th {\n",
       "        text-align: right;\n",
       "    }\n",
       "</style>\n",
       "<table border=\"1\" class=\"dataframe\">\n",
       "  <thead>\n",
       "    <tr style=\"text-align: right;\">\n",
       "      <th></th>\n",
       "      <th>p_id</th>\n",
       "      <th>price</th>\n",
       "    </tr>\n",
       "  </thead>\n",
       "  <tbody>\n",
       "    <tr>\n",
       "      <th>count</th>\n",
       "      <td>1.426500e+04</td>\n",
       "      <td>14265.000000</td>\n",
       "    </tr>\n",
       "    <tr>\n",
       "      <th>mean</th>\n",
       "      <td>1.568854e+07</td>\n",
       "      <td>2967.732072</td>\n",
       "    </tr>\n",
       "    <tr>\n",
       "      <th>std</th>\n",
       "      <td>3.155228e+06</td>\n",
       "      <td>2566.815871</td>\n",
       "    </tr>\n",
       "    <tr>\n",
       "      <th>min</th>\n",
       "      <td>7.016600e+04</td>\n",
       "      <td>169.000000</td>\n",
       "    </tr>\n",
       "    <tr>\n",
       "      <th>25%</th>\n",
       "      <td>1.413618e+07</td>\n",
       "      <td>1599.000000</td>\n",
       "    </tr>\n",
       "    <tr>\n",
       "      <th>50%</th>\n",
       "      <td>1.638203e+07</td>\n",
       "      <td>2200.000000</td>\n",
       "    </tr>\n",
       "    <tr>\n",
       "      <th>75%</th>\n",
       "      <td>1.807605e+07</td>\n",
       "      <td>3497.000000</td>\n",
       "    </tr>\n",
       "    <tr>\n",
       "      <th>max</th>\n",
       "      <td>1.941576e+07</td>\n",
       "      <td>47999.000000</td>\n",
       "    </tr>\n",
       "  </tbody>\n",
       "</table>\n",
       "</div>"
      ],
      "text/plain": [
       "               p_id         price\n",
       "count  1.426500e+04  14265.000000\n",
       "mean   1.568854e+07   2967.732072\n",
       "std    3.155228e+06   2566.815871\n",
       "min    7.016600e+04    169.000000\n",
       "25%    1.413618e+07   1599.000000\n",
       "50%    1.638203e+07   2200.000000\n",
       "75%    1.807605e+07   3497.000000\n",
       "max    1.941576e+07  47999.000000"
      ]
     },
     "execution_count": 19,
     "metadata": {},
     "output_type": "execute_result"
    }
   ],
   "source": [
    "fashion.describe()"
   ]
  },
  {
   "cell_type": "markdown",
   "id": "fcfc0acc",
   "metadata": {},
   "source": [
    "## Insight"
   ]
  },
  {
   "cell_type": "markdown",
   "id": "a96c4ea1",
   "metadata": {},
   "source": [
    "Min price of womens fashion product on myntra is 169 INR and Max is 47999 INR"
   ]
  },
  {
   "cell_type": "code",
   "execution_count": 20,
   "id": "d5b0d30f",
   "metadata": {},
   "outputs": [
    {
     "data": {
      "text/html": [
       "<div>\n",
       "<style scoped>\n",
       "    .dataframe tbody tr th:only-of-type {\n",
       "        vertical-align: middle;\n",
       "    }\n",
       "\n",
       "    .dataframe tbody tr th {\n",
       "        vertical-align: top;\n",
       "    }\n",
       "\n",
       "    .dataframe thead th {\n",
       "        text-align: right;\n",
       "    }\n",
       "</style>\n",
       "<table border=\"1\" class=\"dataframe\">\n",
       "  <thead>\n",
       "    <tr style=\"text-align: right;\">\n",
       "      <th></th>\n",
       "      <th>p_id</th>\n",
       "      <th>name</th>\n",
       "      <th>price</th>\n",
       "      <th>colour</th>\n",
       "      <th>brand</th>\n",
       "      <th>img</th>\n",
       "      <th>description</th>\n",
       "      <th>p_attributes</th>\n",
       "    </tr>\n",
       "  </thead>\n",
       "  <tbody>\n",
       "    <tr>\n",
       "      <th>0</th>\n",
       "      <td>17048614.0</td>\n",
       "      <td>Khushal K Women Black Ethnic Motifs Printed Ku...</td>\n",
       "      <td>5099.0</td>\n",
       "      <td>Black</td>\n",
       "      <td>Khushal K</td>\n",
       "      <td>http://assets.myntassets.com/assets/images/170...</td>\n",
       "      <td>Black printed Kurta with Palazzos with dupatta...</td>\n",
       "      <td>{'Add-Ons': 'NA', 'Body Shape ID': '443,333,32...</td>\n",
       "    </tr>\n",
       "    <tr>\n",
       "      <th>1</th>\n",
       "      <td>16524740.0</td>\n",
       "      <td>InWeave Women Orange Solid Kurta with Palazzos...</td>\n",
       "      <td>5899.0</td>\n",
       "      <td>Orange</td>\n",
       "      <td>InWeave</td>\n",
       "      <td>http://assets.myntassets.com/assets/images/165...</td>\n",
       "      <td>Orange solid Kurta with Palazzos with dupatta&lt;...</td>\n",
       "      <td>{'Add-Ons': 'NA', 'Body Shape ID': '443,333,32...</td>\n",
       "    </tr>\n",
       "  </tbody>\n",
       "</table>\n",
       "</div>"
      ],
      "text/plain": [
       "         p_id                                               name   price  \\\n",
       "0  17048614.0  Khushal K Women Black Ethnic Motifs Printed Ku...  5099.0   \n",
       "1  16524740.0  InWeave Women Orange Solid Kurta with Palazzos...  5899.0   \n",
       "\n",
       "   colour      brand                                                img  \\\n",
       "0   Black  Khushal K  http://assets.myntassets.com/assets/images/170...   \n",
       "1  Orange    InWeave  http://assets.myntassets.com/assets/images/165...   \n",
       "\n",
       "                                         description  \\\n",
       "0  Black printed Kurta with Palazzos with dupatta...   \n",
       "1  Orange solid Kurta with Palazzos with dupatta<...   \n",
       "\n",
       "                                        p_attributes  \n",
       "0  {'Add-Ons': 'NA', 'Body Shape ID': '443,333,32...  \n",
       "1  {'Add-Ons': 'NA', 'Body Shape ID': '443,333,32...  "
      ]
     },
     "execution_count": 20,
     "metadata": {},
     "output_type": "execute_result"
    }
   ],
   "source": [
    "fashion.head(2)"
   ]
  },
  {
   "cell_type": "code",
   "execution_count": 21,
   "id": "b2e5caa1",
   "metadata": {},
   "outputs": [
    {
     "data": {
      "text/plain": [
       "(14265, 8)"
      ]
     },
     "execution_count": 21,
     "metadata": {},
     "output_type": "execute_result"
    }
   ],
   "source": [
    "fashion.shape"
   ]
  },
  {
   "cell_type": "markdown",
   "id": "40dff9df",
   "metadata": {},
   "source": [
    "## Over here we are dealing with description feature"
   ]
  },
  {
   "cell_type": "code",
   "execution_count": 22,
   "id": "a767e8c7",
   "metadata": {},
   "outputs": [
    {
     "data": {
      "text/plain": [
       "\"Black printed Kurta with Palazzos with dupatta <br> <br> <b> Kurta design:  </b> <ul> <li> Ethnic motifs printed </li> <li> Anarkali shape </li> <li> Regular style </li> <li> Mandarin collar,  three-quarter regular sleeves </li> <li> Calf length with flared hem </li> <li> Viscose rayon machine weave fabric </li> </ul> <br> <b> Palazzos design:  </b> <ul> <li> Printed Palazzos </li> <li> Elasticated waistband </li> <li> Slip-on closure </li> </ul>Dupatta Length 2.43 meters Width:&nbsp;88 cm<br>The model (height 5'8) is wearing a size S100% Rayon<br>Machine wash\""
      ]
     },
     "execution_count": 22,
     "metadata": {},
     "output_type": "execute_result"
    }
   ],
   "source": [
    "fashion.iloc[0]['description']"
   ]
  },
  {
   "cell_type": "markdown",
   "id": "00a65656",
   "metadata": {},
   "source": [
    "## We are removing the HTML elements from the description feature over here using regular expressions"
   ]
  },
  {
   "cell_type": "code",
   "execution_count": 23,
   "id": "5cb5a064",
   "metadata": {},
   "outputs": [],
   "source": [
    "import re\n",
    "\n",
    "regex1 = re.compile(r'<[^>]+>')\n",
    "\n",
    "def remove_html(string):\n",
    "    return regex1.sub('', string)\n"
   ]
  },
  {
   "cell_type": "markdown",
   "id": "de0b327f",
   "metadata": {},
   "source": [
    "## Removing &nbsp symbol from the string using regular expression over here"
   ]
  },
  {
   "cell_type": "code",
   "execution_count": 24,
   "id": "8e95fb0b",
   "metadata": {},
   "outputs": [],
   "source": [
    "clean_nbsp = re.compile(r'&.*?;')\n",
    "def remove_nbsp(string):\n",
    "    return clean_nbsp.sub('',string)"
   ]
  },
  {
   "cell_type": "code",
   "execution_count": 25,
   "id": "d70902eb",
   "metadata": {},
   "outputs": [],
   "source": [
    "fashion['description']=fashion['description'].apply(remove_html)\n",
    "fashion['description']=fashion['description'].apply(remove_nbsp)"
   ]
  },
  {
   "cell_type": "code",
   "execution_count": 26,
   "id": "0706fff5",
   "metadata": {
    "scrolled": true
   },
   "outputs": [
    {
     "data": {
      "text/plain": [
       "\"Black printed Kurta with Palazzos with dupatta    Kurta design:     Ethnic motifs printed   Anarkali shape   Regular style   Mandarin collar,  three-quarter regular sleeves   Calf length with flared hem   Viscose rayon machine weave fabric     Palazzos design:     Printed Palazzos   Elasticated waistband   Slip-on closure  Dupatta Length 2.43 meters Width:88 cmThe model (height 5'8) is wearing a size S100% RayonMachine wash\""
      ]
     },
     "execution_count": 26,
     "metadata": {},
     "output_type": "execute_result"
    }
   ],
   "source": [
    "fashion.iloc[0]['description']"
   ]
  },
  {
   "cell_type": "code",
   "execution_count": 27,
   "id": "431a9706",
   "metadata": {},
   "outputs": [
    {
     "data": {
      "text/html": [
       "<div>\n",
       "<style scoped>\n",
       "    .dataframe tbody tr th:only-of-type {\n",
       "        vertical-align: middle;\n",
       "    }\n",
       "\n",
       "    .dataframe tbody tr th {\n",
       "        vertical-align: top;\n",
       "    }\n",
       "\n",
       "    .dataframe thead th {\n",
       "        text-align: right;\n",
       "    }\n",
       "</style>\n",
       "<table border=\"1\" class=\"dataframe\">\n",
       "  <thead>\n",
       "    <tr style=\"text-align: right;\">\n",
       "      <th></th>\n",
       "      <th>p_id</th>\n",
       "      <th>name</th>\n",
       "      <th>price</th>\n",
       "      <th>colour</th>\n",
       "      <th>brand</th>\n",
       "      <th>img</th>\n",
       "      <th>description</th>\n",
       "      <th>p_attributes</th>\n",
       "    </tr>\n",
       "  </thead>\n",
       "  <tbody>\n",
       "    <tr>\n",
       "      <th>0</th>\n",
       "      <td>17048614.0</td>\n",
       "      <td>Khushal K Women Black Ethnic Motifs Printed Ku...</td>\n",
       "      <td>5099.0</td>\n",
       "      <td>Black</td>\n",
       "      <td>Khushal K</td>\n",
       "      <td>http://assets.myntassets.com/assets/images/170...</td>\n",
       "      <td>Black printed Kurta with Palazzos with dupatta...</td>\n",
       "      <td>{'Add-Ons': 'NA', 'Body Shape ID': '443,333,32...</td>\n",
       "    </tr>\n",
       "    <tr>\n",
       "      <th>1</th>\n",
       "      <td>16524740.0</td>\n",
       "      <td>InWeave Women Orange Solid Kurta with Palazzos...</td>\n",
       "      <td>5899.0</td>\n",
       "      <td>Orange</td>\n",
       "      <td>InWeave</td>\n",
       "      <td>http://assets.myntassets.com/assets/images/165...</td>\n",
       "      <td>Orange solid Kurta with Palazzos with dupattaK...</td>\n",
       "      <td>{'Add-Ons': 'NA', 'Body Shape ID': '443,333,32...</td>\n",
       "    </tr>\n",
       "    <tr>\n",
       "      <th>2</th>\n",
       "      <td>16331376.0</td>\n",
       "      <td>Anubhutee Women Navy Blue Ethnic Motifs Embroi...</td>\n",
       "      <td>4899.0</td>\n",
       "      <td>Navy Blue</td>\n",
       "      <td>Anubhutee</td>\n",
       "      <td>http://assets.myntassets.com/assets/images/163...</td>\n",
       "      <td>Navy blue embroidered Kurta with Trousers with...</td>\n",
       "      <td>{'Add-Ons': 'NA', 'Body Shape ID': '333,424', ...</td>\n",
       "    </tr>\n",
       "    <tr>\n",
       "      <th>3</th>\n",
       "      <td>14709966.0</td>\n",
       "      <td>Nayo Women Red Floral Printed Kurta With Trous...</td>\n",
       "      <td>3699.0</td>\n",
       "      <td>Red</td>\n",
       "      <td>Nayo</td>\n",
       "      <td>http://assets.myntassets.com/assets/images/147...</td>\n",
       "      <td>Red printed kurta with trouser and dupattaKurt...</td>\n",
       "      <td>{'Add-Ons': 'NA', 'Body Shape ID': '333,424', ...</td>\n",
       "    </tr>\n",
       "    <tr>\n",
       "      <th>4</th>\n",
       "      <td>11056154.0</td>\n",
       "      <td>AHIKA Women Black &amp; Green Printed Straight Kurta</td>\n",
       "      <td>1350.0</td>\n",
       "      <td>Black</td>\n",
       "      <td>AHIKA</td>\n",
       "      <td>http://assets.myntassets.com/assets/images/110...</td>\n",
       "      <td>Black and green printed straight kurta, has a ...</td>\n",
       "      <td>{'Body Shape ID': '424', 'Body or Garment Size...</td>\n",
       "    </tr>\n",
       "  </tbody>\n",
       "</table>\n",
       "</div>"
      ],
      "text/plain": [
       "         p_id                                               name   price  \\\n",
       "0  17048614.0  Khushal K Women Black Ethnic Motifs Printed Ku...  5099.0   \n",
       "1  16524740.0  InWeave Women Orange Solid Kurta with Palazzos...  5899.0   \n",
       "2  16331376.0  Anubhutee Women Navy Blue Ethnic Motifs Embroi...  4899.0   \n",
       "3  14709966.0  Nayo Women Red Floral Printed Kurta With Trous...  3699.0   \n",
       "4  11056154.0   AHIKA Women Black & Green Printed Straight Kurta  1350.0   \n",
       "\n",
       "      colour      brand                                                img  \\\n",
       "0      Black  Khushal K  http://assets.myntassets.com/assets/images/170...   \n",
       "1     Orange    InWeave  http://assets.myntassets.com/assets/images/165...   \n",
       "2  Navy Blue  Anubhutee  http://assets.myntassets.com/assets/images/163...   \n",
       "3        Red       Nayo  http://assets.myntassets.com/assets/images/147...   \n",
       "4      Black      AHIKA  http://assets.myntassets.com/assets/images/110...   \n",
       "\n",
       "                                         description  \\\n",
       "0  Black printed Kurta with Palazzos with dupatta...   \n",
       "1  Orange solid Kurta with Palazzos with dupattaK...   \n",
       "2  Navy blue embroidered Kurta with Trousers with...   \n",
       "3  Red printed kurta with trouser and dupattaKurt...   \n",
       "4  Black and green printed straight kurta, has a ...   \n",
       "\n",
       "                                        p_attributes  \n",
       "0  {'Add-Ons': 'NA', 'Body Shape ID': '443,333,32...  \n",
       "1  {'Add-Ons': 'NA', 'Body Shape ID': '443,333,32...  \n",
       "2  {'Add-Ons': 'NA', 'Body Shape ID': '333,424', ...  \n",
       "3  {'Add-Ons': 'NA', 'Body Shape ID': '333,424', ...  \n",
       "4  {'Body Shape ID': '424', 'Body or Garment Size...  "
      ]
     },
     "execution_count": 27,
     "metadata": {},
     "output_type": "execute_result"
    }
   ],
   "source": [
    "fashion.head(5)"
   ]
  },
  {
   "cell_type": "markdown",
   "id": "8d45596b",
   "metadata": {},
   "source": [
    "## Converting the description feature into the list over here"
   ]
  },
  {
   "cell_type": "code",
   "execution_count": 29,
   "id": "2cc296ec",
   "metadata": {},
   "outputs": [
    {
     "data": {
      "text/html": [
       "<div>\n",
       "<style scoped>\n",
       "    .dataframe tbody tr th:only-of-type {\n",
       "        vertical-align: middle;\n",
       "    }\n",
       "\n",
       "    .dataframe tbody tr th {\n",
       "        vertical-align: top;\n",
       "    }\n",
       "\n",
       "    .dataframe thead th {\n",
       "        text-align: right;\n",
       "    }\n",
       "</style>\n",
       "<table border=\"1\" class=\"dataframe\">\n",
       "  <thead>\n",
       "    <tr style=\"text-align: right;\">\n",
       "      <th></th>\n",
       "      <th>p_id</th>\n",
       "      <th>name</th>\n",
       "      <th>price</th>\n",
       "      <th>colour</th>\n",
       "      <th>brand</th>\n",
       "      <th>img</th>\n",
       "      <th>description</th>\n",
       "      <th>p_attributes</th>\n",
       "    </tr>\n",
       "  </thead>\n",
       "  <tbody>\n",
       "    <tr>\n",
       "      <th>11658</th>\n",
       "      <td>18213738.0</td>\n",
       "      <td>Saadgi Blue &amp; Gold-Toned Ethnic Motifs Embroid...</td>\n",
       "      <td>2940.0</td>\n",
       "      <td>Blue</td>\n",
       "      <td>Saadgi</td>\n",
       "      <td>http://assets.myntassets.com/assets/images/182...</td>\n",
       "      <td>[Blue, and, gold-toned, ethnic, motifs, embroi...</td>\n",
       "      <td>{'Border': 'Fringed', 'Fabric': 'Net', 'Occasi...</td>\n",
       "    </tr>\n",
       "    <tr>\n",
       "      <th>814</th>\n",
       "      <td>18696872.0</td>\n",
       "      <td>RANGMANCH BY PANTALOONS Women Maroon Ethnic Mo...</td>\n",
       "      <td>799.0</td>\n",
       "      <td>Maroon</td>\n",
       "      <td>RANGMANCH BY PANTALOONS</td>\n",
       "      <td>http://assets.myntassets.com/assets/images/186...</td>\n",
       "      <td>[Colour:, maroon, Ethnic, motifs, printed, Shi...</td>\n",
       "      <td>{'Body Shape ID': '424', 'Body or Garment Size...</td>\n",
       "    </tr>\n",
       "    <tr>\n",
       "      <th>13335</th>\n",
       "      <td>13698360.0</td>\n",
       "      <td>CODE by Lifestyle Women Olive Green &amp; Grey Str...</td>\n",
       "      <td>1499.0</td>\n",
       "      <td>Olive</td>\n",
       "      <td>CODE by Lifestyle</td>\n",
       "      <td>http://assets.myntassets.com/assets/images/pro...</td>\n",
       "      <td>[Olive, Green, striped, open, front, regular, ...</td>\n",
       "      <td>{'Body or Garment Size': 'Garment Measurements...</td>\n",
       "    </tr>\n",
       "    <tr>\n",
       "      <th>8300</th>\n",
       "      <td>17843132.0</td>\n",
       "      <td>House of Pataudi Pink Ethnic Motifs Zari Silk ...</td>\n",
       "      <td>4799.0</td>\n",
       "      <td>Pink</td>\n",
       "      <td>House of Pataudi</td>\n",
       "      <td>http://assets.myntassets.com/assets/images/178...</td>\n",
       "      <td>[Design, Details, Pink, banarasi, sareeEthnic,...</td>\n",
       "      <td>{'Blouse': 'Blouse Piece', 'Blouse Fabric': 'S...</td>\n",
       "    </tr>\n",
       "  </tbody>\n",
       "</table>\n",
       "</div>"
      ],
      "text/plain": [
       "             p_id                                               name   price  \\\n",
       "11658  18213738.0  Saadgi Blue & Gold-Toned Ethnic Motifs Embroid...  2940.0   \n",
       "814    18696872.0  RANGMANCH BY PANTALOONS Women Maroon Ethnic Mo...   799.0   \n",
       "13335  13698360.0  CODE by Lifestyle Women Olive Green & Grey Str...  1499.0   \n",
       "8300   17843132.0  House of Pataudi Pink Ethnic Motifs Zari Silk ...  4799.0   \n",
       "\n",
       "       colour                    brand  \\\n",
       "11658    Blue                   Saadgi   \n",
       "814    Maroon  RANGMANCH BY PANTALOONS   \n",
       "13335   Olive        CODE by Lifestyle   \n",
       "8300     Pink         House of Pataudi   \n",
       "\n",
       "                                                     img  \\\n",
       "11658  http://assets.myntassets.com/assets/images/182...   \n",
       "814    http://assets.myntassets.com/assets/images/186...   \n",
       "13335  http://assets.myntassets.com/assets/images/pro...   \n",
       "8300   http://assets.myntassets.com/assets/images/178...   \n",
       "\n",
       "                                             description  \\\n",
       "11658  [Blue, and, gold-toned, ethnic, motifs, embroi...   \n",
       "814    [Colour:, maroon, Ethnic, motifs, printed, Shi...   \n",
       "13335  [Olive, Green, striped, open, front, regular, ...   \n",
       "8300   [Design, Details, Pink, banarasi, sareeEthnic,...   \n",
       "\n",
       "                                            p_attributes  \n",
       "11658  {'Border': 'Fringed', 'Fabric': 'Net', 'Occasi...  \n",
       "814    {'Body Shape ID': '424', 'Body or Garment Size...  \n",
       "13335  {'Body or Garment Size': 'Garment Measurements...  \n",
       "8300   {'Blouse': 'Blouse Piece', 'Blouse Fabric': 'S...  "
      ]
     },
     "execution_count": 29,
     "metadata": {},
     "output_type": "execute_result"
    }
   ],
   "source": [
    "fashion['description'] = fashion['description'].apply(lambda x:x.split())\n",
    "fashion.sample(4)"
   ]
  },
  {
   "cell_type": "code",
   "execution_count": 30,
   "id": "a0b8f2d0",
   "metadata": {},
   "outputs": [
    {
     "data": {
      "text/plain": [
       "['Black',\n",
       " 'printed',\n",
       " 'Kurta',\n",
       " 'with',\n",
       " 'Palazzos',\n",
       " 'with',\n",
       " 'dupatta',\n",
       " 'Kurta',\n",
       " 'design:',\n",
       " 'Ethnic',\n",
       " 'motifs',\n",
       " 'printed',\n",
       " 'Anarkali',\n",
       " 'shape',\n",
       " 'Regular',\n",
       " 'style',\n",
       " 'Mandarin',\n",
       " 'collar,',\n",
       " 'three-quarter',\n",
       " 'regular',\n",
       " 'sleeves',\n",
       " 'Calf',\n",
       " 'length',\n",
       " 'with',\n",
       " 'flared',\n",
       " 'hem',\n",
       " 'Viscose',\n",
       " 'rayon',\n",
       " 'machine',\n",
       " 'weave',\n",
       " 'fabric',\n",
       " 'Palazzos',\n",
       " 'design:',\n",
       " 'Printed',\n",
       " 'Palazzos',\n",
       " 'Elasticated',\n",
       " 'waistband',\n",
       " 'Slip-on',\n",
       " 'closure',\n",
       " 'Dupatta',\n",
       " 'Length',\n",
       " '2.43',\n",
       " 'meters',\n",
       " 'Width:88',\n",
       " 'cmThe',\n",
       " 'model',\n",
       " '(height',\n",
       " \"5'8)\",\n",
       " 'is',\n",
       " 'wearing',\n",
       " 'a',\n",
       " 'size',\n",
       " 'S100%',\n",
       " 'RayonMachine',\n",
       " 'wash']"
      ]
     },
     "execution_count": 30,
     "metadata": {},
     "output_type": "execute_result"
    }
   ],
   "source": [
    "fashion.iloc[0]['description']"
   ]
  },
  {
   "cell_type": "markdown",
   "id": "3152af96",
   "metadata": {},
   "source": [
    "## Over here we are dealing with product attributes"
   ]
  },
  {
   "cell_type": "code",
   "execution_count": 31,
   "id": "5465be94",
   "metadata": {},
   "outputs": [
    {
     "data": {
      "text/plain": [
       "\"{'Add-Ons': 'NA', 'Body Shape ID': '443,333,324,424', 'Body or Garment Size': 'Garment Measurements in', 'Bottom Closure': 'Slip-On', 'Bottom Fabric': 'Viscose Rayon', 'Bottom Pattern': 'Printed', 'Bottom Type': 'Palazzos', 'Character': 'NA', 'Dupatta': 'With Dupatta', 'Dupatta Border': 'Solid', 'Dupatta Fabric': 'Viscose Rayon', 'Dupatta Pattern': 'Printed', 'Main Trend': 'Indie Prints', 'Neck': 'Mandarin Collar', 'Number of Pockets': 'NA', 'Occasion': 'Festive', 'Ornamentation': 'NA', 'Pattern Coverage': 'Placement', 'Print or Pattern Type': 'Ethnic Motifs', 'Sleeve Length': 'Three-Quarter Sleeves', 'Sleeve Styling': 'Regular Sleeves', 'Slit Detail': 'NA', 'Stitch': 'Ready to Wear', 'Sustainable': 'Regular', 'Technique': 'Screen', 'Top Design Styling': 'Regular', 'Top Fabric': 'Viscose Rayon', 'Top Hemline': 'Flared', 'Top Length': 'Calf Length', 'Top Pattern': 'Printed', 'Top Shape': 'Anarkali', 'Top Type': 'Kurta', 'Waistband': 'Elasticated', 'Wash Care': 'Machine Wash', 'Weave Pattern': 'Regular', 'Weave Type': 'Machine Weave'}\""
      ]
     },
     "execution_count": 31,
     "metadata": {},
     "output_type": "execute_result"
    }
   ],
   "source": [
    "fashion.iloc[0]['p_attributes']"
   ]
  },
  {
   "cell_type": "markdown",
   "id": "49aea018",
   "metadata": {},
   "source": [
    "## Converting the dict into list"
   ]
  },
  {
   "cell_type": "code",
   "execution_count": 32,
   "id": "6cf413af",
   "metadata": {},
   "outputs": [],
   "source": [
    "import ast\n",
    "def dict_to_list(input_string):\n",
    "    input_dict = ast.literal_eval(input_string)\n",
    "    return list(input_dict.values())"
   ]
  },
  {
   "cell_type": "code",
   "execution_count": 33,
   "id": "798ceb50",
   "metadata": {},
   "outputs": [],
   "source": [
    "fashion['p_attributes'] = fashion['p_attributes'].apply(dict_to_list)\n"
   ]
  },
  {
   "cell_type": "code",
   "execution_count": 34,
   "id": "c29d8456",
   "metadata": {},
   "outputs": [
    {
     "data": {
      "text/html": [
       "<div>\n",
       "<style scoped>\n",
       "    .dataframe tbody tr th:only-of-type {\n",
       "        vertical-align: middle;\n",
       "    }\n",
       "\n",
       "    .dataframe tbody tr th {\n",
       "        vertical-align: top;\n",
       "    }\n",
       "\n",
       "    .dataframe thead th {\n",
       "        text-align: right;\n",
       "    }\n",
       "</style>\n",
       "<table border=\"1\" class=\"dataframe\">\n",
       "  <thead>\n",
       "    <tr style=\"text-align: right;\">\n",
       "      <th></th>\n",
       "      <th>p_id</th>\n",
       "      <th>name</th>\n",
       "      <th>price</th>\n",
       "      <th>colour</th>\n",
       "      <th>brand</th>\n",
       "      <th>img</th>\n",
       "      <th>description</th>\n",
       "      <th>p_attributes</th>\n",
       "    </tr>\n",
       "  </thead>\n",
       "  <tbody>\n",
       "    <tr>\n",
       "      <th>0</th>\n",
       "      <td>17048614.0</td>\n",
       "      <td>Khushal K Women Black Ethnic Motifs Printed Ku...</td>\n",
       "      <td>5099.0</td>\n",
       "      <td>Black</td>\n",
       "      <td>Khushal K</td>\n",
       "      <td>http://assets.myntassets.com/assets/images/170...</td>\n",
       "      <td>[Black, printed, Kurta, with, Palazzos, with, ...</td>\n",
       "      <td>[NA, 443,333,324,424, Garment Measurements in,...</td>\n",
       "    </tr>\n",
       "    <tr>\n",
       "      <th>1</th>\n",
       "      <td>16524740.0</td>\n",
       "      <td>InWeave Women Orange Solid Kurta with Palazzos...</td>\n",
       "      <td>5899.0</td>\n",
       "      <td>Orange</td>\n",
       "      <td>InWeave</td>\n",
       "      <td>http://assets.myntassets.com/assets/images/165...</td>\n",
       "      <td>[Orange, solid, Kurta, with, Palazzos, with, d...</td>\n",
       "      <td>[NA, 443,333,324,424, Garment Measurements in,...</td>\n",
       "    </tr>\n",
       "    <tr>\n",
       "      <th>2</th>\n",
       "      <td>16331376.0</td>\n",
       "      <td>Anubhutee Women Navy Blue Ethnic Motifs Embroi...</td>\n",
       "      <td>4899.0</td>\n",
       "      <td>Navy Blue</td>\n",
       "      <td>Anubhutee</td>\n",
       "      <td>http://assets.myntassets.com/assets/images/163...</td>\n",
       "      <td>[Navy, blue, embroidered, Kurta, with, Trouser...</td>\n",
       "      <td>[NA, 333,424, Garment Measurements in, Slip-On...</td>\n",
       "    </tr>\n",
       "    <tr>\n",
       "      <th>3</th>\n",
       "      <td>14709966.0</td>\n",
       "      <td>Nayo Women Red Floral Printed Kurta With Trous...</td>\n",
       "      <td>3699.0</td>\n",
       "      <td>Red</td>\n",
       "      <td>Nayo</td>\n",
       "      <td>http://assets.myntassets.com/assets/images/147...</td>\n",
       "      <td>[Red, printed, kurta, with, trouser, and, dupa...</td>\n",
       "      <td>[NA, 333,424, Garment Measurements in, Slip-On...</td>\n",
       "    </tr>\n",
       "    <tr>\n",
       "      <th>4</th>\n",
       "      <td>11056154.0</td>\n",
       "      <td>AHIKA Women Black &amp; Green Printed Straight Kurta</td>\n",
       "      <td>1350.0</td>\n",
       "      <td>Black</td>\n",
       "      <td>AHIKA</td>\n",
       "      <td>http://assets.myntassets.com/assets/images/110...</td>\n",
       "      <td>[Black, and, green, printed, straight, kurta,,...</td>\n",
       "      <td>[424, Garment Measurements in, Monochrome, Reg...</td>\n",
       "    </tr>\n",
       "    <tr>\n",
       "      <th>...</th>\n",
       "      <td>...</td>\n",
       "      <td>...</td>\n",
       "      <td>...</td>\n",
       "      <td>...</td>\n",
       "      <td>...</td>\n",
       "      <td>...</td>\n",
       "      <td>...</td>\n",
       "      <td>...</td>\n",
       "    </tr>\n",
       "    <tr>\n",
       "      <th>14325</th>\n",
       "      <td>15415116.0</td>\n",
       "      <td>Flying Machine Women Blue Solid Mock-Collar Fr...</td>\n",
       "      <td>2299.0</td>\n",
       "      <td>Blue</td>\n",
       "      <td>Flying Machine</td>\n",
       "      <td>http://assets.myntassets.com/assets/images/154...</td>\n",
       "      <td>[Blue, solid, front-open, sweatshirt, has, a, ...</td>\n",
       "      <td>[443,424,324, Garment Measurements in, Yes, NA...</td>\n",
       "    </tr>\n",
       "    <tr>\n",
       "      <th>14326</th>\n",
       "      <td>16470114.0</td>\n",
       "      <td>Juelle Women Green Printed Hooded Sweatshirt</td>\n",
       "      <td>2299.0</td>\n",
       "      <td>Green</td>\n",
       "      <td>Juelle</td>\n",
       "      <td>http://assets.myntassets.com/assets/images/164...</td>\n",
       "      <td>[Green, printed, sweatshirt, has, a, hooded,, ...</td>\n",
       "      <td>[443,424,324, Garment Measurements in, No, NA,...</td>\n",
       "    </tr>\n",
       "    <tr>\n",
       "      <th>14327</th>\n",
       "      <td>16382150.0</td>\n",
       "      <td>Vero Moda Women Pink Sweatshirt</td>\n",
       "      <td>2299.0</td>\n",
       "      <td>Pink</td>\n",
       "      <td>Vero Moda</td>\n",
       "      <td>http://assets.myntassets.com/assets/images/163...</td>\n",
       "      <td>[Pink, solid, sweatshirt, has, a, mock, collar...</td>\n",
       "      <td>[443,424,324, To-Fit Denotes Body Measurements...</td>\n",
       "    </tr>\n",
       "    <tr>\n",
       "      <th>14328</th>\n",
       "      <td>16379664.0</td>\n",
       "      <td>Vero Moda Women Blue Sweatshirt</td>\n",
       "      <td>2299.0</td>\n",
       "      <td>Blue</td>\n",
       "      <td>Vero Moda</td>\n",
       "      <td>http://assets.myntassets.com/assets/images/163...</td>\n",
       "      <td>[Blue, solid, sweatshirt, has, a, round, neck,...</td>\n",
       "      <td>[443,424,324, To-Fit Denotes Body Measurements...</td>\n",
       "    </tr>\n",
       "    <tr>\n",
       "      <th>14329</th>\n",
       "      <td>16379656.0</td>\n",
       "      <td>Vero Moda Women Grey &amp; Green Colourblocked Swe...</td>\n",
       "      <td>2299.0</td>\n",
       "      <td>Grey</td>\n",
       "      <td>Vero Moda</td>\n",
       "      <td>http://assets.myntassets.com/assets/images/163...</td>\n",
       "      <td>[Grey, and, green, colourblocked, sweatshirt, ...</td>\n",
       "      <td>[443,424,324, To-Fit Denotes Body Measurements...</td>\n",
       "    </tr>\n",
       "  </tbody>\n",
       "</table>\n",
       "<p>14265 rows × 8 columns</p>\n",
       "</div>"
      ],
      "text/plain": [
       "             p_id                                               name   price  \\\n",
       "0      17048614.0  Khushal K Women Black Ethnic Motifs Printed Ku...  5099.0   \n",
       "1      16524740.0  InWeave Women Orange Solid Kurta with Palazzos...  5899.0   \n",
       "2      16331376.0  Anubhutee Women Navy Blue Ethnic Motifs Embroi...  4899.0   \n",
       "3      14709966.0  Nayo Women Red Floral Printed Kurta With Trous...  3699.0   \n",
       "4      11056154.0   AHIKA Women Black & Green Printed Straight Kurta  1350.0   \n",
       "...           ...                                                ...     ...   \n",
       "14325  15415116.0  Flying Machine Women Blue Solid Mock-Collar Fr...  2299.0   \n",
       "14326  16470114.0       Juelle Women Green Printed Hooded Sweatshirt  2299.0   \n",
       "14327  16382150.0                    Vero Moda Women Pink Sweatshirt  2299.0   \n",
       "14328  16379664.0                    Vero Moda Women Blue Sweatshirt  2299.0   \n",
       "14329  16379656.0  Vero Moda Women Grey & Green Colourblocked Swe...  2299.0   \n",
       "\n",
       "          colour           brand  \\\n",
       "0          Black       Khushal K   \n",
       "1         Orange         InWeave   \n",
       "2      Navy Blue       Anubhutee   \n",
       "3            Red            Nayo   \n",
       "4          Black           AHIKA   \n",
       "...          ...             ...   \n",
       "14325       Blue  Flying Machine   \n",
       "14326      Green          Juelle   \n",
       "14327       Pink       Vero Moda   \n",
       "14328       Blue       Vero Moda   \n",
       "14329       Grey       Vero Moda   \n",
       "\n",
       "                                                     img  \\\n",
       "0      http://assets.myntassets.com/assets/images/170...   \n",
       "1      http://assets.myntassets.com/assets/images/165...   \n",
       "2      http://assets.myntassets.com/assets/images/163...   \n",
       "3      http://assets.myntassets.com/assets/images/147...   \n",
       "4      http://assets.myntassets.com/assets/images/110...   \n",
       "...                                                  ...   \n",
       "14325  http://assets.myntassets.com/assets/images/154...   \n",
       "14326  http://assets.myntassets.com/assets/images/164...   \n",
       "14327  http://assets.myntassets.com/assets/images/163...   \n",
       "14328  http://assets.myntassets.com/assets/images/163...   \n",
       "14329  http://assets.myntassets.com/assets/images/163...   \n",
       "\n",
       "                                             description  \\\n",
       "0      [Black, printed, Kurta, with, Palazzos, with, ...   \n",
       "1      [Orange, solid, Kurta, with, Palazzos, with, d...   \n",
       "2      [Navy, blue, embroidered, Kurta, with, Trouser...   \n",
       "3      [Red, printed, kurta, with, trouser, and, dupa...   \n",
       "4      [Black, and, green, printed, straight, kurta,,...   \n",
       "...                                                  ...   \n",
       "14325  [Blue, solid, front-open, sweatshirt, has, a, ...   \n",
       "14326  [Green, printed, sweatshirt, has, a, hooded,, ...   \n",
       "14327  [Pink, solid, sweatshirt, has, a, mock, collar...   \n",
       "14328  [Blue, solid, sweatshirt, has, a, round, neck,...   \n",
       "14329  [Grey, and, green, colourblocked, sweatshirt, ...   \n",
       "\n",
       "                                            p_attributes  \n",
       "0      [NA, 443,333,324,424, Garment Measurements in,...  \n",
       "1      [NA, 443,333,324,424, Garment Measurements in,...  \n",
       "2      [NA, 333,424, Garment Measurements in, Slip-On...  \n",
       "3      [NA, 333,424, Garment Measurements in, Slip-On...  \n",
       "4      [424, Garment Measurements in, Monochrome, Reg...  \n",
       "...                                                  ...  \n",
       "14325  [443,424,324, Garment Measurements in, Yes, NA...  \n",
       "14326  [443,424,324, Garment Measurements in, No, NA,...  \n",
       "14327  [443,424,324, To-Fit Denotes Body Measurements...  \n",
       "14328  [443,424,324, To-Fit Denotes Body Measurements...  \n",
       "14329  [443,424,324, To-Fit Denotes Body Measurements...  \n",
       "\n",
       "[14265 rows x 8 columns]"
      ]
     },
     "execution_count": 34,
     "metadata": {},
     "output_type": "execute_result"
    }
   ],
   "source": [
    "fashion"
   ]
  },
  {
   "cell_type": "code",
   "execution_count": 35,
   "id": "c9f57719",
   "metadata": {},
   "outputs": [
    {
     "data": {
      "text/plain": [
       "['NA',\n",
       " '443,333,324,424',\n",
       " 'Garment Measurements in',\n",
       " 'Slip-On',\n",
       " 'Viscose Rayon',\n",
       " 'Printed',\n",
       " 'Palazzos',\n",
       " 'NA',\n",
       " 'With Dupatta',\n",
       " 'Solid',\n",
       " 'Viscose Rayon',\n",
       " 'Printed',\n",
       " 'Indie Prints',\n",
       " 'Mandarin Collar',\n",
       " 'NA',\n",
       " 'Festive',\n",
       " 'NA',\n",
       " 'Placement',\n",
       " 'Ethnic Motifs',\n",
       " 'Three-Quarter Sleeves',\n",
       " 'Regular Sleeves',\n",
       " 'NA',\n",
       " 'Ready to Wear',\n",
       " 'Regular',\n",
       " 'Screen',\n",
       " 'Regular',\n",
       " 'Viscose Rayon',\n",
       " 'Flared',\n",
       " 'Calf Length',\n",
       " 'Printed',\n",
       " 'Anarkali',\n",
       " 'Kurta',\n",
       " 'Elasticated',\n",
       " 'Machine Wash',\n",
       " 'Regular',\n",
       " 'Machine Weave']"
      ]
     },
     "execution_count": 35,
     "metadata": {},
     "output_type": "execute_result"
    }
   ],
   "source": [
    "fashion.iloc[0]['p_attributes']"
   ]
  },
  {
   "cell_type": "code",
   "execution_count": 36,
   "id": "8fa2fad0",
   "metadata": {},
   "outputs": [
    {
     "data": {
      "text/plain": [
       "0        [NA, 443,333,324,424, Garment Measurements in,...\n",
       "1        [NA, 443,333,324,424, Garment Measurements in,...\n",
       "2        [NA, 333,424, Garment Measurements in, Slip-On...\n",
       "3        [NA, 333,424, Garment Measurements in, Slip-On...\n",
       "4        [424, Garment Measurements in, Monochrome, Reg...\n",
       "                               ...                        \n",
       "14325    [443,424,324, Garment Measurements in, Yes, NA...\n",
       "14326    [443,424,324, Garment Measurements in, No, NA,...\n",
       "14327    [443,424,324, To-Fit Denotes Body Measurements...\n",
       "14328    [443,424,324, To-Fit Denotes Body Measurements...\n",
       "14329    [443,424,324, To-Fit Denotes Body Measurements...\n",
       "Name: p_attributes, Length: 14265, dtype: object"
      ]
     },
     "execution_count": 36,
     "metadata": {},
     "output_type": "execute_result"
    }
   ],
   "source": [
    "fashion['p_attributes']"
   ]
  },
  {
   "cell_type": "code",
   "execution_count": 37,
   "id": "dd439711",
   "metadata": {},
   "outputs": [
    {
     "data": {
      "text/plain": [
       "0        [Black, printed, Kurta, with, Palazzos, with, ...\n",
       "1        [Orange, solid, Kurta, with, Palazzos, with, d...\n",
       "2        [Navy, blue, embroidered, Kurta, with, Trouser...\n",
       "3        [Red, printed, kurta, with, trouser, and, dupa...\n",
       "4        [Black, and, green, printed, straight, kurta,,...\n",
       "                               ...                        \n",
       "14325    [Blue, solid, front-open, sweatshirt, has, a, ...\n",
       "14326    [Green, printed, sweatshirt, has, a, hooded,, ...\n",
       "14327    [Pink, solid, sweatshirt, has, a, mock, collar...\n",
       "14328    [Blue, solid, sweatshirt, has, a, round, neck,...\n",
       "14329    [Grey, and, green, colourblocked, sweatshirt, ...\n",
       "Name: description, Length: 14265, dtype: object"
      ]
     },
     "execution_count": 37,
     "metadata": {},
     "output_type": "execute_result"
    }
   ],
   "source": [
    "fashion['description']"
   ]
  },
  {
   "cell_type": "code",
   "execution_count": 38,
   "id": "59e47921",
   "metadata": {},
   "outputs": [
    {
     "data": {
      "text/html": [
       "<div>\n",
       "<style scoped>\n",
       "    .dataframe tbody tr th:only-of-type {\n",
       "        vertical-align: middle;\n",
       "    }\n",
       "\n",
       "    .dataframe tbody tr th {\n",
       "        vertical-align: top;\n",
       "    }\n",
       "\n",
       "    .dataframe thead th {\n",
       "        text-align: right;\n",
       "    }\n",
       "</style>\n",
       "<table border=\"1\" class=\"dataframe\">\n",
       "  <thead>\n",
       "    <tr style=\"text-align: right;\">\n",
       "      <th></th>\n",
       "      <th>p_id</th>\n",
       "      <th>name</th>\n",
       "      <th>price</th>\n",
       "      <th>colour</th>\n",
       "      <th>brand</th>\n",
       "      <th>img</th>\n",
       "      <th>description</th>\n",
       "      <th>p_attributes</th>\n",
       "    </tr>\n",
       "  </thead>\n",
       "  <tbody>\n",
       "    <tr>\n",
       "      <th>0</th>\n",
       "      <td>17048614.0</td>\n",
       "      <td>Khushal K Women Black Ethnic Motifs Printed Ku...</td>\n",
       "      <td>5099.0</td>\n",
       "      <td>Black</td>\n",
       "      <td>Khushal K</td>\n",
       "      <td>http://assets.myntassets.com/assets/images/170...</td>\n",
       "      <td>[Black, printed, Kurta, with, Palazzos, with, ...</td>\n",
       "      <td>[NA, 443,333,324,424, Garment Measurements in,...</td>\n",
       "    </tr>\n",
       "    <tr>\n",
       "      <th>1</th>\n",
       "      <td>16524740.0</td>\n",
       "      <td>InWeave Women Orange Solid Kurta with Palazzos...</td>\n",
       "      <td>5899.0</td>\n",
       "      <td>Orange</td>\n",
       "      <td>InWeave</td>\n",
       "      <td>http://assets.myntassets.com/assets/images/165...</td>\n",
       "      <td>[Orange, solid, Kurta, with, Palazzos, with, d...</td>\n",
       "      <td>[NA, 443,333,324,424, Garment Measurements in,...</td>\n",
       "    </tr>\n",
       "  </tbody>\n",
       "</table>\n",
       "</div>"
      ],
      "text/plain": [
       "         p_id                                               name   price  \\\n",
       "0  17048614.0  Khushal K Women Black Ethnic Motifs Printed Ku...  5099.0   \n",
       "1  16524740.0  InWeave Women Orange Solid Kurta with Palazzos...  5899.0   \n",
       "\n",
       "   colour      brand                                                img  \\\n",
       "0   Black  Khushal K  http://assets.myntassets.com/assets/images/170...   \n",
       "1  Orange    InWeave  http://assets.myntassets.com/assets/images/165...   \n",
       "\n",
       "                                         description  \\\n",
       "0  [Black, printed, Kurta, with, Palazzos, with, ...   \n",
       "1  [Orange, solid, Kurta, with, Palazzos, with, d...   \n",
       "\n",
       "                                        p_attributes  \n",
       "0  [NA, 443,333,324,424, Garment Measurements in,...  \n",
       "1  [NA, 443,333,324,424, Garment Measurements in,...  "
      ]
     },
     "execution_count": 38,
     "metadata": {},
     "output_type": "execute_result"
    }
   ],
   "source": [
    "fashion.head(2)"
   ]
  },
  {
   "cell_type": "markdown",
   "id": "0c1b614a",
   "metadata": {},
   "source": [
    "## Converting the price into float catentation purpose"
   ]
  },
  {
   "cell_type": "code",
   "execution_count": 39,
   "id": "fdc679e0",
   "metadata": {},
   "outputs": [],
   "source": [
    "def convert_float_to_string(input_float):\n",
    "\n",
    "    return str(input_float)\n"
   ]
  },
  {
   "cell_type": "code",
   "execution_count": 40,
   "id": "ad37aaf0",
   "metadata": {},
   "outputs": [],
   "source": [
    "fashion['price'] = fashion['price'].apply(convert_float_to_string)\n"
   ]
  },
  {
   "cell_type": "markdown",
   "id": "1cb430f3",
   "metadata": {},
   "source": [
    "## Converting colour, brand and price into list over here"
   ]
  },
  {
   "cell_type": "code",
   "execution_count": 41,
   "id": "486a8c76",
   "metadata": {},
   "outputs": [],
   "source": [
    "def convert_string_to_list(input_string):\n",
    "    word_list = input_string.split()\n",
    "    return word_list\n"
   ]
  },
  {
   "cell_type": "code",
   "execution_count": 42,
   "id": "9012883a",
   "metadata": {},
   "outputs": [],
   "source": [
    "fashion['colour'] = fashion['colour'].apply(convert_string_to_list)\n",
    "fashion['brand'] = fashion['brand'].apply(convert_string_to_list)\n",
    "fashion['price'] = fashion['price'].apply(convert_string_to_list)\n"
   ]
  },
  {
   "cell_type": "code",
   "execution_count": 43,
   "id": "4aa5430e",
   "metadata": {},
   "outputs": [
    {
     "data": {
      "text/html": [
       "<div>\n",
       "<style scoped>\n",
       "    .dataframe tbody tr th:only-of-type {\n",
       "        vertical-align: middle;\n",
       "    }\n",
       "\n",
       "    .dataframe tbody tr th {\n",
       "        vertical-align: top;\n",
       "    }\n",
       "\n",
       "    .dataframe thead th {\n",
       "        text-align: right;\n",
       "    }\n",
       "</style>\n",
       "<table border=\"1\" class=\"dataframe\">\n",
       "  <thead>\n",
       "    <tr style=\"text-align: right;\">\n",
       "      <th></th>\n",
       "      <th>p_id</th>\n",
       "      <th>name</th>\n",
       "      <th>price</th>\n",
       "      <th>colour</th>\n",
       "      <th>brand</th>\n",
       "      <th>img</th>\n",
       "      <th>description</th>\n",
       "      <th>p_attributes</th>\n",
       "    </tr>\n",
       "  </thead>\n",
       "  <tbody>\n",
       "    <tr>\n",
       "      <th>0</th>\n",
       "      <td>17048614.0</td>\n",
       "      <td>Khushal K Women Black Ethnic Motifs Printed Ku...</td>\n",
       "      <td>[5099.0]</td>\n",
       "      <td>[Black]</td>\n",
       "      <td>[Khushal, K]</td>\n",
       "      <td>http://assets.myntassets.com/assets/images/170...</td>\n",
       "      <td>[Black, printed, Kurta, with, Palazzos, with, ...</td>\n",
       "      <td>[NA, 443,333,324,424, Garment Measurements in,...</td>\n",
       "    </tr>\n",
       "    <tr>\n",
       "      <th>1</th>\n",
       "      <td>16524740.0</td>\n",
       "      <td>InWeave Women Orange Solid Kurta with Palazzos...</td>\n",
       "      <td>[5899.0]</td>\n",
       "      <td>[Orange]</td>\n",
       "      <td>[InWeave]</td>\n",
       "      <td>http://assets.myntassets.com/assets/images/165...</td>\n",
       "      <td>[Orange, solid, Kurta, with, Palazzos, with, d...</td>\n",
       "      <td>[NA, 443,333,324,424, Garment Measurements in,...</td>\n",
       "    </tr>\n",
       "  </tbody>\n",
       "</table>\n",
       "</div>"
      ],
      "text/plain": [
       "         p_id                                               name     price  \\\n",
       "0  17048614.0  Khushal K Women Black Ethnic Motifs Printed Ku...  [5099.0]   \n",
       "1  16524740.0  InWeave Women Orange Solid Kurta with Palazzos...  [5899.0]   \n",
       "\n",
       "     colour         brand                                                img  \\\n",
       "0   [Black]  [Khushal, K]  http://assets.myntassets.com/assets/images/170...   \n",
       "1  [Orange]     [InWeave]  http://assets.myntassets.com/assets/images/165...   \n",
       "\n",
       "                                         description  \\\n",
       "0  [Black, printed, Kurta, with, Palazzos, with, ...   \n",
       "1  [Orange, solid, Kurta, with, Palazzos, with, d...   \n",
       "\n",
       "                                        p_attributes  \n",
       "0  [NA, 443,333,324,424, Garment Measurements in,...  \n",
       "1  [NA, 443,333,324,424, Garment Measurements in,...  "
      ]
     },
     "execution_count": 43,
     "metadata": {},
     "output_type": "execute_result"
    }
   ],
   "source": [
    "fashion.head(2)"
   ]
  },
  {
   "cell_type": "markdown",
   "id": "cb2f0cec",
   "metadata": {},
   "source": [
    "## Performing Concatentation to get a single feature called as tags with all the information regarding the fashion product"
   ]
  },
  {
   "cell_type": "code",
   "execution_count": 44,
   "id": "d300d504",
   "metadata": {},
   "outputs": [],
   "source": [
    "fashion['tags'] = fashion['price'] + fashion['colour'] + fashion['brand'] + fashion['description'] + fashion['p_attributes']\n"
   ]
  },
  {
   "cell_type": "code",
   "execution_count": 45,
   "id": "8b133323",
   "metadata": {},
   "outputs": [
    {
     "data": {
      "text/html": [
       "<div>\n",
       "<style scoped>\n",
       "    .dataframe tbody tr th:only-of-type {\n",
       "        vertical-align: middle;\n",
       "    }\n",
       "\n",
       "    .dataframe tbody tr th {\n",
       "        vertical-align: top;\n",
       "    }\n",
       "\n",
       "    .dataframe thead th {\n",
       "        text-align: right;\n",
       "    }\n",
       "</style>\n",
       "<table border=\"1\" class=\"dataframe\">\n",
       "  <thead>\n",
       "    <tr style=\"text-align: right;\">\n",
       "      <th></th>\n",
       "      <th>p_id</th>\n",
       "      <th>name</th>\n",
       "      <th>price</th>\n",
       "      <th>colour</th>\n",
       "      <th>brand</th>\n",
       "      <th>img</th>\n",
       "      <th>description</th>\n",
       "      <th>p_attributes</th>\n",
       "      <th>tags</th>\n",
       "    </tr>\n",
       "  </thead>\n",
       "  <tbody>\n",
       "    <tr>\n",
       "      <th>0</th>\n",
       "      <td>17048614.0</td>\n",
       "      <td>Khushal K Women Black Ethnic Motifs Printed Ku...</td>\n",
       "      <td>[5099.0]</td>\n",
       "      <td>[Black]</td>\n",
       "      <td>[Khushal, K]</td>\n",
       "      <td>http://assets.myntassets.com/assets/images/170...</td>\n",
       "      <td>[Black, printed, Kurta, with, Palazzos, with, ...</td>\n",
       "      <td>[NA, 443,333,324,424, Garment Measurements in,...</td>\n",
       "      <td>[5099.0, Black, Khushal, K, Black, printed, Ku...</td>\n",
       "    </tr>\n",
       "    <tr>\n",
       "      <th>1</th>\n",
       "      <td>16524740.0</td>\n",
       "      <td>InWeave Women Orange Solid Kurta with Palazzos...</td>\n",
       "      <td>[5899.0]</td>\n",
       "      <td>[Orange]</td>\n",
       "      <td>[InWeave]</td>\n",
       "      <td>http://assets.myntassets.com/assets/images/165...</td>\n",
       "      <td>[Orange, solid, Kurta, with, Palazzos, with, d...</td>\n",
       "      <td>[NA, 443,333,324,424, Garment Measurements in,...</td>\n",
       "      <td>[5899.0, Orange, InWeave, Orange, solid, Kurta...</td>\n",
       "    </tr>\n",
       "    <tr>\n",
       "      <th>2</th>\n",
       "      <td>16331376.0</td>\n",
       "      <td>Anubhutee Women Navy Blue Ethnic Motifs Embroi...</td>\n",
       "      <td>[4899.0]</td>\n",
       "      <td>[Navy, Blue]</td>\n",
       "      <td>[Anubhutee]</td>\n",
       "      <td>http://assets.myntassets.com/assets/images/163...</td>\n",
       "      <td>[Navy, blue, embroidered, Kurta, with, Trouser...</td>\n",
       "      <td>[NA, 333,424, Garment Measurements in, Slip-On...</td>\n",
       "      <td>[4899.0, Navy, Blue, Anubhutee, Navy, blue, em...</td>\n",
       "    </tr>\n",
       "    <tr>\n",
       "      <th>3</th>\n",
       "      <td>14709966.0</td>\n",
       "      <td>Nayo Women Red Floral Printed Kurta With Trous...</td>\n",
       "      <td>[3699.0]</td>\n",
       "      <td>[Red]</td>\n",
       "      <td>[Nayo]</td>\n",
       "      <td>http://assets.myntassets.com/assets/images/147...</td>\n",
       "      <td>[Red, printed, kurta, with, trouser, and, dupa...</td>\n",
       "      <td>[NA, 333,424, Garment Measurements in, Slip-On...</td>\n",
       "      <td>[3699.0, Red, Nayo, Red, printed, kurta, with,...</td>\n",
       "    </tr>\n",
       "    <tr>\n",
       "      <th>4</th>\n",
       "      <td>11056154.0</td>\n",
       "      <td>AHIKA Women Black &amp; Green Printed Straight Kurta</td>\n",
       "      <td>[1350.0]</td>\n",
       "      <td>[Black]</td>\n",
       "      <td>[AHIKA]</td>\n",
       "      <td>http://assets.myntassets.com/assets/images/110...</td>\n",
       "      <td>[Black, and, green, printed, straight, kurta,,...</td>\n",
       "      <td>[424, Garment Measurements in, Monochrome, Reg...</td>\n",
       "      <td>[1350.0, Black, AHIKA, Black, and, green, prin...</td>\n",
       "    </tr>\n",
       "  </tbody>\n",
       "</table>\n",
       "</div>"
      ],
      "text/plain": [
       "         p_id                                               name     price  \\\n",
       "0  17048614.0  Khushal K Women Black Ethnic Motifs Printed Ku...  [5099.0]   \n",
       "1  16524740.0  InWeave Women Orange Solid Kurta with Palazzos...  [5899.0]   \n",
       "2  16331376.0  Anubhutee Women Navy Blue Ethnic Motifs Embroi...  [4899.0]   \n",
       "3  14709966.0  Nayo Women Red Floral Printed Kurta With Trous...  [3699.0]   \n",
       "4  11056154.0   AHIKA Women Black & Green Printed Straight Kurta  [1350.0]   \n",
       "\n",
       "         colour         brand  \\\n",
       "0       [Black]  [Khushal, K]   \n",
       "1      [Orange]     [InWeave]   \n",
       "2  [Navy, Blue]   [Anubhutee]   \n",
       "3         [Red]        [Nayo]   \n",
       "4       [Black]       [AHIKA]   \n",
       "\n",
       "                                                 img  \\\n",
       "0  http://assets.myntassets.com/assets/images/170...   \n",
       "1  http://assets.myntassets.com/assets/images/165...   \n",
       "2  http://assets.myntassets.com/assets/images/163...   \n",
       "3  http://assets.myntassets.com/assets/images/147...   \n",
       "4  http://assets.myntassets.com/assets/images/110...   \n",
       "\n",
       "                                         description  \\\n",
       "0  [Black, printed, Kurta, with, Palazzos, with, ...   \n",
       "1  [Orange, solid, Kurta, with, Palazzos, with, d...   \n",
       "2  [Navy, blue, embroidered, Kurta, with, Trouser...   \n",
       "3  [Red, printed, kurta, with, trouser, and, dupa...   \n",
       "4  [Black, and, green, printed, straight, kurta,,...   \n",
       "\n",
       "                                        p_attributes  \\\n",
       "0  [NA, 443,333,324,424, Garment Measurements in,...   \n",
       "1  [NA, 443,333,324,424, Garment Measurements in,...   \n",
       "2  [NA, 333,424, Garment Measurements in, Slip-On...   \n",
       "3  [NA, 333,424, Garment Measurements in, Slip-On...   \n",
       "4  [424, Garment Measurements in, Monochrome, Reg...   \n",
       "\n",
       "                                                tags  \n",
       "0  [5099.0, Black, Khushal, K, Black, printed, Ku...  \n",
       "1  [5899.0, Orange, InWeave, Orange, solid, Kurta...  \n",
       "2  [4899.0, Navy, Blue, Anubhutee, Navy, blue, em...  \n",
       "3  [3699.0, Red, Nayo, Red, printed, kurta, with,...  \n",
       "4  [1350.0, Black, AHIKA, Black, and, green, prin...  "
      ]
     },
     "execution_count": 45,
     "metadata": {},
     "output_type": "execute_result"
    }
   ],
   "source": [
    "fashion.head()"
   ]
  },
  {
   "cell_type": "code",
   "execution_count": 46,
   "id": "d547fc17",
   "metadata": {},
   "outputs": [
    {
     "data": {
      "text/plain": [
       "['5099.0',\n",
       " 'Black',\n",
       " 'Khushal',\n",
       " 'K',\n",
       " 'Black',\n",
       " 'printed',\n",
       " 'Kurta',\n",
       " 'with',\n",
       " 'Palazzos',\n",
       " 'with',\n",
       " 'dupatta',\n",
       " 'Kurta',\n",
       " 'design:',\n",
       " 'Ethnic',\n",
       " 'motifs',\n",
       " 'printed',\n",
       " 'Anarkali',\n",
       " 'shape',\n",
       " 'Regular',\n",
       " 'style',\n",
       " 'Mandarin',\n",
       " 'collar,',\n",
       " 'three-quarter',\n",
       " 'regular',\n",
       " 'sleeves',\n",
       " 'Calf',\n",
       " 'length',\n",
       " 'with',\n",
       " 'flared',\n",
       " 'hem',\n",
       " 'Viscose',\n",
       " 'rayon',\n",
       " 'machine',\n",
       " 'weave',\n",
       " 'fabric',\n",
       " 'Palazzos',\n",
       " 'design:',\n",
       " 'Printed',\n",
       " 'Palazzos',\n",
       " 'Elasticated',\n",
       " 'waistband',\n",
       " 'Slip-on',\n",
       " 'closure',\n",
       " 'Dupatta',\n",
       " 'Length',\n",
       " '2.43',\n",
       " 'meters',\n",
       " 'Width:88',\n",
       " 'cmThe',\n",
       " 'model',\n",
       " '(height',\n",
       " \"5'8)\",\n",
       " 'is',\n",
       " 'wearing',\n",
       " 'a',\n",
       " 'size',\n",
       " 'S100%',\n",
       " 'RayonMachine',\n",
       " 'wash',\n",
       " 'NA',\n",
       " '443,333,324,424',\n",
       " 'Garment Measurements in',\n",
       " 'Slip-On',\n",
       " 'Viscose Rayon',\n",
       " 'Printed',\n",
       " 'Palazzos',\n",
       " 'NA',\n",
       " 'With Dupatta',\n",
       " 'Solid',\n",
       " 'Viscose Rayon',\n",
       " 'Printed',\n",
       " 'Indie Prints',\n",
       " 'Mandarin Collar',\n",
       " 'NA',\n",
       " 'Festive',\n",
       " 'NA',\n",
       " 'Placement',\n",
       " 'Ethnic Motifs',\n",
       " 'Three-Quarter Sleeves',\n",
       " 'Regular Sleeves',\n",
       " 'NA',\n",
       " 'Ready to Wear',\n",
       " 'Regular',\n",
       " 'Screen',\n",
       " 'Regular',\n",
       " 'Viscose Rayon',\n",
       " 'Flared',\n",
       " 'Calf Length',\n",
       " 'Printed',\n",
       " 'Anarkali',\n",
       " 'Kurta',\n",
       " 'Elasticated',\n",
       " 'Machine Wash',\n",
       " 'Regular',\n",
       " 'Machine Weave']"
      ]
     },
     "execution_count": 46,
     "metadata": {},
     "output_type": "execute_result"
    }
   ],
   "source": [
    "fashion.iloc[0]['tags']"
   ]
  },
  {
   "cell_type": "markdown",
   "id": "6660908e",
   "metadata": {},
   "source": [
    "## Dropping those extra columns"
   ]
  },
  {
   "cell_type": "code",
   "execution_count": 48,
   "id": "29a23a45",
   "metadata": {},
   "outputs": [],
   "source": [
    "new_df = fashion[['p_id','name','img','tags']]"
   ]
  },
  {
   "cell_type": "code",
   "execution_count": 49,
   "id": "e00ed2d8",
   "metadata": {},
   "outputs": [
    {
     "data": {
      "text/html": [
       "<div>\n",
       "<style scoped>\n",
       "    .dataframe tbody tr th:only-of-type {\n",
       "        vertical-align: middle;\n",
       "    }\n",
       "\n",
       "    .dataframe tbody tr th {\n",
       "        vertical-align: top;\n",
       "    }\n",
       "\n",
       "    .dataframe thead th {\n",
       "        text-align: right;\n",
       "    }\n",
       "</style>\n",
       "<table border=\"1\" class=\"dataframe\">\n",
       "  <thead>\n",
       "    <tr style=\"text-align: right;\">\n",
       "      <th></th>\n",
       "      <th>p_id</th>\n",
       "      <th>name</th>\n",
       "      <th>img</th>\n",
       "      <th>tags</th>\n",
       "    </tr>\n",
       "  </thead>\n",
       "  <tbody>\n",
       "    <tr>\n",
       "      <th>0</th>\n",
       "      <td>17048614.0</td>\n",
       "      <td>Khushal K Women Black Ethnic Motifs Printed Ku...</td>\n",
       "      <td>http://assets.myntassets.com/assets/images/170...</td>\n",
       "      <td>[5099.0, Black, Khushal, K, Black, printed, Ku...</td>\n",
       "    </tr>\n",
       "    <tr>\n",
       "      <th>1</th>\n",
       "      <td>16524740.0</td>\n",
       "      <td>InWeave Women Orange Solid Kurta with Palazzos...</td>\n",
       "      <td>http://assets.myntassets.com/assets/images/165...</td>\n",
       "      <td>[5899.0, Orange, InWeave, Orange, solid, Kurta...</td>\n",
       "    </tr>\n",
       "    <tr>\n",
       "      <th>2</th>\n",
       "      <td>16331376.0</td>\n",
       "      <td>Anubhutee Women Navy Blue Ethnic Motifs Embroi...</td>\n",
       "      <td>http://assets.myntassets.com/assets/images/163...</td>\n",
       "      <td>[4899.0, Navy, Blue, Anubhutee, Navy, blue, em...</td>\n",
       "    </tr>\n",
       "    <tr>\n",
       "      <th>3</th>\n",
       "      <td>14709966.0</td>\n",
       "      <td>Nayo Women Red Floral Printed Kurta With Trous...</td>\n",
       "      <td>http://assets.myntassets.com/assets/images/147...</td>\n",
       "      <td>[3699.0, Red, Nayo, Red, printed, kurta, with,...</td>\n",
       "    </tr>\n",
       "    <tr>\n",
       "      <th>4</th>\n",
       "      <td>11056154.0</td>\n",
       "      <td>AHIKA Women Black &amp; Green Printed Straight Kurta</td>\n",
       "      <td>http://assets.myntassets.com/assets/images/110...</td>\n",
       "      <td>[1350.0, Black, AHIKA, Black, and, green, prin...</td>\n",
       "    </tr>\n",
       "  </tbody>\n",
       "</table>\n",
       "</div>"
      ],
      "text/plain": [
       "         p_id                                               name  \\\n",
       "0  17048614.0  Khushal K Women Black Ethnic Motifs Printed Ku...   \n",
       "1  16524740.0  InWeave Women Orange Solid Kurta with Palazzos...   \n",
       "2  16331376.0  Anubhutee Women Navy Blue Ethnic Motifs Embroi...   \n",
       "3  14709966.0  Nayo Women Red Floral Printed Kurta With Trous...   \n",
       "4  11056154.0   AHIKA Women Black & Green Printed Straight Kurta   \n",
       "\n",
       "                                                 img  \\\n",
       "0  http://assets.myntassets.com/assets/images/170...   \n",
       "1  http://assets.myntassets.com/assets/images/165...   \n",
       "2  http://assets.myntassets.com/assets/images/163...   \n",
       "3  http://assets.myntassets.com/assets/images/147...   \n",
       "4  http://assets.myntassets.com/assets/images/110...   \n",
       "\n",
       "                                                tags  \n",
       "0  [5099.0, Black, Khushal, K, Black, printed, Ku...  \n",
       "1  [5899.0, Orange, InWeave, Orange, solid, Kurta...  \n",
       "2  [4899.0, Navy, Blue, Anubhutee, Navy, blue, em...  \n",
       "3  [3699.0, Red, Nayo, Red, printed, kurta, with,...  \n",
       "4  [1350.0, Black, AHIKA, Black, and, green, prin...  "
      ]
     },
     "execution_count": 49,
     "metadata": {},
     "output_type": "execute_result"
    }
   ],
   "source": [
    "new_df.head()"
   ]
  },
  {
   "cell_type": "markdown",
   "id": "79a5442a",
   "metadata": {},
   "source": [
    "##  Converting list to str"
   ]
  },
  {
   "cell_type": "code",
   "execution_count": 50,
   "id": "8c3e5ad1",
   "metadata": {},
   "outputs": [
    {
     "name": "stderr",
     "output_type": "stream",
     "text": [
      "C:\\Users\\Admin\\AppData\\Local\\Temp\\ipykernel_1848\\3674298559.py:2: SettingWithCopyWarning: \n",
      "A value is trying to be set on a copy of a slice from a DataFrame.\n",
      "Try using .loc[row_indexer,col_indexer] = value instead\n",
      "\n",
      "See the caveats in the documentation: https://pandas.pydata.org/pandas-docs/stable/user_guide/indexing.html#returning-a-view-versus-a-copy\n",
      "  new_df['tags'] = new_df['tags'].apply(lambda x: \" \".join(x))\n"
     ]
    },
    {
     "data": {
      "text/html": [
       "<div>\n",
       "<style scoped>\n",
       "    .dataframe tbody tr th:only-of-type {\n",
       "        vertical-align: middle;\n",
       "    }\n",
       "\n",
       "    .dataframe tbody tr th {\n",
       "        vertical-align: top;\n",
       "    }\n",
       "\n",
       "    .dataframe thead th {\n",
       "        text-align: right;\n",
       "    }\n",
       "</style>\n",
       "<table border=\"1\" class=\"dataframe\">\n",
       "  <thead>\n",
       "    <tr style=\"text-align: right;\">\n",
       "      <th></th>\n",
       "      <th>p_id</th>\n",
       "      <th>name</th>\n",
       "      <th>img</th>\n",
       "      <th>tags</th>\n",
       "    </tr>\n",
       "  </thead>\n",
       "  <tbody>\n",
       "    <tr>\n",
       "      <th>0</th>\n",
       "      <td>17048614.0</td>\n",
       "      <td>Khushal K Women Black Ethnic Motifs Printed Ku...</td>\n",
       "      <td>http://assets.myntassets.com/assets/images/170...</td>\n",
       "      <td>5099.0 Black Khushal K Black printed Kurta wit...</td>\n",
       "    </tr>\n",
       "    <tr>\n",
       "      <th>1</th>\n",
       "      <td>16524740.0</td>\n",
       "      <td>InWeave Women Orange Solid Kurta with Palazzos...</td>\n",
       "      <td>http://assets.myntassets.com/assets/images/165...</td>\n",
       "      <td>5899.0 Orange InWeave Orange solid Kurta with ...</td>\n",
       "    </tr>\n",
       "    <tr>\n",
       "      <th>2</th>\n",
       "      <td>16331376.0</td>\n",
       "      <td>Anubhutee Women Navy Blue Ethnic Motifs Embroi...</td>\n",
       "      <td>http://assets.myntassets.com/assets/images/163...</td>\n",
       "      <td>4899.0 Navy Blue Anubhutee Navy blue embroider...</td>\n",
       "    </tr>\n",
       "    <tr>\n",
       "      <th>3</th>\n",
       "      <td>14709966.0</td>\n",
       "      <td>Nayo Women Red Floral Printed Kurta With Trous...</td>\n",
       "      <td>http://assets.myntassets.com/assets/images/147...</td>\n",
       "      <td>3699.0 Red Nayo Red printed kurta with trouser...</td>\n",
       "    </tr>\n",
       "    <tr>\n",
       "      <th>4</th>\n",
       "      <td>11056154.0</td>\n",
       "      <td>AHIKA Women Black &amp; Green Printed Straight Kurta</td>\n",
       "      <td>http://assets.myntassets.com/assets/images/110...</td>\n",
       "      <td>1350.0 Black AHIKA Black and green printed str...</td>\n",
       "    </tr>\n",
       "  </tbody>\n",
       "</table>\n",
       "</div>"
      ],
      "text/plain": [
       "         p_id                                               name  \\\n",
       "0  17048614.0  Khushal K Women Black Ethnic Motifs Printed Ku...   \n",
       "1  16524740.0  InWeave Women Orange Solid Kurta with Palazzos...   \n",
       "2  16331376.0  Anubhutee Women Navy Blue Ethnic Motifs Embroi...   \n",
       "3  14709966.0  Nayo Women Red Floral Printed Kurta With Trous...   \n",
       "4  11056154.0   AHIKA Women Black & Green Printed Straight Kurta   \n",
       "\n",
       "                                                 img  \\\n",
       "0  http://assets.myntassets.com/assets/images/170...   \n",
       "1  http://assets.myntassets.com/assets/images/165...   \n",
       "2  http://assets.myntassets.com/assets/images/163...   \n",
       "3  http://assets.myntassets.com/assets/images/147...   \n",
       "4  http://assets.myntassets.com/assets/images/110...   \n",
       "\n",
       "                                                tags  \n",
       "0  5099.0 Black Khushal K Black printed Kurta wit...  \n",
       "1  5899.0 Orange InWeave Orange solid Kurta with ...  \n",
       "2  4899.0 Navy Blue Anubhutee Navy blue embroider...  \n",
       "3  3699.0 Red Nayo Red printed kurta with trouser...  \n",
       "4  1350.0 Black AHIKA Black and green printed str...  "
      ]
     },
     "execution_count": 50,
     "metadata": {},
     "output_type": "execute_result"
    }
   ],
   "source": [
    "new_df['tags'] = new_df['tags'].apply(lambda x: \" \".join(x))\n",
    "new_df.head()"
   ]
  },
  {
   "cell_type": "code",
   "execution_count": 51,
   "id": "63729a81",
   "metadata": {},
   "outputs": [
    {
     "data": {
      "text/plain": [
       "\"5099.0 Black Khushal K Black printed Kurta with Palazzos with dupatta Kurta design: Ethnic motifs printed Anarkali shape Regular style Mandarin collar, three-quarter regular sleeves Calf length with flared hem Viscose rayon machine weave fabric Palazzos design: Printed Palazzos Elasticated waistband Slip-on closure Dupatta Length 2.43 meters Width:88 cmThe model (height 5'8) is wearing a size S100% RayonMachine wash NA 443,333,324,424 Garment Measurements in Slip-On Viscose Rayon Printed Palazzos NA With Dupatta Solid Viscose Rayon Printed Indie Prints Mandarin Collar NA Festive NA Placement Ethnic Motifs Three-Quarter Sleeves Regular Sleeves NA Ready to Wear Regular Screen Regular Viscose Rayon Flared Calf Length Printed Anarkali Kurta Elasticated Machine Wash Regular Machine Weave\""
      ]
     },
     "execution_count": 51,
     "metadata": {},
     "output_type": "execute_result"
    }
   ],
   "source": [
    "new_df.iloc[0]['tags']"
   ]
  },
  {
   "cell_type": "markdown",
   "id": "829feae8",
   "metadata": {},
   "source": [
    "## Converting to lower case"
   ]
  },
  {
   "cell_type": "code",
   "execution_count": 52,
   "id": "74b8b4d4",
   "metadata": {},
   "outputs": [
    {
     "name": "stderr",
     "output_type": "stream",
     "text": [
      "C:\\Users\\Admin\\AppData\\Local\\Temp\\ipykernel_1848\\3444714728.py:2: SettingWithCopyWarning: \n",
      "A value is trying to be set on a copy of a slice from a DataFrame.\n",
      "Try using .loc[row_indexer,col_indexer] = value instead\n",
      "\n",
      "See the caveats in the documentation: https://pandas.pydata.org/pandas-docs/stable/user_guide/indexing.html#returning-a-view-versus-a-copy\n",
      "  new_df['tags'] = new_df['tags'].apply(lambda x:x.lower())\n"
     ]
    }
   ],
   "source": [
    "new_df['tags'] = new_df['tags'].apply(lambda x:x.lower())"
   ]
  },
  {
   "cell_type": "code",
   "execution_count": 53,
   "id": "52f5f271",
   "metadata": {},
   "outputs": [
    {
     "data": {
      "text/html": [
       "<div>\n",
       "<style scoped>\n",
       "    .dataframe tbody tr th:only-of-type {\n",
       "        vertical-align: middle;\n",
       "    }\n",
       "\n",
       "    .dataframe tbody tr th {\n",
       "        vertical-align: top;\n",
       "    }\n",
       "\n",
       "    .dataframe thead th {\n",
       "        text-align: right;\n",
       "    }\n",
       "</style>\n",
       "<table border=\"1\" class=\"dataframe\">\n",
       "  <thead>\n",
       "    <tr style=\"text-align: right;\">\n",
       "      <th></th>\n",
       "      <th>p_id</th>\n",
       "      <th>name</th>\n",
       "      <th>img</th>\n",
       "      <th>tags</th>\n",
       "    </tr>\n",
       "  </thead>\n",
       "  <tbody>\n",
       "    <tr>\n",
       "      <th>0</th>\n",
       "      <td>17048614.0</td>\n",
       "      <td>Khushal K Women Black Ethnic Motifs Printed Ku...</td>\n",
       "      <td>http://assets.myntassets.com/assets/images/170...</td>\n",
       "      <td>5099.0 black khushal k black printed kurta wit...</td>\n",
       "    </tr>\n",
       "    <tr>\n",
       "      <th>1</th>\n",
       "      <td>16524740.0</td>\n",
       "      <td>InWeave Women Orange Solid Kurta with Palazzos...</td>\n",
       "      <td>http://assets.myntassets.com/assets/images/165...</td>\n",
       "      <td>5899.0 orange inweave orange solid kurta with ...</td>\n",
       "    </tr>\n",
       "    <tr>\n",
       "      <th>2</th>\n",
       "      <td>16331376.0</td>\n",
       "      <td>Anubhutee Women Navy Blue Ethnic Motifs Embroi...</td>\n",
       "      <td>http://assets.myntassets.com/assets/images/163...</td>\n",
       "      <td>4899.0 navy blue anubhutee navy blue embroider...</td>\n",
       "    </tr>\n",
       "    <tr>\n",
       "      <th>3</th>\n",
       "      <td>14709966.0</td>\n",
       "      <td>Nayo Women Red Floral Printed Kurta With Trous...</td>\n",
       "      <td>http://assets.myntassets.com/assets/images/147...</td>\n",
       "      <td>3699.0 red nayo red printed kurta with trouser...</td>\n",
       "    </tr>\n",
       "    <tr>\n",
       "      <th>4</th>\n",
       "      <td>11056154.0</td>\n",
       "      <td>AHIKA Women Black &amp; Green Printed Straight Kurta</td>\n",
       "      <td>http://assets.myntassets.com/assets/images/110...</td>\n",
       "      <td>1350.0 black ahika black and green printed str...</td>\n",
       "    </tr>\n",
       "  </tbody>\n",
       "</table>\n",
       "</div>"
      ],
      "text/plain": [
       "         p_id                                               name  \\\n",
       "0  17048614.0  Khushal K Women Black Ethnic Motifs Printed Ku...   \n",
       "1  16524740.0  InWeave Women Orange Solid Kurta with Palazzos...   \n",
       "2  16331376.0  Anubhutee Women Navy Blue Ethnic Motifs Embroi...   \n",
       "3  14709966.0  Nayo Women Red Floral Printed Kurta With Trous...   \n",
       "4  11056154.0   AHIKA Women Black & Green Printed Straight Kurta   \n",
       "\n",
       "                                                 img  \\\n",
       "0  http://assets.myntassets.com/assets/images/170...   \n",
       "1  http://assets.myntassets.com/assets/images/165...   \n",
       "2  http://assets.myntassets.com/assets/images/163...   \n",
       "3  http://assets.myntassets.com/assets/images/147...   \n",
       "4  http://assets.myntassets.com/assets/images/110...   \n",
       "\n",
       "                                                tags  \n",
       "0  5099.0 black khushal k black printed kurta wit...  \n",
       "1  5899.0 orange inweave orange solid kurta with ...  \n",
       "2  4899.0 navy blue anubhutee navy blue embroider...  \n",
       "3  3699.0 red nayo red printed kurta with trouser...  \n",
       "4  1350.0 black ahika black and green printed str...  "
      ]
     },
     "execution_count": 53,
     "metadata": {},
     "output_type": "execute_result"
    }
   ],
   "source": [
    "new_df.head()"
   ]
  },
  {
   "cell_type": "code",
   "execution_count": 54,
   "id": "9292d4a2",
   "metadata": {},
   "outputs": [
    {
     "data": {
      "text/plain": [
       "\"5099.0 black khushal k black printed kurta with palazzos with dupatta kurta design: ethnic motifs printed anarkali shape regular style mandarin collar, three-quarter regular sleeves calf length with flared hem viscose rayon machine weave fabric palazzos design: printed palazzos elasticated waistband slip-on closure dupatta length 2.43 meters width:88 cmthe model (height 5'8) is wearing a size s100% rayonmachine wash na 443,333,324,424 garment measurements in slip-on viscose rayon printed palazzos na with dupatta solid viscose rayon printed indie prints mandarin collar na festive na placement ethnic motifs three-quarter sleeves regular sleeves na ready to wear regular screen regular viscose rayon flared calf length printed anarkali kurta elasticated machine wash regular machine weave\""
      ]
     },
     "execution_count": 54,
     "metadata": {},
     "output_type": "execute_result"
    }
   ],
   "source": [
    "new_df.iloc[0]['tags']"
   ]
  },
  {
   "cell_type": "markdown",
   "id": "de1b2ec4",
   "metadata": {},
   "source": [
    "## Using nltk library to perform stemming where we are reducing the words into base words like love loving and lovely will become live as they convey same meaning over here"
   ]
  },
  {
   "cell_type": "code",
   "execution_count": 55,
   "id": "80e7bbfa",
   "metadata": {},
   "outputs": [],
   "source": [
    "import nltk\n",
    "from nltk.stem import PorterStemmer"
   ]
  },
  {
   "cell_type": "code",
   "execution_count": 56,
   "id": "10899447",
   "metadata": {},
   "outputs": [],
   "source": [
    "ps = PorterStemmer()"
   ]
  },
  {
   "cell_type": "code",
   "execution_count": 58,
   "id": "dd1dc755",
   "metadata": {},
   "outputs": [],
   "source": [
    "def stems(text):\n",
    "    T = []\n",
    "    \n",
    "    for i in text.split():\n",
    "        T.append(ps.stem(i))\n",
    "    \n",
    "    return \" \".join(T)"
   ]
  },
  {
   "cell_type": "code",
   "execution_count": 59,
   "id": "dfec771f",
   "metadata": {},
   "outputs": [
    {
     "name": "stderr",
     "output_type": "stream",
     "text": [
      "C:\\Users\\Admin\\AppData\\Local\\Temp\\ipykernel_1848\\3973021881.py:1: SettingWithCopyWarning: \n",
      "A value is trying to be set on a copy of a slice from a DataFrame.\n",
      "Try using .loc[row_indexer,col_indexer] = value instead\n",
      "\n",
      "See the caveats in the documentation: https://pandas.pydata.org/pandas-docs/stable/user_guide/indexing.html#returning-a-view-versus-a-copy\n",
      "  new_df['tags'] = new_df['tags'].apply(stems)\n"
     ]
    }
   ],
   "source": [
    "new_df['tags'] = new_df['tags'].apply(stems)"
   ]
  },
  {
   "cell_type": "code",
   "execution_count": 60,
   "id": "61b3508e",
   "metadata": {},
   "outputs": [
    {
     "data": {
      "text/plain": [
       "\"5099.0 black khushal k black print kurta with palazzo with dupatta kurta design: ethnic motif print anarkali shape regular style mandarin collar, three-quart regular sleev calf length with flare hem viscos rayon machin weav fabric palazzo design: print palazzo elast waistband slip-on closur dupatta length 2.43 meter width:88 cmthe model (height 5'8) is wear a size s100% rayonmachin wash na 443,333,324,424 garment measur in slip-on viscos rayon print palazzo na with dupatta solid viscos rayon print indi print mandarin collar na festiv na placement ethnic motif three-quart sleev regular sleev na readi to wear regular screen regular viscos rayon flare calf length print anarkali kurta elast machin wash regular machin weav\""
      ]
     },
     "execution_count": 60,
     "metadata": {},
     "output_type": "execute_result"
    }
   ],
   "source": [
    "new_df.iloc[0]['tags']"
   ]
  },
  {
   "cell_type": "code",
   "execution_count": 61,
   "id": "dfd35434",
   "metadata": {},
   "outputs": [
    {
     "data": {
      "text/plain": [
       "(14265, 9)"
      ]
     },
     "execution_count": 61,
     "metadata": {},
     "output_type": "execute_result"
    }
   ],
   "source": [
    "fashion.shape"
   ]
  },
  {
   "cell_type": "markdown",
   "id": "b219f585",
   "metadata": {},
   "source": [
    "## Performing text feature extraction using CountVectorizer for fetching the count of how many times that word appears in the correspoding document"
   ]
  },
  {
   "cell_type": "code",
   "execution_count": 62,
   "id": "47ef540f",
   "metadata": {},
   "outputs": [],
   "source": [
    "from sklearn.feature_extraction.text import CountVectorizer\n",
    "cv = CountVectorizer(max_features=15000,stop_words='english')"
   ]
  },
  {
   "cell_type": "code",
   "execution_count": 63,
   "id": "6c4a89ab",
   "metadata": {},
   "outputs": [],
   "source": [
    "vector = cv.fit_transform(new_df['tags']).toarray()"
   ]
  },
  {
   "cell_type": "code",
   "execution_count": 64,
   "id": "dc86fd28",
   "metadata": {},
   "outputs": [
    {
     "data": {
      "text/plain": [
       "array([0, 0, 0, ..., 0, 0, 0], dtype=int64)"
      ]
     },
     "execution_count": 64,
     "metadata": {},
     "output_type": "execute_result"
    }
   ],
   "source": [
    "vector[0]"
   ]
  },
  {
   "cell_type": "code",
   "execution_count": 65,
   "id": "7249089f",
   "metadata": {},
   "outputs": [
    {
     "data": {
      "text/plain": [
       "(14265, 14789)"
      ]
     },
     "execution_count": 65,
     "metadata": {},
     "output_type": "execute_result"
    }
   ],
   "source": [
    "vector.shape"
   ]
  },
  {
   "cell_type": "code",
   "execution_count": 67,
   "id": "8f32b21a",
   "metadata": {},
   "outputs": [
    {
     "data": {
      "text/plain": [
       "14789"
      ]
     },
     "execution_count": 67,
     "metadata": {},
     "output_type": "execute_result"
    }
   ],
   "source": [
    "len(cv.get_feature_names_out())"
   ]
  },
  {
   "cell_type": "markdown",
   "id": "43a18d45",
   "metadata": {},
   "source": [
    "## We are using cosine similarity to measure the similarity between two documents based on their content as we are building content based recommendation system"
   ]
  },
  {
   "cell_type": "code",
   "execution_count": 68,
   "id": "5e668b25",
   "metadata": {},
   "outputs": [],
   "source": [
    "from sklearn.metrics.pairwise import cosine_similarity"
   ]
  },
  {
   "cell_type": "code",
   "execution_count": 69,
   "id": "21e10f92",
   "metadata": {},
   "outputs": [],
   "source": [
    "similarity = cosine_similarity(vector)"
   ]
  },
  {
   "cell_type": "code",
   "execution_count": 70,
   "id": "906013d8",
   "metadata": {},
   "outputs": [
    {
     "data": {
      "text/plain": [
       "(14265, 14265)"
      ]
     },
     "execution_count": 70,
     "metadata": {},
     "output_type": "execute_result"
    }
   ],
   "source": [
    "similarity.shape"
   ]
  },
  {
   "cell_type": "markdown",
   "id": "40f45506",
   "metadata": {},
   "source": [
    "## Fetching the index of one specific movie"
   ]
  },
  {
   "cell_type": "code",
   "execution_count": 72,
   "id": "fc601b8c",
   "metadata": {},
   "outputs": [
    {
     "data": {
      "text/plain": [
       "11"
      ]
     },
     "execution_count": 72,
     "metadata": {},
     "output_type": "execute_result"
    }
   ],
   "source": [
    "new_df[new_df['name'] == 'Varanga Women Mustard Yellow Floral Yoke Embroidered Straight Kurta'].index[0]"
   ]
  },
  {
   "cell_type": "code",
   "execution_count": 114,
   "id": "d65a104d",
   "metadata": {},
   "outputs": [
    {
     "data": {
      "text/html": [
       "<div>\n",
       "<style scoped>\n",
       "    .dataframe tbody tr th:only-of-type {\n",
       "        vertical-align: middle;\n",
       "    }\n",
       "\n",
       "    .dataframe tbody tr th {\n",
       "        vertical-align: top;\n",
       "    }\n",
       "\n",
       "    .dataframe thead th {\n",
       "        text-align: right;\n",
       "    }\n",
       "</style>\n",
       "<table border=\"1\" class=\"dataframe\">\n",
       "  <thead>\n",
       "    <tr style=\"text-align: right;\">\n",
       "      <th></th>\n",
       "      <th>p_id</th>\n",
       "      <th>name</th>\n",
       "      <th>img</th>\n",
       "      <th>tags</th>\n",
       "    </tr>\n",
       "  </thead>\n",
       "  <tbody>\n",
       "    <tr>\n",
       "      <th>0</th>\n",
       "      <td>17048614.0</td>\n",
       "      <td>Khushal K Women Black Ethnic Motifs Printed Ku...</td>\n",
       "      <td>http://assets.myntassets.com/assets/images/170...</td>\n",
       "      <td>5099.0 black khushal k black print kurta with ...</td>\n",
       "    </tr>\n",
       "    <tr>\n",
       "      <th>1</th>\n",
       "      <td>16524740.0</td>\n",
       "      <td>InWeave Women Orange Solid Kurta with Palazzos...</td>\n",
       "      <td>http://assets.myntassets.com/assets/images/165...</td>\n",
       "      <td>5899.0 orang inweav orang solid kurta with pal...</td>\n",
       "    </tr>\n",
       "    <tr>\n",
       "      <th>2</th>\n",
       "      <td>16331376.0</td>\n",
       "      <td>Anubhutee Women Navy Blue Ethnic Motifs Embroi...</td>\n",
       "      <td>http://assets.myntassets.com/assets/images/163...</td>\n",
       "      <td>4899.0 navi blue anubhute navi blue embroid ku...</td>\n",
       "    </tr>\n",
       "    <tr>\n",
       "      <th>3</th>\n",
       "      <td>14709966.0</td>\n",
       "      <td>Nayo Women Red Floral Printed Kurta With Trous...</td>\n",
       "      <td>http://assets.myntassets.com/assets/images/147...</td>\n",
       "      <td>3699.0 red nayo red print kurta with trouser a...</td>\n",
       "    </tr>\n",
       "    <tr>\n",
       "      <th>4</th>\n",
       "      <td>11056154.0</td>\n",
       "      <td>AHIKA Women Black &amp; Green Printed Straight Kurta</td>\n",
       "      <td>http://assets.myntassets.com/assets/images/110...</td>\n",
       "      <td>1350.0 black ahika black and green print strai...</td>\n",
       "    </tr>\n",
       "  </tbody>\n",
       "</table>\n",
       "</div>"
      ],
      "text/plain": [
       "         p_id                                               name  \\\n",
       "0  17048614.0  Khushal K Women Black Ethnic Motifs Printed Ku...   \n",
       "1  16524740.0  InWeave Women Orange Solid Kurta with Palazzos...   \n",
       "2  16331376.0  Anubhutee Women Navy Blue Ethnic Motifs Embroi...   \n",
       "3  14709966.0  Nayo Women Red Floral Printed Kurta With Trous...   \n",
       "4  11056154.0   AHIKA Women Black & Green Printed Straight Kurta   \n",
       "\n",
       "                                                 img  \\\n",
       "0  http://assets.myntassets.com/assets/images/170...   \n",
       "1  http://assets.myntassets.com/assets/images/165...   \n",
       "2  http://assets.myntassets.com/assets/images/163...   \n",
       "3  http://assets.myntassets.com/assets/images/147...   \n",
       "4  http://assets.myntassets.com/assets/images/110...   \n",
       "\n",
       "                                                tags  \n",
       "0  5099.0 black khushal k black print kurta with ...  \n",
       "1  5899.0 orang inweav orang solid kurta with pal...  \n",
       "2  4899.0 navi blue anubhute navi blue embroid ku...  \n",
       "3  3699.0 red nayo red print kurta with trouser a...  \n",
       "4  1350.0 black ahika black and green print strai...  "
      ]
     },
     "execution_count": 114,
     "metadata": {},
     "output_type": "execute_result"
    }
   ],
   "source": [
    "new_df.head(5)"
   ]
  },
  {
   "cell_type": "markdown",
   "id": "3717ca80",
   "metadata": {},
   "source": [
    "## Creating the function for recommendation of the fashion product"
   ]
  },
  {
   "cell_type": "code",
   "execution_count": 122,
   "id": "b34e8f88",
   "metadata": {},
   "outputs": [],
   "source": [
    "def recommend(name):\n",
    "    index = new_df[new_df['name'] == name].index[0]\n",
    "    distances = sorted(list(enumerate(similarity[index])),reverse=True,key = lambda x: x[1])\n",
    "    print(\"Your Recommendations\")\n",
    "    for i in distances[1:6]:\n",
    "        print(new_df.iloc[i[0]][1])\n",
    "        print(new_df.iloc[i[0]][2])\n",
    "        \n",
    "        "
   ]
  },
  {
   "cell_type": "code",
   "execution_count": 124,
   "id": "4b140aaa",
   "metadata": {
    "scrolled": false
   },
   "outputs": [
    {
     "name": "stdout",
     "output_type": "stream",
     "text": [
      "Your Recommendations\n",
      "Gipsy Black Printed Jacket\n",
      "http://assets.myntassets.com/assets/images/1679213/2016/12/15/11481785579974-Gipsy-Women-Jackets-771481785579717-1.jpg\n",
      "SASSAFRAS Black Embellished Slim Fit Jacket\n",
      "http://assets.myntassets.com/assets/images/1052282/2015/10/30/11446208034855-SASSAFRAS-Black-Embellished-Slim-Fit-Jacket-6441446208034440-1.jpg\n",
      "Zastraa Women Black Lightweight Crop Tailored Convertible Jacket\n",
      "http://assets.myntassets.com/assets/images/16109566/2021/11/29/02ae5785-05e6-4bb2-959a-ab11b4914c051638179652417ZastraaBlackPUConvertibleJacket1.jpg\n",
      "Mast & Harbour Women Teal Blue Solid Satin Finish Tailored Jacket\n",
      "http://assets.myntassets.com/assets/images/14364216/2021/11/23/c5f13f04-be42-4a77-8540-ef253d18027e1637650157391-Mast--Harbour-Women-Jackets-7511637650156737-1.jpg\n",
      "Roadster Women Pink & Purple Camouflage Print Cropped Hooded Tailored Jacket\n",
      "http://assets.myntassets.com/assets/images/14355426/2021/10/13/ecc4c862-e23b-45e5-bb3a-dd109da3461a1634099164981-Roadster-Women-Jackets-3321634099164185-1.jpg\n"
     ]
    }
   ],
   "source": [
    "recommend('Tokyo Talkies Women Black Solid Denim Jacket')"
   ]
  },
  {
   "cell_type": "code",
   "execution_count": 125,
   "id": "34e7c62c",
   "metadata": {},
   "outputs": [],
   "source": [
    "import pickle\n"
   ]
  },
  {
   "cell_type": "code",
   "execution_count": 126,
   "id": "670a3adc",
   "metadata": {},
   "outputs": [],
   "source": [
    "pickle.dump(new_df,open('artifacts/product_list.pkl','wb'))\n",
    "pickle.dump(similarity,open('artifacts/similarity.pkl','wb'))"
   ]
  },
  {
   "cell_type": "code",
   "execution_count": null,
   "id": "00ce85fe",
   "metadata": {},
   "outputs": [],
   "source": []
  },
  {
   "cell_type": "code",
   "execution_count": null,
   "id": "3ec6f559",
   "metadata": {},
   "outputs": [],
   "source": []
  },
  {
   "cell_type": "code",
   "execution_count": null,
   "id": "cd70cf45",
   "metadata": {},
   "outputs": [],
   "source": []
  },
  {
   "cell_type": "code",
   "execution_count": null,
   "id": "3f0b9cdf",
   "metadata": {},
   "outputs": [],
   "source": []
  },
  {
   "cell_type": "code",
   "execution_count": null,
   "id": "b04493d6",
   "metadata": {},
   "outputs": [],
   "source": []
  },
  {
   "cell_type": "code",
   "execution_count": null,
   "id": "34c60097",
   "metadata": {},
   "outputs": [],
   "source": []
  },
  {
   "cell_type": "code",
   "execution_count": null,
   "id": "dd250876",
   "metadata": {},
   "outputs": [],
   "source": []
  },
  {
   "cell_type": "code",
   "execution_count": null,
   "id": "047ffd6a",
   "metadata": {},
   "outputs": [],
   "source": []
  },
  {
   "cell_type": "code",
   "execution_count": null,
   "id": "b5df3904",
   "metadata": {},
   "outputs": [],
   "source": []
  },
  {
   "cell_type": "code",
   "execution_count": null,
   "id": "f43837b8",
   "metadata": {},
   "outputs": [],
   "source": []
  },
  {
   "cell_type": "code",
   "execution_count": null,
   "id": "8538078e",
   "metadata": {},
   "outputs": [],
   "source": []
  },
  {
   "cell_type": "code",
   "execution_count": null,
   "id": "baffa519",
   "metadata": {},
   "outputs": [],
   "source": []
  },
  {
   "cell_type": "code",
   "execution_count": null,
   "id": "489cafad",
   "metadata": {},
   "outputs": [],
   "source": []
  },
  {
   "cell_type": "code",
   "execution_count": null,
   "id": "0a9889ae",
   "metadata": {},
   "outputs": [],
   "source": []
  },
  {
   "cell_type": "code",
   "execution_count": null,
   "id": "a6081ee3",
   "metadata": {},
   "outputs": [],
   "source": []
  },
  {
   "cell_type": "code",
   "execution_count": null,
   "id": "3b66e666",
   "metadata": {},
   "outputs": [],
   "source": []
  },
  {
   "cell_type": "code",
   "execution_count": null,
   "id": "07ae92a7",
   "metadata": {},
   "outputs": [],
   "source": []
  },
  {
   "cell_type": "code",
   "execution_count": null,
   "id": "cc8dd2d4",
   "metadata": {},
   "outputs": [],
   "source": []
  },
  {
   "cell_type": "code",
   "execution_count": null,
   "id": "380e3399",
   "metadata": {},
   "outputs": [],
   "source": []
  },
  {
   "cell_type": "code",
   "execution_count": null,
   "id": "94448cb7",
   "metadata": {},
   "outputs": [],
   "source": []
  },
  {
   "cell_type": "code",
   "execution_count": null,
   "id": "ad4812ff",
   "metadata": {},
   "outputs": [],
   "source": []
  },
  {
   "cell_type": "code",
   "execution_count": null,
   "id": "17cb285f",
   "metadata": {},
   "outputs": [],
   "source": []
  },
  {
   "cell_type": "code",
   "execution_count": null,
   "id": "f7d88b69",
   "metadata": {},
   "outputs": [],
   "source": []
  },
  {
   "cell_type": "code",
   "execution_count": null,
   "id": "91abf6cc",
   "metadata": {},
   "outputs": [],
   "source": []
  },
  {
   "cell_type": "code",
   "execution_count": null,
   "id": "d2b48487",
   "metadata": {},
   "outputs": [],
   "source": []
  },
  {
   "cell_type": "code",
   "execution_count": null,
   "id": "d6557a34",
   "metadata": {},
   "outputs": [],
   "source": []
  },
  {
   "cell_type": "code",
   "execution_count": null,
   "id": "e3ab315f",
   "metadata": {},
   "outputs": [],
   "source": []
  },
  {
   "cell_type": "code",
   "execution_count": null,
   "id": "53f6d536",
   "metadata": {},
   "outputs": [],
   "source": []
  },
  {
   "cell_type": "code",
   "execution_count": null,
   "id": "049c8b02",
   "metadata": {},
   "outputs": [],
   "source": []
  },
  {
   "cell_type": "code",
   "execution_count": null,
   "id": "e32d9025",
   "metadata": {},
   "outputs": [],
   "source": []
  },
  {
   "cell_type": "code",
   "execution_count": null,
   "id": "f751f852",
   "metadata": {},
   "outputs": [],
   "source": []
  },
  {
   "cell_type": "code",
   "execution_count": null,
   "id": "4efff2d5",
   "metadata": {},
   "outputs": [],
   "source": []
  },
  {
   "cell_type": "code",
   "execution_count": null,
   "id": "b8b69a02",
   "metadata": {},
   "outputs": [],
   "source": []
  },
  {
   "cell_type": "code",
   "execution_count": null,
   "id": "42b2500b",
   "metadata": {},
   "outputs": [],
   "source": []
  },
  {
   "cell_type": "code",
   "execution_count": null,
   "id": "fbb2373c",
   "metadata": {},
   "outputs": [],
   "source": []
  },
  {
   "cell_type": "code",
   "execution_count": null,
   "id": "b775d03c",
   "metadata": {},
   "outputs": [],
   "source": []
  },
  {
   "cell_type": "code",
   "execution_count": null,
   "id": "17cecf8d",
   "metadata": {},
   "outputs": [],
   "source": []
  },
  {
   "cell_type": "code",
   "execution_count": null,
   "id": "c8d56686",
   "metadata": {},
   "outputs": [],
   "source": []
  },
  {
   "cell_type": "code",
   "execution_count": null,
   "id": "6697e3b7",
   "metadata": {},
   "outputs": [],
   "source": []
  },
  {
   "cell_type": "code",
   "execution_count": null,
   "id": "b812a181",
   "metadata": {},
   "outputs": [],
   "source": []
  },
  {
   "cell_type": "code",
   "execution_count": null,
   "id": "b709e34b",
   "metadata": {},
   "outputs": [],
   "source": []
  },
  {
   "cell_type": "code",
   "execution_count": null,
   "id": "679cb482",
   "metadata": {},
   "outputs": [],
   "source": []
  },
  {
   "cell_type": "code",
   "execution_count": null,
   "id": "82d3eb79",
   "metadata": {},
   "outputs": [],
   "source": []
  }
 ],
 "metadata": {
  "kernelspec": {
   "display_name": "Python 3 (ipykernel)",
   "language": "python",
   "name": "python3"
  },
  "language_info": {
   "codemirror_mode": {
    "name": "ipython",
    "version": 3
   },
   "file_extension": ".py",
   "mimetype": "text/x-python",
   "name": "python",
   "nbconvert_exporter": "python",
   "pygments_lexer": "ipython3",
   "version": "3.11.2"
  }
 },
 "nbformat": 4,
 "nbformat_minor": 5
}
