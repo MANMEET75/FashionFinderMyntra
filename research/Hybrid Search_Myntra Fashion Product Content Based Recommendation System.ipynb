{
 "cells": [
  {
   "cell_type": "markdown",
   "id": "c7f5fbeb",
   "metadata": {},
   "source": [
    "# RECOMMENDATION SYSTEM\n",
    "Dealing with Research Environment"
   ]
  },
  {
   "cell_type": "markdown",
   "id": "ad61cc8e",
   "metadata": {},
   "source": [
    "## Problem Statement\n",
    "This project understands the recommendation of Myntra's fashion products based on the product selected by the user so it is the content based recommendation problem statement having variables like index, ProductID, Title, Price in INR.,Colour Name, Brand Name, Image URL, Count of Ratings, Average Rating of Product and Product Description."
   ]
  },
  {
   "cell_type": "markdown",
   "id": "347869d2",
   "metadata": {},
   "source": [
    "## Data Collection\n",
    "Dataset is collected from the kaggle"
   ]
  },
  {
   "cell_type": "markdown",
   "id": "b586efa6",
   "metadata": {},
   "source": [
    "## Importing the libraries"
   ]
  },
  {
   "cell_type": "code",
   "execution_count": 1,
   "id": "95053d59",
   "metadata": {},
   "outputs": [],
   "source": [
    "import numpy as np \n",
    "import pandas as pd\n",
    "import seaborn as sns\n",
    "import matplotlib.pyplot as plt\n",
    "%matplotlib inline"
   ]
  },
  {
   "cell_type": "markdown",
   "id": "123c2d8f",
   "metadata": {},
   "source": [
    "## Importing the dataset"
   ]
  },
  {
   "cell_type": "code",
   "execution_count": 2,
   "id": "b7d18f86",
   "metadata": {},
   "outputs": [],
   "source": [
    "fashion = pd.read_csv('Fashion Dataset.csv')"
   ]
  },
  {
   "cell_type": "markdown",
   "id": "720d4663",
   "metadata": {},
   "source": [
    "## Showing Top 5 Records "
   ]
  },
  {
   "cell_type": "code",
   "execution_count": 3,
   "id": "124e55e2",
   "metadata": {},
   "outputs": [
    {
     "data": {
      "text/html": [
       "<div>\n",
       "<style scoped>\n",
       "    .dataframe tbody tr th:only-of-type {\n",
       "        vertical-align: middle;\n",
       "    }\n",
       "\n",
       "    .dataframe tbody tr th {\n",
       "        vertical-align: top;\n",
       "    }\n",
       "\n",
       "    .dataframe thead th {\n",
       "        text-align: right;\n",
       "    }\n",
       "</style>\n",
       "<table border=\"1\" class=\"dataframe\">\n",
       "  <thead>\n",
       "    <tr style=\"text-align: right;\">\n",
       "      <th></th>\n",
       "      <th>Unnamed: 0</th>\n",
       "      <th>p_id</th>\n",
       "      <th>name</th>\n",
       "      <th>price</th>\n",
       "      <th>colour</th>\n",
       "      <th>brand</th>\n",
       "      <th>img</th>\n",
       "      <th>ratingCount</th>\n",
       "      <th>avg_rating</th>\n",
       "      <th>description</th>\n",
       "      <th>p_attributes</th>\n",
       "    </tr>\n",
       "  </thead>\n",
       "  <tbody>\n",
       "    <tr>\n",
       "      <th>0</th>\n",
       "      <td>0</td>\n",
       "      <td>17048614.0</td>\n",
       "      <td>Khushal K Women Black Ethnic Motifs Printed Ku...</td>\n",
       "      <td>5099.0</td>\n",
       "      <td>Black</td>\n",
       "      <td>Khushal K</td>\n",
       "      <td>http://assets.myntassets.com/assets/images/170...</td>\n",
       "      <td>4522.0</td>\n",
       "      <td>4.418399</td>\n",
       "      <td>Black printed Kurta with Palazzos with dupatta...</td>\n",
       "      <td>{'Add-Ons': 'NA', 'Body Shape ID': '443,333,32...</td>\n",
       "    </tr>\n",
       "    <tr>\n",
       "      <th>1</th>\n",
       "      <td>1</td>\n",
       "      <td>16524740.0</td>\n",
       "      <td>InWeave Women Orange Solid Kurta with Palazzos...</td>\n",
       "      <td>5899.0</td>\n",
       "      <td>Orange</td>\n",
       "      <td>InWeave</td>\n",
       "      <td>http://assets.myntassets.com/assets/images/165...</td>\n",
       "      <td>1081.0</td>\n",
       "      <td>4.119334</td>\n",
       "      <td>Orange solid Kurta with Palazzos with dupatta&lt;...</td>\n",
       "      <td>{'Add-Ons': 'NA', 'Body Shape ID': '443,333,32...</td>\n",
       "    </tr>\n",
       "    <tr>\n",
       "      <th>2</th>\n",
       "      <td>2</td>\n",
       "      <td>16331376.0</td>\n",
       "      <td>Anubhutee Women Navy Blue Ethnic Motifs Embroi...</td>\n",
       "      <td>4899.0</td>\n",
       "      <td>Navy Blue</td>\n",
       "      <td>Anubhutee</td>\n",
       "      <td>http://assets.myntassets.com/assets/images/163...</td>\n",
       "      <td>1752.0</td>\n",
       "      <td>4.161530</td>\n",
       "      <td>Navy blue embroidered Kurta with Trousers with...</td>\n",
       "      <td>{'Add-Ons': 'NA', 'Body Shape ID': '333,424', ...</td>\n",
       "    </tr>\n",
       "    <tr>\n",
       "      <th>3</th>\n",
       "      <td>3</td>\n",
       "      <td>14709966.0</td>\n",
       "      <td>Nayo Women Red Floral Printed Kurta With Trous...</td>\n",
       "      <td>3699.0</td>\n",
       "      <td>Red</td>\n",
       "      <td>Nayo</td>\n",
       "      <td>http://assets.myntassets.com/assets/images/147...</td>\n",
       "      <td>4113.0</td>\n",
       "      <td>4.088986</td>\n",
       "      <td>Red printed kurta with trouser and dupatta&lt;br&gt;...</td>\n",
       "      <td>{'Add-Ons': 'NA', 'Body Shape ID': '333,424', ...</td>\n",
       "    </tr>\n",
       "    <tr>\n",
       "      <th>4</th>\n",
       "      <td>4</td>\n",
       "      <td>11056154.0</td>\n",
       "      <td>AHIKA Women Black &amp; Green Printed Straight Kurta</td>\n",
       "      <td>1350.0</td>\n",
       "      <td>Black</td>\n",
       "      <td>AHIKA</td>\n",
       "      <td>http://assets.myntassets.com/assets/images/110...</td>\n",
       "      <td>21274.0</td>\n",
       "      <td>3.978377</td>\n",
       "      <td>Black and green printed straight kurta, has a ...</td>\n",
       "      <td>{'Body Shape ID': '424', 'Body or Garment Size...</td>\n",
       "    </tr>\n",
       "  </tbody>\n",
       "</table>\n",
       "</div>"
      ],
      "text/plain": [
       "   Unnamed: 0        p_id                                               name  \\\n",
       "0           0  17048614.0  Khushal K Women Black Ethnic Motifs Printed Ku...   \n",
       "1           1  16524740.0  InWeave Women Orange Solid Kurta with Palazzos...   \n",
       "2           2  16331376.0  Anubhutee Women Navy Blue Ethnic Motifs Embroi...   \n",
       "3           3  14709966.0  Nayo Women Red Floral Printed Kurta With Trous...   \n",
       "4           4  11056154.0   AHIKA Women Black & Green Printed Straight Kurta   \n",
       "\n",
       "    price     colour      brand  \\\n",
       "0  5099.0      Black  Khushal K   \n",
       "1  5899.0     Orange    InWeave   \n",
       "2  4899.0  Navy Blue  Anubhutee   \n",
       "3  3699.0        Red       Nayo   \n",
       "4  1350.0      Black      AHIKA   \n",
       "\n",
       "                                                 img  ratingCount  avg_rating  \\\n",
       "0  http://assets.myntassets.com/assets/images/170...       4522.0    4.418399   \n",
       "1  http://assets.myntassets.com/assets/images/165...       1081.0    4.119334   \n",
       "2  http://assets.myntassets.com/assets/images/163...       1752.0    4.161530   \n",
       "3  http://assets.myntassets.com/assets/images/147...       4113.0    4.088986   \n",
       "4  http://assets.myntassets.com/assets/images/110...      21274.0    3.978377   \n",
       "\n",
       "                                         description  \\\n",
       "0  Black printed Kurta with Palazzos with dupatta...   \n",
       "1  Orange solid Kurta with Palazzos with dupatta<...   \n",
       "2  Navy blue embroidered Kurta with Trousers with...   \n",
       "3  Red printed kurta with trouser and dupatta<br>...   \n",
       "4  Black and green printed straight kurta, has a ...   \n",
       "\n",
       "                                        p_attributes  \n",
       "0  {'Add-Ons': 'NA', 'Body Shape ID': '443,333,32...  \n",
       "1  {'Add-Ons': 'NA', 'Body Shape ID': '443,333,32...  \n",
       "2  {'Add-Ons': 'NA', 'Body Shape ID': '333,424', ...  \n",
       "3  {'Add-Ons': 'NA', 'Body Shape ID': '333,424', ...  \n",
       "4  {'Body Shape ID': '424', 'Body or Garment Size...  "
      ]
     },
     "execution_count": 3,
     "metadata": {},
     "output_type": "execute_result"
    }
   ],
   "source": [
    "fashion.head()"
   ]
  },
  {
   "cell_type": "markdown",
   "id": "b9251061",
   "metadata": {},
   "source": [
    "## Getting the shape of the dataset"
   ]
  },
  {
   "cell_type": "code",
   "execution_count": 4,
   "id": "8b52b1ca",
   "metadata": {},
   "outputs": [
    {
     "data": {
      "text/plain": [
       "(14330, 11)"
      ]
     },
     "execution_count": 4,
     "metadata": {},
     "output_type": "execute_result"
    }
   ],
   "source": [
    "fashion.shape"
   ]
  },
  {
   "cell_type": "markdown",
   "id": "24d92287",
   "metadata": {},
   "source": [
    "## Insights\n",
    "- We have 14330 Observations and 11 Features in the dataset"
   ]
  },
  {
   "cell_type": "markdown",
   "id": "e935a1c6",
   "metadata": {},
   "source": [
    "## Dataset Information\n"
   ]
  },
  {
   "cell_type": "markdown",
   "id": "9862ab80",
   "metadata": {},
   "source": [
    "- Unnamed: 0 = This feature is just like a serial number which is uniquely representing each and every observation.\n",
    "- p_id = It represents the id of fashion product which is uniquely representing each and every product and we will use it to fetch the image of fashion product in the development environment.\n",
    "- name = It represents the title of the fashion product.\n",
    "- price = It represents the price of the product in INR.\n",
    "- colour = It represents the color name used in fashion product.\n",
    "- brand = It represents the brand name of the fashion product.\n",
    "- img = It represents the image URL for the fashion product.\n",
    "- ratingCount = It represents the count of the rating given by the user to that particular fashion product.\n",
    "- avg_rating = It represents the average rating of the fashion product.\n",
    "- description = It represents the brief information regarding fashion product and it contains some of the HTML elements.\n",
    "- p_attributes = It represents the product attributes such as Add-Ons, we have dupatta or not in fashion product stuff like that."
   ]
  },
  {
   "cell_type": "markdown",
   "id": "91a7c878",
   "metadata": {},
   "source": [
    "## Dropping the Index Feature\n",
    "As it will not help in recommendation it just uniquely identifying each and every observation over here in the dataset"
   ]
  },
  {
   "cell_type": "code",
   "execution_count": 5,
   "id": "ea7d1a0f",
   "metadata": {},
   "outputs": [],
   "source": [
    "fashion.drop([\"Unnamed: 0\"],axis=1,inplace=True)"
   ]
  },
  {
   "cell_type": "markdown",
   "id": "84757631",
   "metadata": {},
   "source": [
    "## Checking the existence of missing values"
   ]
  },
  {
   "cell_type": "code",
   "execution_count": 6,
   "id": "250b2c9c",
   "metadata": {},
   "outputs": [
    {
     "data": {
      "text/plain": [
       "p_id              18\n",
       "name              18\n",
       "price             18\n",
       "colour            21\n",
       "brand             18\n",
       "img               18\n",
       "ratingCount     7749\n",
       "avg_rating      7749\n",
       "description       18\n",
       "p_attributes      18\n",
       "dtype: int64"
      ]
     },
     "execution_count": 6,
     "metadata": {},
     "output_type": "execute_result"
    }
   ],
   "source": [
    "fashion.isna().sum()"
   ]
  },
  {
   "cell_type": "markdown",
   "id": "0819bc8f",
   "metadata": {},
   "source": [
    "## There are missing values in the dataset"
   ]
  },
  {
   "cell_type": "code",
   "execution_count": 7,
   "id": "9c529125",
   "metadata": {},
   "outputs": [
    {
     "name": "stdout",
     "output_type": "stream",
     "text": [
      "p_id 0.0013  % missing values\n",
      "name 0.0013  % missing values\n",
      "price 0.0013  % missing values\n",
      "colour 0.0015  % missing values\n",
      "brand 0.0013  % missing values\n",
      "img 0.0013  % missing values\n",
      "ratingCount 0.5408  % missing values\n",
      "avg_rating 0.5408  % missing values\n",
      "description 0.0013  % missing values\n",
      "p_attributes 0.0013  % missing values\n"
     ]
    }
   ],
   "source": [
    "features_with_na=[features for features in fashion.columns if fashion[features].isnull().sum()>1]\n",
    "\n",
    "for feature in features_with_na:\n",
    "    print(feature, np.round(fashion[feature].isnull().mean(), 4),  ' % missing values')"
   ]
  },
  {
   "cell_type": "code",
   "execution_count": 8,
   "id": "81f009d0",
   "metadata": {},
   "outputs": [
    {
     "data": {
      "text/plain": [
       "['p_id',\n",
       " 'name',\n",
       " 'price',\n",
       " 'colour',\n",
       " 'brand',\n",
       " 'img',\n",
       " 'ratingCount',\n",
       " 'avg_rating',\n",
       " 'description',\n",
       " 'p_attributes']"
      ]
     },
     "execution_count": 8,
     "metadata": {},
     "output_type": "execute_result"
    }
   ],
   "source": [
    "features_with_na"
   ]
  },
  {
   "cell_type": "markdown",
   "id": "726274a8",
   "metadata": {},
   "source": [
    "## Planning to deal with missing values"
   ]
  },
  {
   "cell_type": "markdown",
   "id": "db9ba571",
   "metadata": {},
   "source": [
    "- As we are building content based recommendation System so therefore features like ratingCount and avg_rating are not essential for the recommendation purpose so therefore we are dropping them\n",
    "- after dropping them we have very less amount of missing values in remaining features with nan so therefore simply we will drop na because they will not affect the system"
   ]
  },
  {
   "cell_type": "code",
   "execution_count": 9,
   "id": "a49102bb",
   "metadata": {},
   "outputs": [],
   "source": [
    "fashion.drop([\"ratingCount\",\"avg_rating\"],axis=1,inplace=True)"
   ]
  },
  {
   "cell_type": "code",
   "execution_count": 10,
   "id": "5d63ffb8",
   "metadata": {},
   "outputs": [],
   "source": [
    "fashion.dropna(inplace=True)"
   ]
  },
  {
   "cell_type": "code",
   "execution_count": 11,
   "id": "e5c0d0e9",
   "metadata": {},
   "outputs": [
    {
     "data": {
      "text/plain": [
       "p_id            0\n",
       "name            0\n",
       "price           0\n",
       "colour          0\n",
       "brand           0\n",
       "img             0\n",
       "description     0\n",
       "p_attributes    0\n",
       "dtype: int64"
      ]
     },
     "execution_count": 11,
     "metadata": {},
     "output_type": "execute_result"
    }
   ],
   "source": [
    "fashion.isna().sum()"
   ]
  },
  {
   "cell_type": "code",
   "execution_count": 12,
   "id": "ace05c2a",
   "metadata": {},
   "outputs": [
    {
     "data": {
      "text/plain": [
       "(14309, 8)"
      ]
     },
     "execution_count": 12,
     "metadata": {},
     "output_type": "execute_result"
    }
   ],
   "source": [
    "fashion.shape"
   ]
  },
  {
   "cell_type": "markdown",
   "id": "c7e98a69",
   "metadata": {},
   "source": [
    "## Checking the duplicates"
   ]
  },
  {
   "cell_type": "code",
   "execution_count": 13,
   "id": "4c9a24e8",
   "metadata": {},
   "outputs": [
    {
     "data": {
      "text/plain": [
       "np.int64(44)"
      ]
     },
     "execution_count": 13,
     "metadata": {},
     "output_type": "execute_result"
    }
   ],
   "source": [
    "fashion.duplicated().sum()"
   ]
  },
  {
   "cell_type": "code",
   "execution_count": 14,
   "id": "8d88ce74",
   "metadata": {},
   "outputs": [],
   "source": [
    "fashion.drop_duplicates(inplace=True)"
   ]
  },
  {
   "cell_type": "code",
   "execution_count": 15,
   "id": "fa167100",
   "metadata": {},
   "outputs": [
    {
     "data": {
      "text/plain": [
       "np.int64(0)"
      ]
     },
     "execution_count": 15,
     "metadata": {},
     "output_type": "execute_result"
    }
   ],
   "source": [
    "fashion.duplicated().sum()"
   ]
  },
  {
   "cell_type": "code",
   "execution_count": 16,
   "id": "712d9106",
   "metadata": {},
   "outputs": [
    {
     "data": {
      "text/plain": [
       "(14265, 8)"
      ]
     },
     "execution_count": 16,
     "metadata": {},
     "output_type": "execute_result"
    }
   ],
   "source": [
    "fashion.shape"
   ]
  },
  {
   "cell_type": "markdown",
   "id": "f3b59c2f",
   "metadata": {},
   "source": [
    "## Checking data types"
   ]
  },
  {
   "cell_type": "code",
   "execution_count": 17,
   "id": "6cc6e834",
   "metadata": {},
   "outputs": [
    {
     "name": "stdout",
     "output_type": "stream",
     "text": [
      "<class 'pandas.core.frame.DataFrame'>\n",
      "Index: 14265 entries, 0 to 14329\n",
      "Data columns (total 8 columns):\n",
      " #   Column        Non-Null Count  Dtype  \n",
      "---  ------        --------------  -----  \n",
      " 0   p_id          14265 non-null  float64\n",
      " 1   name          14265 non-null  object \n",
      " 2   price         14265 non-null  float64\n",
      " 3   colour        14265 non-null  object \n",
      " 4   brand         14265 non-null  object \n",
      " 5   img           14265 non-null  object \n",
      " 6   description   14265 non-null  object \n",
      " 7   p_attributes  14265 non-null  object \n",
      "dtypes: float64(2), object(6)\n",
      "memory usage: 1003.0+ KB\n"
     ]
    }
   ],
   "source": [
    "fashion.info()"
   ]
  },
  {
   "cell_type": "markdown",
   "id": "4f52f13b",
   "metadata": {},
   "source": [
    "## Checking the number of unique values of each column"
   ]
  },
  {
   "cell_type": "code",
   "execution_count": 18,
   "id": "255f71c8",
   "metadata": {},
   "outputs": [
    {
     "data": {
      "text/plain": [
       "p_id            14220\n",
       "name            13879\n",
       "price            1208\n",
       "colour             49\n",
       "brand            1021\n",
       "img             14220\n",
       "description     14232\n",
       "p_attributes    13094\n",
       "dtype: int64"
      ]
     },
     "execution_count": 18,
     "metadata": {},
     "output_type": "execute_result"
    }
   ],
   "source": [
    "fashion.nunique()"
   ]
  },
  {
   "cell_type": "markdown",
   "id": "d2e6e2e5",
   "metadata": {},
   "source": [
    "## Check statistics of data set"
   ]
  },
  {
   "cell_type": "code",
   "execution_count": 19,
   "id": "31e1e9a7",
   "metadata": {},
   "outputs": [
    {
     "data": {
      "text/html": [
       "<div>\n",
       "<style scoped>\n",
       "    .dataframe tbody tr th:only-of-type {\n",
       "        vertical-align: middle;\n",
       "    }\n",
       "\n",
       "    .dataframe tbody tr th {\n",
       "        vertical-align: top;\n",
       "    }\n",
       "\n",
       "    .dataframe thead th {\n",
       "        text-align: right;\n",
       "    }\n",
       "</style>\n",
       "<table border=\"1\" class=\"dataframe\">\n",
       "  <thead>\n",
       "    <tr style=\"text-align: right;\">\n",
       "      <th></th>\n",
       "      <th>p_id</th>\n",
       "      <th>price</th>\n",
       "    </tr>\n",
       "  </thead>\n",
       "  <tbody>\n",
       "    <tr>\n",
       "      <th>count</th>\n",
       "      <td>1.426500e+04</td>\n",
       "      <td>14265.000000</td>\n",
       "    </tr>\n",
       "    <tr>\n",
       "      <th>mean</th>\n",
       "      <td>1.568854e+07</td>\n",
       "      <td>2967.732072</td>\n",
       "    </tr>\n",
       "    <tr>\n",
       "      <th>std</th>\n",
       "      <td>3.155228e+06</td>\n",
       "      <td>2566.815871</td>\n",
       "    </tr>\n",
       "    <tr>\n",
       "      <th>min</th>\n",
       "      <td>7.016600e+04</td>\n",
       "      <td>169.000000</td>\n",
       "    </tr>\n",
       "    <tr>\n",
       "      <th>25%</th>\n",
       "      <td>1.413618e+07</td>\n",
       "      <td>1599.000000</td>\n",
       "    </tr>\n",
       "    <tr>\n",
       "      <th>50%</th>\n",
       "      <td>1.638203e+07</td>\n",
       "      <td>2200.000000</td>\n",
       "    </tr>\n",
       "    <tr>\n",
       "      <th>75%</th>\n",
       "      <td>1.807605e+07</td>\n",
       "      <td>3497.000000</td>\n",
       "    </tr>\n",
       "    <tr>\n",
       "      <th>max</th>\n",
       "      <td>1.941576e+07</td>\n",
       "      <td>47999.000000</td>\n",
       "    </tr>\n",
       "  </tbody>\n",
       "</table>\n",
       "</div>"
      ],
      "text/plain": [
       "               p_id         price\n",
       "count  1.426500e+04  14265.000000\n",
       "mean   1.568854e+07   2967.732072\n",
       "std    3.155228e+06   2566.815871\n",
       "min    7.016600e+04    169.000000\n",
       "25%    1.413618e+07   1599.000000\n",
       "50%    1.638203e+07   2200.000000\n",
       "75%    1.807605e+07   3497.000000\n",
       "max    1.941576e+07  47999.000000"
      ]
     },
     "execution_count": 19,
     "metadata": {},
     "output_type": "execute_result"
    }
   ],
   "source": [
    "fashion.describe()"
   ]
  },
  {
   "cell_type": "markdown",
   "id": "fcfc0acc",
   "metadata": {},
   "source": [
    "## Insight"
   ]
  },
  {
   "cell_type": "markdown",
   "id": "a96c4ea1",
   "metadata": {},
   "source": [
    "Min price of womens fashion product on myntra is 169 INR and Max is 47999 INR"
   ]
  },
  {
   "cell_type": "code",
   "execution_count": 20,
   "id": "d5b0d30f",
   "metadata": {},
   "outputs": [
    {
     "data": {
      "text/html": [
       "<div>\n",
       "<style scoped>\n",
       "    .dataframe tbody tr th:only-of-type {\n",
       "        vertical-align: middle;\n",
       "    }\n",
       "\n",
       "    .dataframe tbody tr th {\n",
       "        vertical-align: top;\n",
       "    }\n",
       "\n",
       "    .dataframe thead th {\n",
       "        text-align: right;\n",
       "    }\n",
       "</style>\n",
       "<table border=\"1\" class=\"dataframe\">\n",
       "  <thead>\n",
       "    <tr style=\"text-align: right;\">\n",
       "      <th></th>\n",
       "      <th>p_id</th>\n",
       "      <th>name</th>\n",
       "      <th>price</th>\n",
       "      <th>colour</th>\n",
       "      <th>brand</th>\n",
       "      <th>img</th>\n",
       "      <th>description</th>\n",
       "      <th>p_attributes</th>\n",
       "    </tr>\n",
       "  </thead>\n",
       "  <tbody>\n",
       "    <tr>\n",
       "      <th>0</th>\n",
       "      <td>17048614.0</td>\n",
       "      <td>Khushal K Women Black Ethnic Motifs Printed Ku...</td>\n",
       "      <td>5099.0</td>\n",
       "      <td>Black</td>\n",
       "      <td>Khushal K</td>\n",
       "      <td>http://assets.myntassets.com/assets/images/170...</td>\n",
       "      <td>Black printed Kurta with Palazzos with dupatta...</td>\n",
       "      <td>{'Add-Ons': 'NA', 'Body Shape ID': '443,333,32...</td>\n",
       "    </tr>\n",
       "    <tr>\n",
       "      <th>1</th>\n",
       "      <td>16524740.0</td>\n",
       "      <td>InWeave Women Orange Solid Kurta with Palazzos...</td>\n",
       "      <td>5899.0</td>\n",
       "      <td>Orange</td>\n",
       "      <td>InWeave</td>\n",
       "      <td>http://assets.myntassets.com/assets/images/165...</td>\n",
       "      <td>Orange solid Kurta with Palazzos with dupatta&lt;...</td>\n",
       "      <td>{'Add-Ons': 'NA', 'Body Shape ID': '443,333,32...</td>\n",
       "    </tr>\n",
       "  </tbody>\n",
       "</table>\n",
       "</div>"
      ],
      "text/plain": [
       "         p_id                                               name   price  \\\n",
       "0  17048614.0  Khushal K Women Black Ethnic Motifs Printed Ku...  5099.0   \n",
       "1  16524740.0  InWeave Women Orange Solid Kurta with Palazzos...  5899.0   \n",
       "\n",
       "   colour      brand                                                img  \\\n",
       "0   Black  Khushal K  http://assets.myntassets.com/assets/images/170...   \n",
       "1  Orange    InWeave  http://assets.myntassets.com/assets/images/165...   \n",
       "\n",
       "                                         description  \\\n",
       "0  Black printed Kurta with Palazzos with dupatta...   \n",
       "1  Orange solid Kurta with Palazzos with dupatta<...   \n",
       "\n",
       "                                        p_attributes  \n",
       "0  {'Add-Ons': 'NA', 'Body Shape ID': '443,333,32...  \n",
       "1  {'Add-Ons': 'NA', 'Body Shape ID': '443,333,32...  "
      ]
     },
     "execution_count": 20,
     "metadata": {},
     "output_type": "execute_result"
    }
   ],
   "source": [
    "fashion.head(2)"
   ]
  },
  {
   "cell_type": "code",
   "execution_count": 21,
   "id": "b2e5caa1",
   "metadata": {},
   "outputs": [
    {
     "data": {
      "text/plain": [
       "(14265, 8)"
      ]
     },
     "execution_count": 21,
     "metadata": {},
     "output_type": "execute_result"
    }
   ],
   "source": [
    "fashion.shape"
   ]
  },
  {
   "cell_type": "markdown",
   "id": "40dff9df",
   "metadata": {},
   "source": [
    "## Over here we are dealing with description feature"
   ]
  },
  {
   "cell_type": "code",
   "execution_count": 22,
   "id": "a767e8c7",
   "metadata": {},
   "outputs": [
    {
     "data": {
      "text/plain": [
       "\"Black printed Kurta with Palazzos with dupatta <br> <br> <b> Kurta design:  </b> <ul> <li> Ethnic motifs printed </li> <li> Anarkali shape </li> <li> Regular style </li> <li> Mandarin collar,  three-quarter regular sleeves </li> <li> Calf length with flared hem </li> <li> Viscose rayon machine weave fabric </li> </ul> <br> <b> Palazzos design:  </b> <ul> <li> Printed Palazzos </li> <li> Elasticated waistband </li> <li> Slip-on closure </li> </ul>Dupatta Length 2.43 meters Width:&nbsp;88 cm<br>The model (height 5'8) is wearing a size S100% Rayon<br>Machine wash\""
      ]
     },
     "execution_count": 22,
     "metadata": {},
     "output_type": "execute_result"
    }
   ],
   "source": [
    "fashion.iloc[0]['description']"
   ]
  },
  {
   "cell_type": "markdown",
   "id": "00a65656",
   "metadata": {},
   "source": [
    "## We are removing the HTML elements from the description feature over here using regular expressions"
   ]
  },
  {
   "cell_type": "code",
   "execution_count": 23,
   "id": "5cb5a064",
   "metadata": {},
   "outputs": [],
   "source": [
    "import re\n",
    "\n",
    "regex1 = re.compile(r'<[^>]+>')\n",
    "\n",
    "def remove_html(string):\n",
    "    return regex1.sub('', string)\n"
   ]
  },
  {
   "cell_type": "markdown",
   "id": "de0b327f",
   "metadata": {},
   "source": [
    "## Removing &nbsp symbol from the string using regular expression over here"
   ]
  },
  {
   "cell_type": "code",
   "execution_count": 24,
   "id": "8e95fb0b",
   "metadata": {},
   "outputs": [],
   "source": [
    "clean_nbsp = re.compile(r'&.*?;')\n",
    "def remove_nbsp(string):\n",
    "    return clean_nbsp.sub('',string)"
   ]
  },
  {
   "cell_type": "code",
   "execution_count": 25,
   "id": "d70902eb",
   "metadata": {},
   "outputs": [],
   "source": [
    "fashion['description']=fashion['description'].apply(remove_html)\n",
    "fashion['description']=fashion['description'].apply(remove_nbsp)"
   ]
  },
  {
   "cell_type": "code",
   "execution_count": 26,
   "id": "0706fff5",
   "metadata": {
    "scrolled": true
   },
   "outputs": [
    {
     "data": {
      "text/plain": [
       "\"Black printed Kurta with Palazzos with dupatta    Kurta design:     Ethnic motifs printed   Anarkali shape   Regular style   Mandarin collar,  three-quarter regular sleeves   Calf length with flared hem   Viscose rayon machine weave fabric     Palazzos design:     Printed Palazzos   Elasticated waistband   Slip-on closure  Dupatta Length 2.43 meters Width:88 cmThe model (height 5'8) is wearing a size S100% RayonMachine wash\""
      ]
     },
     "execution_count": 26,
     "metadata": {},
     "output_type": "execute_result"
    }
   ],
   "source": [
    "fashion.iloc[0]['description']"
   ]
  },
  {
   "cell_type": "code",
   "execution_count": 27,
   "id": "431a9706",
   "metadata": {},
   "outputs": [
    {
     "data": {
      "text/html": [
       "<div>\n",
       "<style scoped>\n",
       "    .dataframe tbody tr th:only-of-type {\n",
       "        vertical-align: middle;\n",
       "    }\n",
       "\n",
       "    .dataframe tbody tr th {\n",
       "        vertical-align: top;\n",
       "    }\n",
       "\n",
       "    .dataframe thead th {\n",
       "        text-align: right;\n",
       "    }\n",
       "</style>\n",
       "<table border=\"1\" class=\"dataframe\">\n",
       "  <thead>\n",
       "    <tr style=\"text-align: right;\">\n",
       "      <th></th>\n",
       "      <th>p_id</th>\n",
       "      <th>name</th>\n",
       "      <th>price</th>\n",
       "      <th>colour</th>\n",
       "      <th>brand</th>\n",
       "      <th>img</th>\n",
       "      <th>description</th>\n",
       "      <th>p_attributes</th>\n",
       "    </tr>\n",
       "  </thead>\n",
       "  <tbody>\n",
       "    <tr>\n",
       "      <th>0</th>\n",
       "      <td>17048614.0</td>\n",
       "      <td>Khushal K Women Black Ethnic Motifs Printed Ku...</td>\n",
       "      <td>5099.0</td>\n",
       "      <td>Black</td>\n",
       "      <td>Khushal K</td>\n",
       "      <td>http://assets.myntassets.com/assets/images/170...</td>\n",
       "      <td>Black printed Kurta with Palazzos with dupatta...</td>\n",
       "      <td>{'Add-Ons': 'NA', 'Body Shape ID': '443,333,32...</td>\n",
       "    </tr>\n",
       "    <tr>\n",
       "      <th>1</th>\n",
       "      <td>16524740.0</td>\n",
       "      <td>InWeave Women Orange Solid Kurta with Palazzos...</td>\n",
       "      <td>5899.0</td>\n",
       "      <td>Orange</td>\n",
       "      <td>InWeave</td>\n",
       "      <td>http://assets.myntassets.com/assets/images/165...</td>\n",
       "      <td>Orange solid Kurta with Palazzos with dupattaK...</td>\n",
       "      <td>{'Add-Ons': 'NA', 'Body Shape ID': '443,333,32...</td>\n",
       "    </tr>\n",
       "    <tr>\n",
       "      <th>2</th>\n",
       "      <td>16331376.0</td>\n",
       "      <td>Anubhutee Women Navy Blue Ethnic Motifs Embroi...</td>\n",
       "      <td>4899.0</td>\n",
       "      <td>Navy Blue</td>\n",
       "      <td>Anubhutee</td>\n",
       "      <td>http://assets.myntassets.com/assets/images/163...</td>\n",
       "      <td>Navy blue embroidered Kurta with Trousers with...</td>\n",
       "      <td>{'Add-Ons': 'NA', 'Body Shape ID': '333,424', ...</td>\n",
       "    </tr>\n",
       "    <tr>\n",
       "      <th>3</th>\n",
       "      <td>14709966.0</td>\n",
       "      <td>Nayo Women Red Floral Printed Kurta With Trous...</td>\n",
       "      <td>3699.0</td>\n",
       "      <td>Red</td>\n",
       "      <td>Nayo</td>\n",
       "      <td>http://assets.myntassets.com/assets/images/147...</td>\n",
       "      <td>Red printed kurta with trouser and dupattaKurt...</td>\n",
       "      <td>{'Add-Ons': 'NA', 'Body Shape ID': '333,424', ...</td>\n",
       "    </tr>\n",
       "    <tr>\n",
       "      <th>4</th>\n",
       "      <td>11056154.0</td>\n",
       "      <td>AHIKA Women Black &amp; Green Printed Straight Kurta</td>\n",
       "      <td>1350.0</td>\n",
       "      <td>Black</td>\n",
       "      <td>AHIKA</td>\n",
       "      <td>http://assets.myntassets.com/assets/images/110...</td>\n",
       "      <td>Black and green printed straight kurta, has a ...</td>\n",
       "      <td>{'Body Shape ID': '424', 'Body or Garment Size...</td>\n",
       "    </tr>\n",
       "  </tbody>\n",
       "</table>\n",
       "</div>"
      ],
      "text/plain": [
       "         p_id                                               name   price  \\\n",
       "0  17048614.0  Khushal K Women Black Ethnic Motifs Printed Ku...  5099.0   \n",
       "1  16524740.0  InWeave Women Orange Solid Kurta with Palazzos...  5899.0   \n",
       "2  16331376.0  Anubhutee Women Navy Blue Ethnic Motifs Embroi...  4899.0   \n",
       "3  14709966.0  Nayo Women Red Floral Printed Kurta With Trous...  3699.0   \n",
       "4  11056154.0   AHIKA Women Black & Green Printed Straight Kurta  1350.0   \n",
       "\n",
       "      colour      brand                                                img  \\\n",
       "0      Black  Khushal K  http://assets.myntassets.com/assets/images/170...   \n",
       "1     Orange    InWeave  http://assets.myntassets.com/assets/images/165...   \n",
       "2  Navy Blue  Anubhutee  http://assets.myntassets.com/assets/images/163...   \n",
       "3        Red       Nayo  http://assets.myntassets.com/assets/images/147...   \n",
       "4      Black      AHIKA  http://assets.myntassets.com/assets/images/110...   \n",
       "\n",
       "                                         description  \\\n",
       "0  Black printed Kurta with Palazzos with dupatta...   \n",
       "1  Orange solid Kurta with Palazzos with dupattaK...   \n",
       "2  Navy blue embroidered Kurta with Trousers with...   \n",
       "3  Red printed kurta with trouser and dupattaKurt...   \n",
       "4  Black and green printed straight kurta, has a ...   \n",
       "\n",
       "                                        p_attributes  \n",
       "0  {'Add-Ons': 'NA', 'Body Shape ID': '443,333,32...  \n",
       "1  {'Add-Ons': 'NA', 'Body Shape ID': '443,333,32...  \n",
       "2  {'Add-Ons': 'NA', 'Body Shape ID': '333,424', ...  \n",
       "3  {'Add-Ons': 'NA', 'Body Shape ID': '333,424', ...  \n",
       "4  {'Body Shape ID': '424', 'Body or Garment Size...  "
      ]
     },
     "execution_count": 27,
     "metadata": {},
     "output_type": "execute_result"
    }
   ],
   "source": [
    "fashion.head(5)"
   ]
  },
  {
   "cell_type": "markdown",
   "id": "8d45596b",
   "metadata": {},
   "source": [
    "## Converting the description feature into the list over here"
   ]
  },
  {
   "cell_type": "code",
   "execution_count": 28,
   "id": "2cc296ec",
   "metadata": {},
   "outputs": [
    {
     "data": {
      "text/html": [
       "<div>\n",
       "<style scoped>\n",
       "    .dataframe tbody tr th:only-of-type {\n",
       "        vertical-align: middle;\n",
       "    }\n",
       "\n",
       "    .dataframe tbody tr th {\n",
       "        vertical-align: top;\n",
       "    }\n",
       "\n",
       "    .dataframe thead th {\n",
       "        text-align: right;\n",
       "    }\n",
       "</style>\n",
       "<table border=\"1\" class=\"dataframe\">\n",
       "  <thead>\n",
       "    <tr style=\"text-align: right;\">\n",
       "      <th></th>\n",
       "      <th>p_id</th>\n",
       "      <th>name</th>\n",
       "      <th>price</th>\n",
       "      <th>colour</th>\n",
       "      <th>brand</th>\n",
       "      <th>img</th>\n",
       "      <th>description</th>\n",
       "      <th>p_attributes</th>\n",
       "    </tr>\n",
       "  </thead>\n",
       "  <tbody>\n",
       "    <tr>\n",
       "      <th>4360</th>\n",
       "      <td>18290008.0</td>\n",
       "      <td>Go Colors Women Black Tapered Fit Trousers</td>\n",
       "      <td>799.0</td>\n",
       "      <td>Black</td>\n",
       "      <td>Go Colors</td>\n",
       "      <td>http://assets.myntassets.com/assets/images/182...</td>\n",
       "      <td>[Black, woven, trousers, Tapered, fit, Mid-ris...</td>\n",
       "      <td>{'Add-Ons': 'NA', 'Body Shape ID': '443,333,42...</td>\n",
       "    </tr>\n",
       "    <tr>\n",
       "      <th>2190</th>\n",
       "      <td>19171276.0</td>\n",
       "      <td>Kraus Jeans Women Blue Straight Fit High-Rise ...</td>\n",
       "      <td>1795.0</td>\n",
       "      <td>Blue</td>\n",
       "      <td>Kraus Jeans</td>\n",
       "      <td>http://assets.myntassets.com/assets/images/191...</td>\n",
       "      <td>[Light, shade,, no, fade, blue, jeans, Straigh...</td>\n",
       "      <td>{'Add-Ons': 'NA', 'Body or Garment Size': 'To-...</td>\n",
       "    </tr>\n",
       "    <tr>\n",
       "      <th>1771</th>\n",
       "      <td>14447568.0</td>\n",
       "      <td>Tokyo Talkies Pink Off-Shoulder Bardot Top</td>\n",
       "      <td>699.0</td>\n",
       "      <td>Pink</td>\n",
       "      <td>Tokyo Talkies</td>\n",
       "      <td>http://assets.myntassets.com/assets/images/pro...</td>\n",
       "      <td>[Pink, regular, bardot, top, Solid, Off-should...</td>\n",
       "      <td>{'Body Shape ID': '333,324,424', 'Body or Garm...</td>\n",
       "    </tr>\n",
       "    <tr>\n",
       "      <th>13178</th>\n",
       "      <td>9338261.0</td>\n",
       "      <td>SCORPIOUS Women Pack of Shrug &amp; Top</td>\n",
       "      <td>2198.0</td>\n",
       "      <td>Multi</td>\n",
       "      <td>SCORPIUS</td>\n",
       "      <td>http://assets.myntassets.com/assets/images/933...</td>\n",
       "      <td>[Pack, of, shrug, and, topSCORPIUS, Women, Red...</td>\n",
       "      <td>{'Body or Garment Size': 'Garment Measurements...</td>\n",
       "    </tr>\n",
       "  </tbody>\n",
       "</table>\n",
       "</div>"
      ],
      "text/plain": [
       "             p_id                                               name   price  \\\n",
       "4360   18290008.0         Go Colors Women Black Tapered Fit Trousers   799.0   \n",
       "2190   19171276.0  Kraus Jeans Women Blue Straight Fit High-Rise ...  1795.0   \n",
       "1771   14447568.0         Tokyo Talkies Pink Off-Shoulder Bardot Top   699.0   \n",
       "13178   9338261.0                SCORPIOUS Women Pack of Shrug & Top  2198.0   \n",
       "\n",
       "      colour          brand  \\\n",
       "4360   Black      Go Colors   \n",
       "2190    Blue    Kraus Jeans   \n",
       "1771    Pink  Tokyo Talkies   \n",
       "13178  Multi       SCORPIUS   \n",
       "\n",
       "                                                     img  \\\n",
       "4360   http://assets.myntassets.com/assets/images/182...   \n",
       "2190   http://assets.myntassets.com/assets/images/191...   \n",
       "1771   http://assets.myntassets.com/assets/images/pro...   \n",
       "13178  http://assets.myntassets.com/assets/images/933...   \n",
       "\n",
       "                                             description  \\\n",
       "4360   [Black, woven, trousers, Tapered, fit, Mid-ris...   \n",
       "2190   [Light, shade,, no, fade, blue, jeans, Straigh...   \n",
       "1771   [Pink, regular, bardot, top, Solid, Off-should...   \n",
       "13178  [Pack, of, shrug, and, topSCORPIUS, Women, Red...   \n",
       "\n",
       "                                            p_attributes  \n",
       "4360   {'Add-Ons': 'NA', 'Body Shape ID': '443,333,42...  \n",
       "2190   {'Add-Ons': 'NA', 'Body or Garment Size': 'To-...  \n",
       "1771   {'Body Shape ID': '333,324,424', 'Body or Garm...  \n",
       "13178  {'Body or Garment Size': 'Garment Measurements...  "
      ]
     },
     "execution_count": 28,
     "metadata": {},
     "output_type": "execute_result"
    }
   ],
   "source": [
    "fashion['description'] = fashion['description'].apply(lambda x:x.split())\n",
    "fashion.sample(4)"
   ]
  },
  {
   "cell_type": "code",
   "execution_count": 29,
   "id": "a0b8f2d0",
   "metadata": {},
   "outputs": [
    {
     "data": {
      "text/plain": [
       "['Black',\n",
       " 'printed',\n",
       " 'Kurta',\n",
       " 'with',\n",
       " 'Palazzos',\n",
       " 'with',\n",
       " 'dupatta',\n",
       " 'Kurta',\n",
       " 'design:',\n",
       " 'Ethnic',\n",
       " 'motifs',\n",
       " 'printed',\n",
       " 'Anarkali',\n",
       " 'shape',\n",
       " 'Regular',\n",
       " 'style',\n",
       " 'Mandarin',\n",
       " 'collar,',\n",
       " 'three-quarter',\n",
       " 'regular',\n",
       " 'sleeves',\n",
       " 'Calf',\n",
       " 'length',\n",
       " 'with',\n",
       " 'flared',\n",
       " 'hem',\n",
       " 'Viscose',\n",
       " 'rayon',\n",
       " 'machine',\n",
       " 'weave',\n",
       " 'fabric',\n",
       " 'Palazzos',\n",
       " 'design:',\n",
       " 'Printed',\n",
       " 'Palazzos',\n",
       " 'Elasticated',\n",
       " 'waistband',\n",
       " 'Slip-on',\n",
       " 'closure',\n",
       " 'Dupatta',\n",
       " 'Length',\n",
       " '2.43',\n",
       " 'meters',\n",
       " 'Width:88',\n",
       " 'cmThe',\n",
       " 'model',\n",
       " '(height',\n",
       " \"5'8)\",\n",
       " 'is',\n",
       " 'wearing',\n",
       " 'a',\n",
       " 'size',\n",
       " 'S100%',\n",
       " 'RayonMachine',\n",
       " 'wash']"
      ]
     },
     "execution_count": 29,
     "metadata": {},
     "output_type": "execute_result"
    }
   ],
   "source": [
    "fashion.iloc[0]['description']"
   ]
  },
  {
   "cell_type": "markdown",
   "id": "3152af96",
   "metadata": {},
   "source": [
    "## Over here we are dealing with product attributes"
   ]
  },
  {
   "cell_type": "code",
   "execution_count": 30,
   "id": "5465be94",
   "metadata": {},
   "outputs": [
    {
     "data": {
      "text/plain": [
       "\"{'Add-Ons': 'NA', 'Body Shape ID': '443,333,324,424', 'Body or Garment Size': 'Garment Measurements in', 'Bottom Closure': 'Slip-On', 'Bottom Fabric': 'Viscose Rayon', 'Bottom Pattern': 'Printed', 'Bottom Type': 'Palazzos', 'Character': 'NA', 'Dupatta': 'With Dupatta', 'Dupatta Border': 'Solid', 'Dupatta Fabric': 'Viscose Rayon', 'Dupatta Pattern': 'Printed', 'Main Trend': 'Indie Prints', 'Neck': 'Mandarin Collar', 'Number of Pockets': 'NA', 'Occasion': 'Festive', 'Ornamentation': 'NA', 'Pattern Coverage': 'Placement', 'Print or Pattern Type': 'Ethnic Motifs', 'Sleeve Length': 'Three-Quarter Sleeves', 'Sleeve Styling': 'Regular Sleeves', 'Slit Detail': 'NA', 'Stitch': 'Ready to Wear', 'Sustainable': 'Regular', 'Technique': 'Screen', 'Top Design Styling': 'Regular', 'Top Fabric': 'Viscose Rayon', 'Top Hemline': 'Flared', 'Top Length': 'Calf Length', 'Top Pattern': 'Printed', 'Top Shape': 'Anarkali', 'Top Type': 'Kurta', 'Waistband': 'Elasticated', 'Wash Care': 'Machine Wash', 'Weave Pattern': 'Regular', 'Weave Type': 'Machine Weave'}\""
      ]
     },
     "execution_count": 30,
     "metadata": {},
     "output_type": "execute_result"
    }
   ],
   "source": [
    "fashion.iloc[0]['p_attributes']"
   ]
  },
  {
   "cell_type": "markdown",
   "id": "49aea018",
   "metadata": {},
   "source": [
    "## Converting the dict into list"
   ]
  },
  {
   "cell_type": "code",
   "execution_count": 31,
   "id": "6cf413af",
   "metadata": {},
   "outputs": [],
   "source": [
    "import ast\n",
    "def dict_to_list(input_string):\n",
    "    input_dict = ast.literal_eval(input_string)\n",
    "    return list(input_dict.values())"
   ]
  },
  {
   "cell_type": "code",
   "execution_count": 32,
   "id": "798ceb50",
   "metadata": {},
   "outputs": [],
   "source": [
    "fashion['p_attributes'] = fashion['p_attributes'].apply(dict_to_list)\n"
   ]
  },
  {
   "cell_type": "code",
   "execution_count": 33,
   "id": "c29d8456",
   "metadata": {},
   "outputs": [
    {
     "data": {
      "text/html": [
       "<div>\n",
       "<style scoped>\n",
       "    .dataframe tbody tr th:only-of-type {\n",
       "        vertical-align: middle;\n",
       "    }\n",
       "\n",
       "    .dataframe tbody tr th {\n",
       "        vertical-align: top;\n",
       "    }\n",
       "\n",
       "    .dataframe thead th {\n",
       "        text-align: right;\n",
       "    }\n",
       "</style>\n",
       "<table border=\"1\" class=\"dataframe\">\n",
       "  <thead>\n",
       "    <tr style=\"text-align: right;\">\n",
       "      <th></th>\n",
       "      <th>p_id</th>\n",
       "      <th>name</th>\n",
       "      <th>price</th>\n",
       "      <th>colour</th>\n",
       "      <th>brand</th>\n",
       "      <th>img</th>\n",
       "      <th>description</th>\n",
       "      <th>p_attributes</th>\n",
       "    </tr>\n",
       "  </thead>\n",
       "  <tbody>\n",
       "    <tr>\n",
       "      <th>0</th>\n",
       "      <td>17048614.0</td>\n",
       "      <td>Khushal K Women Black Ethnic Motifs Printed Ku...</td>\n",
       "      <td>5099.0</td>\n",
       "      <td>Black</td>\n",
       "      <td>Khushal K</td>\n",
       "      <td>http://assets.myntassets.com/assets/images/170...</td>\n",
       "      <td>[Black, printed, Kurta, with, Palazzos, with, ...</td>\n",
       "      <td>[NA, 443,333,324,424, Garment Measurements in,...</td>\n",
       "    </tr>\n",
       "    <tr>\n",
       "      <th>1</th>\n",
       "      <td>16524740.0</td>\n",
       "      <td>InWeave Women Orange Solid Kurta with Palazzos...</td>\n",
       "      <td>5899.0</td>\n",
       "      <td>Orange</td>\n",
       "      <td>InWeave</td>\n",
       "      <td>http://assets.myntassets.com/assets/images/165...</td>\n",
       "      <td>[Orange, solid, Kurta, with, Palazzos, with, d...</td>\n",
       "      <td>[NA, 443,333,324,424, Garment Measurements in,...</td>\n",
       "    </tr>\n",
       "    <tr>\n",
       "      <th>2</th>\n",
       "      <td>16331376.0</td>\n",
       "      <td>Anubhutee Women Navy Blue Ethnic Motifs Embroi...</td>\n",
       "      <td>4899.0</td>\n",
       "      <td>Navy Blue</td>\n",
       "      <td>Anubhutee</td>\n",
       "      <td>http://assets.myntassets.com/assets/images/163...</td>\n",
       "      <td>[Navy, blue, embroidered, Kurta, with, Trouser...</td>\n",
       "      <td>[NA, 333,424, Garment Measurements in, Slip-On...</td>\n",
       "    </tr>\n",
       "    <tr>\n",
       "      <th>3</th>\n",
       "      <td>14709966.0</td>\n",
       "      <td>Nayo Women Red Floral Printed Kurta With Trous...</td>\n",
       "      <td>3699.0</td>\n",
       "      <td>Red</td>\n",
       "      <td>Nayo</td>\n",
       "      <td>http://assets.myntassets.com/assets/images/147...</td>\n",
       "      <td>[Red, printed, kurta, with, trouser, and, dupa...</td>\n",
       "      <td>[NA, 333,424, Garment Measurements in, Slip-On...</td>\n",
       "    </tr>\n",
       "    <tr>\n",
       "      <th>4</th>\n",
       "      <td>11056154.0</td>\n",
       "      <td>AHIKA Women Black &amp; Green Printed Straight Kurta</td>\n",
       "      <td>1350.0</td>\n",
       "      <td>Black</td>\n",
       "      <td>AHIKA</td>\n",
       "      <td>http://assets.myntassets.com/assets/images/110...</td>\n",
       "      <td>[Black, and, green, printed, straight, kurta,,...</td>\n",
       "      <td>[424, Garment Measurements in, Monochrome, Reg...</td>\n",
       "    </tr>\n",
       "    <tr>\n",
       "      <th>...</th>\n",
       "      <td>...</td>\n",
       "      <td>...</td>\n",
       "      <td>...</td>\n",
       "      <td>...</td>\n",
       "      <td>...</td>\n",
       "      <td>...</td>\n",
       "      <td>...</td>\n",
       "      <td>...</td>\n",
       "    </tr>\n",
       "    <tr>\n",
       "      <th>14325</th>\n",
       "      <td>15415116.0</td>\n",
       "      <td>Flying Machine Women Blue Solid Mock-Collar Fr...</td>\n",
       "      <td>2299.0</td>\n",
       "      <td>Blue</td>\n",
       "      <td>Flying Machine</td>\n",
       "      <td>http://assets.myntassets.com/assets/images/154...</td>\n",
       "      <td>[Blue, solid, front-open, sweatshirt, has, a, ...</td>\n",
       "      <td>[443,424,324, Garment Measurements in, Yes, NA...</td>\n",
       "    </tr>\n",
       "    <tr>\n",
       "      <th>14326</th>\n",
       "      <td>16470114.0</td>\n",
       "      <td>Juelle Women Green Printed Hooded Sweatshirt</td>\n",
       "      <td>2299.0</td>\n",
       "      <td>Green</td>\n",
       "      <td>Juelle</td>\n",
       "      <td>http://assets.myntassets.com/assets/images/164...</td>\n",
       "      <td>[Green, printed, sweatshirt, has, a, hooded,, ...</td>\n",
       "      <td>[443,424,324, Garment Measurements in, No, NA,...</td>\n",
       "    </tr>\n",
       "    <tr>\n",
       "      <th>14327</th>\n",
       "      <td>16382150.0</td>\n",
       "      <td>Vero Moda Women Pink Sweatshirt</td>\n",
       "      <td>2299.0</td>\n",
       "      <td>Pink</td>\n",
       "      <td>Vero Moda</td>\n",
       "      <td>http://assets.myntassets.com/assets/images/163...</td>\n",
       "      <td>[Pink, solid, sweatshirt, has, a, mock, collar...</td>\n",
       "      <td>[443,424,324, To-Fit Denotes Body Measurements...</td>\n",
       "    </tr>\n",
       "    <tr>\n",
       "      <th>14328</th>\n",
       "      <td>16379664.0</td>\n",
       "      <td>Vero Moda Women Blue Sweatshirt</td>\n",
       "      <td>2299.0</td>\n",
       "      <td>Blue</td>\n",
       "      <td>Vero Moda</td>\n",
       "      <td>http://assets.myntassets.com/assets/images/163...</td>\n",
       "      <td>[Blue, solid, sweatshirt, has, a, round, neck,...</td>\n",
       "      <td>[443,424,324, To-Fit Denotes Body Measurements...</td>\n",
       "    </tr>\n",
       "    <tr>\n",
       "      <th>14329</th>\n",
       "      <td>16379656.0</td>\n",
       "      <td>Vero Moda Women Grey &amp; Green Colourblocked Swe...</td>\n",
       "      <td>2299.0</td>\n",
       "      <td>Grey</td>\n",
       "      <td>Vero Moda</td>\n",
       "      <td>http://assets.myntassets.com/assets/images/163...</td>\n",
       "      <td>[Grey, and, green, colourblocked, sweatshirt, ...</td>\n",
       "      <td>[443,424,324, To-Fit Denotes Body Measurements...</td>\n",
       "    </tr>\n",
       "  </tbody>\n",
       "</table>\n",
       "<p>14265 rows × 8 columns</p>\n",
       "</div>"
      ],
      "text/plain": [
       "             p_id                                               name   price  \\\n",
       "0      17048614.0  Khushal K Women Black Ethnic Motifs Printed Ku...  5099.0   \n",
       "1      16524740.0  InWeave Women Orange Solid Kurta with Palazzos...  5899.0   \n",
       "2      16331376.0  Anubhutee Women Navy Blue Ethnic Motifs Embroi...  4899.0   \n",
       "3      14709966.0  Nayo Women Red Floral Printed Kurta With Trous...  3699.0   \n",
       "4      11056154.0   AHIKA Women Black & Green Printed Straight Kurta  1350.0   \n",
       "...           ...                                                ...     ...   \n",
       "14325  15415116.0  Flying Machine Women Blue Solid Mock-Collar Fr...  2299.0   \n",
       "14326  16470114.0       Juelle Women Green Printed Hooded Sweatshirt  2299.0   \n",
       "14327  16382150.0                    Vero Moda Women Pink Sweatshirt  2299.0   \n",
       "14328  16379664.0                    Vero Moda Women Blue Sweatshirt  2299.0   \n",
       "14329  16379656.0  Vero Moda Women Grey & Green Colourblocked Swe...  2299.0   \n",
       "\n",
       "          colour           brand  \\\n",
       "0          Black       Khushal K   \n",
       "1         Orange         InWeave   \n",
       "2      Navy Blue       Anubhutee   \n",
       "3            Red            Nayo   \n",
       "4          Black           AHIKA   \n",
       "...          ...             ...   \n",
       "14325       Blue  Flying Machine   \n",
       "14326      Green          Juelle   \n",
       "14327       Pink       Vero Moda   \n",
       "14328       Blue       Vero Moda   \n",
       "14329       Grey       Vero Moda   \n",
       "\n",
       "                                                     img  \\\n",
       "0      http://assets.myntassets.com/assets/images/170...   \n",
       "1      http://assets.myntassets.com/assets/images/165...   \n",
       "2      http://assets.myntassets.com/assets/images/163...   \n",
       "3      http://assets.myntassets.com/assets/images/147...   \n",
       "4      http://assets.myntassets.com/assets/images/110...   \n",
       "...                                                  ...   \n",
       "14325  http://assets.myntassets.com/assets/images/154...   \n",
       "14326  http://assets.myntassets.com/assets/images/164...   \n",
       "14327  http://assets.myntassets.com/assets/images/163...   \n",
       "14328  http://assets.myntassets.com/assets/images/163...   \n",
       "14329  http://assets.myntassets.com/assets/images/163...   \n",
       "\n",
       "                                             description  \\\n",
       "0      [Black, printed, Kurta, with, Palazzos, with, ...   \n",
       "1      [Orange, solid, Kurta, with, Palazzos, with, d...   \n",
       "2      [Navy, blue, embroidered, Kurta, with, Trouser...   \n",
       "3      [Red, printed, kurta, with, trouser, and, dupa...   \n",
       "4      [Black, and, green, printed, straight, kurta,,...   \n",
       "...                                                  ...   \n",
       "14325  [Blue, solid, front-open, sweatshirt, has, a, ...   \n",
       "14326  [Green, printed, sweatshirt, has, a, hooded,, ...   \n",
       "14327  [Pink, solid, sweatshirt, has, a, mock, collar...   \n",
       "14328  [Blue, solid, sweatshirt, has, a, round, neck,...   \n",
       "14329  [Grey, and, green, colourblocked, sweatshirt, ...   \n",
       "\n",
       "                                            p_attributes  \n",
       "0      [NA, 443,333,324,424, Garment Measurements in,...  \n",
       "1      [NA, 443,333,324,424, Garment Measurements in,...  \n",
       "2      [NA, 333,424, Garment Measurements in, Slip-On...  \n",
       "3      [NA, 333,424, Garment Measurements in, Slip-On...  \n",
       "4      [424, Garment Measurements in, Monochrome, Reg...  \n",
       "...                                                  ...  \n",
       "14325  [443,424,324, Garment Measurements in, Yes, NA...  \n",
       "14326  [443,424,324, Garment Measurements in, No, NA,...  \n",
       "14327  [443,424,324, To-Fit Denotes Body Measurements...  \n",
       "14328  [443,424,324, To-Fit Denotes Body Measurements...  \n",
       "14329  [443,424,324, To-Fit Denotes Body Measurements...  \n",
       "\n",
       "[14265 rows x 8 columns]"
      ]
     },
     "execution_count": 33,
     "metadata": {},
     "output_type": "execute_result"
    }
   ],
   "source": [
    "fashion"
   ]
  },
  {
   "cell_type": "code",
   "execution_count": 34,
   "id": "c9f57719",
   "metadata": {},
   "outputs": [
    {
     "data": {
      "text/plain": [
       "['NA',\n",
       " '443,333,324,424',\n",
       " 'Garment Measurements in',\n",
       " 'Slip-On',\n",
       " 'Viscose Rayon',\n",
       " 'Printed',\n",
       " 'Palazzos',\n",
       " 'NA',\n",
       " 'With Dupatta',\n",
       " 'Solid',\n",
       " 'Viscose Rayon',\n",
       " 'Printed',\n",
       " 'Indie Prints',\n",
       " 'Mandarin Collar',\n",
       " 'NA',\n",
       " 'Festive',\n",
       " 'NA',\n",
       " 'Placement',\n",
       " 'Ethnic Motifs',\n",
       " 'Three-Quarter Sleeves',\n",
       " 'Regular Sleeves',\n",
       " 'NA',\n",
       " 'Ready to Wear',\n",
       " 'Regular',\n",
       " 'Screen',\n",
       " 'Regular',\n",
       " 'Viscose Rayon',\n",
       " 'Flared',\n",
       " 'Calf Length',\n",
       " 'Printed',\n",
       " 'Anarkali',\n",
       " 'Kurta',\n",
       " 'Elasticated',\n",
       " 'Machine Wash',\n",
       " 'Regular',\n",
       " 'Machine Weave']"
      ]
     },
     "execution_count": 34,
     "metadata": {},
     "output_type": "execute_result"
    }
   ],
   "source": [
    "fashion.iloc[0]['p_attributes']"
   ]
  },
  {
   "cell_type": "code",
   "execution_count": 35,
   "id": "8fa2fad0",
   "metadata": {},
   "outputs": [
    {
     "data": {
      "text/plain": [
       "0        [NA, 443,333,324,424, Garment Measurements in,...\n",
       "1        [NA, 443,333,324,424, Garment Measurements in,...\n",
       "2        [NA, 333,424, Garment Measurements in, Slip-On...\n",
       "3        [NA, 333,424, Garment Measurements in, Slip-On...\n",
       "4        [424, Garment Measurements in, Monochrome, Reg...\n",
       "                               ...                        \n",
       "14325    [443,424,324, Garment Measurements in, Yes, NA...\n",
       "14326    [443,424,324, Garment Measurements in, No, NA,...\n",
       "14327    [443,424,324, To-Fit Denotes Body Measurements...\n",
       "14328    [443,424,324, To-Fit Denotes Body Measurements...\n",
       "14329    [443,424,324, To-Fit Denotes Body Measurements...\n",
       "Name: p_attributes, Length: 14265, dtype: object"
      ]
     },
     "execution_count": 35,
     "metadata": {},
     "output_type": "execute_result"
    }
   ],
   "source": [
    "fashion['p_attributes']"
   ]
  },
  {
   "cell_type": "code",
   "execution_count": 36,
   "id": "dd439711",
   "metadata": {},
   "outputs": [
    {
     "data": {
      "text/plain": [
       "0        [Black, printed, Kurta, with, Palazzos, with, ...\n",
       "1        [Orange, solid, Kurta, with, Palazzos, with, d...\n",
       "2        [Navy, blue, embroidered, Kurta, with, Trouser...\n",
       "3        [Red, printed, kurta, with, trouser, and, dupa...\n",
       "4        [Black, and, green, printed, straight, kurta,,...\n",
       "                               ...                        \n",
       "14325    [Blue, solid, front-open, sweatshirt, has, a, ...\n",
       "14326    [Green, printed, sweatshirt, has, a, hooded,, ...\n",
       "14327    [Pink, solid, sweatshirt, has, a, mock, collar...\n",
       "14328    [Blue, solid, sweatshirt, has, a, round, neck,...\n",
       "14329    [Grey, and, green, colourblocked, sweatshirt, ...\n",
       "Name: description, Length: 14265, dtype: object"
      ]
     },
     "execution_count": 36,
     "metadata": {},
     "output_type": "execute_result"
    }
   ],
   "source": [
    "fashion['description']"
   ]
  },
  {
   "cell_type": "code",
   "execution_count": 37,
   "id": "59e47921",
   "metadata": {},
   "outputs": [
    {
     "data": {
      "text/html": [
       "<div>\n",
       "<style scoped>\n",
       "    .dataframe tbody tr th:only-of-type {\n",
       "        vertical-align: middle;\n",
       "    }\n",
       "\n",
       "    .dataframe tbody tr th {\n",
       "        vertical-align: top;\n",
       "    }\n",
       "\n",
       "    .dataframe thead th {\n",
       "        text-align: right;\n",
       "    }\n",
       "</style>\n",
       "<table border=\"1\" class=\"dataframe\">\n",
       "  <thead>\n",
       "    <tr style=\"text-align: right;\">\n",
       "      <th></th>\n",
       "      <th>p_id</th>\n",
       "      <th>name</th>\n",
       "      <th>price</th>\n",
       "      <th>colour</th>\n",
       "      <th>brand</th>\n",
       "      <th>img</th>\n",
       "      <th>description</th>\n",
       "      <th>p_attributes</th>\n",
       "    </tr>\n",
       "  </thead>\n",
       "  <tbody>\n",
       "    <tr>\n",
       "      <th>0</th>\n",
       "      <td>17048614.0</td>\n",
       "      <td>Khushal K Women Black Ethnic Motifs Printed Ku...</td>\n",
       "      <td>5099.0</td>\n",
       "      <td>Black</td>\n",
       "      <td>Khushal K</td>\n",
       "      <td>http://assets.myntassets.com/assets/images/170...</td>\n",
       "      <td>[Black, printed, Kurta, with, Palazzos, with, ...</td>\n",
       "      <td>[NA, 443,333,324,424, Garment Measurements in,...</td>\n",
       "    </tr>\n",
       "    <tr>\n",
       "      <th>1</th>\n",
       "      <td>16524740.0</td>\n",
       "      <td>InWeave Women Orange Solid Kurta with Palazzos...</td>\n",
       "      <td>5899.0</td>\n",
       "      <td>Orange</td>\n",
       "      <td>InWeave</td>\n",
       "      <td>http://assets.myntassets.com/assets/images/165...</td>\n",
       "      <td>[Orange, solid, Kurta, with, Palazzos, with, d...</td>\n",
       "      <td>[NA, 443,333,324,424, Garment Measurements in,...</td>\n",
       "    </tr>\n",
       "  </tbody>\n",
       "</table>\n",
       "</div>"
      ],
      "text/plain": [
       "         p_id                                               name   price  \\\n",
       "0  17048614.0  Khushal K Women Black Ethnic Motifs Printed Ku...  5099.0   \n",
       "1  16524740.0  InWeave Women Orange Solid Kurta with Palazzos...  5899.0   \n",
       "\n",
       "   colour      brand                                                img  \\\n",
       "0   Black  Khushal K  http://assets.myntassets.com/assets/images/170...   \n",
       "1  Orange    InWeave  http://assets.myntassets.com/assets/images/165...   \n",
       "\n",
       "                                         description  \\\n",
       "0  [Black, printed, Kurta, with, Palazzos, with, ...   \n",
       "1  [Orange, solid, Kurta, with, Palazzos, with, d...   \n",
       "\n",
       "                                        p_attributes  \n",
       "0  [NA, 443,333,324,424, Garment Measurements in,...  \n",
       "1  [NA, 443,333,324,424, Garment Measurements in,...  "
      ]
     },
     "execution_count": 37,
     "metadata": {},
     "output_type": "execute_result"
    }
   ],
   "source": [
    "fashion.head(2)"
   ]
  },
  {
   "cell_type": "markdown",
   "id": "0c1b614a",
   "metadata": {},
   "source": [
    "## Converting the price into float catentation purpose"
   ]
  },
  {
   "cell_type": "code",
   "execution_count": 38,
   "id": "fdc679e0",
   "metadata": {},
   "outputs": [],
   "source": [
    "def convert_float_to_string(input_float):\n",
    "\n",
    "    return str(input_float)\n"
   ]
  },
  {
   "cell_type": "code",
   "execution_count": 39,
   "id": "ad37aaf0",
   "metadata": {},
   "outputs": [],
   "source": [
    "fashion['price'] = fashion['price'].apply(convert_float_to_string)\n"
   ]
  },
  {
   "cell_type": "markdown",
   "id": "1cb430f3",
   "metadata": {},
   "source": [
    "## Converting colour, brand and price into list over here"
   ]
  },
  {
   "cell_type": "code",
   "execution_count": 40,
   "id": "486a8c76",
   "metadata": {},
   "outputs": [],
   "source": [
    "def convert_string_to_list(input_string):\n",
    "    word_list = input_string.split()\n",
    "    return word_list\n"
   ]
  },
  {
   "cell_type": "code",
   "execution_count": 41,
   "id": "9012883a",
   "metadata": {},
   "outputs": [],
   "source": [
    "fashion['colour'] = fashion['colour'].apply(convert_string_to_list)\n",
    "fashion['brand'] = fashion['brand'].apply(convert_string_to_list)\n",
    "fashion['price'] = fashion['price'].apply(convert_string_to_list)\n"
   ]
  },
  {
   "cell_type": "code",
   "execution_count": 42,
   "id": "4aa5430e",
   "metadata": {},
   "outputs": [
    {
     "data": {
      "text/html": [
       "<div>\n",
       "<style scoped>\n",
       "    .dataframe tbody tr th:only-of-type {\n",
       "        vertical-align: middle;\n",
       "    }\n",
       "\n",
       "    .dataframe tbody tr th {\n",
       "        vertical-align: top;\n",
       "    }\n",
       "\n",
       "    .dataframe thead th {\n",
       "        text-align: right;\n",
       "    }\n",
       "</style>\n",
       "<table border=\"1\" class=\"dataframe\">\n",
       "  <thead>\n",
       "    <tr style=\"text-align: right;\">\n",
       "      <th></th>\n",
       "      <th>p_id</th>\n",
       "      <th>name</th>\n",
       "      <th>price</th>\n",
       "      <th>colour</th>\n",
       "      <th>brand</th>\n",
       "      <th>img</th>\n",
       "      <th>description</th>\n",
       "      <th>p_attributes</th>\n",
       "    </tr>\n",
       "  </thead>\n",
       "  <tbody>\n",
       "    <tr>\n",
       "      <th>0</th>\n",
       "      <td>17048614.0</td>\n",
       "      <td>Khushal K Women Black Ethnic Motifs Printed Ku...</td>\n",
       "      <td>[5099.0]</td>\n",
       "      <td>[Black]</td>\n",
       "      <td>[Khushal, K]</td>\n",
       "      <td>http://assets.myntassets.com/assets/images/170...</td>\n",
       "      <td>[Black, printed, Kurta, with, Palazzos, with, ...</td>\n",
       "      <td>[NA, 443,333,324,424, Garment Measurements in,...</td>\n",
       "    </tr>\n",
       "    <tr>\n",
       "      <th>1</th>\n",
       "      <td>16524740.0</td>\n",
       "      <td>InWeave Women Orange Solid Kurta with Palazzos...</td>\n",
       "      <td>[5899.0]</td>\n",
       "      <td>[Orange]</td>\n",
       "      <td>[InWeave]</td>\n",
       "      <td>http://assets.myntassets.com/assets/images/165...</td>\n",
       "      <td>[Orange, solid, Kurta, with, Palazzos, with, d...</td>\n",
       "      <td>[NA, 443,333,324,424, Garment Measurements in,...</td>\n",
       "    </tr>\n",
       "  </tbody>\n",
       "</table>\n",
       "</div>"
      ],
      "text/plain": [
       "         p_id                                               name     price  \\\n",
       "0  17048614.0  Khushal K Women Black Ethnic Motifs Printed Ku...  [5099.0]   \n",
       "1  16524740.0  InWeave Women Orange Solid Kurta with Palazzos...  [5899.0]   \n",
       "\n",
       "     colour         brand                                                img  \\\n",
       "0   [Black]  [Khushal, K]  http://assets.myntassets.com/assets/images/170...   \n",
       "1  [Orange]     [InWeave]  http://assets.myntassets.com/assets/images/165...   \n",
       "\n",
       "                                         description  \\\n",
       "0  [Black, printed, Kurta, with, Palazzos, with, ...   \n",
       "1  [Orange, solid, Kurta, with, Palazzos, with, d...   \n",
       "\n",
       "                                        p_attributes  \n",
       "0  [NA, 443,333,324,424, Garment Measurements in,...  \n",
       "1  [NA, 443,333,324,424, Garment Measurements in,...  "
      ]
     },
     "execution_count": 42,
     "metadata": {},
     "output_type": "execute_result"
    }
   ],
   "source": [
    "fashion.head(2)"
   ]
  },
  {
   "cell_type": "markdown",
   "id": "cb2f0cec",
   "metadata": {},
   "source": [
    "## Performing Concatentation to get a single feature called as tags with all the information regarding the fashion product"
   ]
  },
  {
   "cell_type": "code",
   "execution_count": 43,
   "id": "d300d504",
   "metadata": {},
   "outputs": [],
   "source": [
    "fashion['tags'] = fashion['price'] + fashion['colour'] + fashion['brand'] + fashion['description'] + fashion['p_attributes']\n"
   ]
  },
  {
   "cell_type": "code",
   "execution_count": 44,
   "id": "8b133323",
   "metadata": {},
   "outputs": [
    {
     "data": {
      "text/html": [
       "<div>\n",
       "<style scoped>\n",
       "    .dataframe tbody tr th:only-of-type {\n",
       "        vertical-align: middle;\n",
       "    }\n",
       "\n",
       "    .dataframe tbody tr th {\n",
       "        vertical-align: top;\n",
       "    }\n",
       "\n",
       "    .dataframe thead th {\n",
       "        text-align: right;\n",
       "    }\n",
       "</style>\n",
       "<table border=\"1\" class=\"dataframe\">\n",
       "  <thead>\n",
       "    <tr style=\"text-align: right;\">\n",
       "      <th></th>\n",
       "      <th>p_id</th>\n",
       "      <th>name</th>\n",
       "      <th>price</th>\n",
       "      <th>colour</th>\n",
       "      <th>brand</th>\n",
       "      <th>img</th>\n",
       "      <th>description</th>\n",
       "      <th>p_attributes</th>\n",
       "      <th>tags</th>\n",
       "    </tr>\n",
       "  </thead>\n",
       "  <tbody>\n",
       "    <tr>\n",
       "      <th>0</th>\n",
       "      <td>17048614.0</td>\n",
       "      <td>Khushal K Women Black Ethnic Motifs Printed Ku...</td>\n",
       "      <td>[5099.0]</td>\n",
       "      <td>[Black]</td>\n",
       "      <td>[Khushal, K]</td>\n",
       "      <td>http://assets.myntassets.com/assets/images/170...</td>\n",
       "      <td>[Black, printed, Kurta, with, Palazzos, with, ...</td>\n",
       "      <td>[NA, 443,333,324,424, Garment Measurements in,...</td>\n",
       "      <td>[5099.0, Black, Khushal, K, Black, printed, Ku...</td>\n",
       "    </tr>\n",
       "    <tr>\n",
       "      <th>1</th>\n",
       "      <td>16524740.0</td>\n",
       "      <td>InWeave Women Orange Solid Kurta with Palazzos...</td>\n",
       "      <td>[5899.0]</td>\n",
       "      <td>[Orange]</td>\n",
       "      <td>[InWeave]</td>\n",
       "      <td>http://assets.myntassets.com/assets/images/165...</td>\n",
       "      <td>[Orange, solid, Kurta, with, Palazzos, with, d...</td>\n",
       "      <td>[NA, 443,333,324,424, Garment Measurements in,...</td>\n",
       "      <td>[5899.0, Orange, InWeave, Orange, solid, Kurta...</td>\n",
       "    </tr>\n",
       "    <tr>\n",
       "      <th>2</th>\n",
       "      <td>16331376.0</td>\n",
       "      <td>Anubhutee Women Navy Blue Ethnic Motifs Embroi...</td>\n",
       "      <td>[4899.0]</td>\n",
       "      <td>[Navy, Blue]</td>\n",
       "      <td>[Anubhutee]</td>\n",
       "      <td>http://assets.myntassets.com/assets/images/163...</td>\n",
       "      <td>[Navy, blue, embroidered, Kurta, with, Trouser...</td>\n",
       "      <td>[NA, 333,424, Garment Measurements in, Slip-On...</td>\n",
       "      <td>[4899.0, Navy, Blue, Anubhutee, Navy, blue, em...</td>\n",
       "    </tr>\n",
       "    <tr>\n",
       "      <th>3</th>\n",
       "      <td>14709966.0</td>\n",
       "      <td>Nayo Women Red Floral Printed Kurta With Trous...</td>\n",
       "      <td>[3699.0]</td>\n",
       "      <td>[Red]</td>\n",
       "      <td>[Nayo]</td>\n",
       "      <td>http://assets.myntassets.com/assets/images/147...</td>\n",
       "      <td>[Red, printed, kurta, with, trouser, and, dupa...</td>\n",
       "      <td>[NA, 333,424, Garment Measurements in, Slip-On...</td>\n",
       "      <td>[3699.0, Red, Nayo, Red, printed, kurta, with,...</td>\n",
       "    </tr>\n",
       "    <tr>\n",
       "      <th>4</th>\n",
       "      <td>11056154.0</td>\n",
       "      <td>AHIKA Women Black &amp; Green Printed Straight Kurta</td>\n",
       "      <td>[1350.0]</td>\n",
       "      <td>[Black]</td>\n",
       "      <td>[AHIKA]</td>\n",
       "      <td>http://assets.myntassets.com/assets/images/110...</td>\n",
       "      <td>[Black, and, green, printed, straight, kurta,,...</td>\n",
       "      <td>[424, Garment Measurements in, Monochrome, Reg...</td>\n",
       "      <td>[1350.0, Black, AHIKA, Black, and, green, prin...</td>\n",
       "    </tr>\n",
       "  </tbody>\n",
       "</table>\n",
       "</div>"
      ],
      "text/plain": [
       "         p_id                                               name     price  \\\n",
       "0  17048614.0  Khushal K Women Black Ethnic Motifs Printed Ku...  [5099.0]   \n",
       "1  16524740.0  InWeave Women Orange Solid Kurta with Palazzos...  [5899.0]   \n",
       "2  16331376.0  Anubhutee Women Navy Blue Ethnic Motifs Embroi...  [4899.0]   \n",
       "3  14709966.0  Nayo Women Red Floral Printed Kurta With Trous...  [3699.0]   \n",
       "4  11056154.0   AHIKA Women Black & Green Printed Straight Kurta  [1350.0]   \n",
       "\n",
       "         colour         brand  \\\n",
       "0       [Black]  [Khushal, K]   \n",
       "1      [Orange]     [InWeave]   \n",
       "2  [Navy, Blue]   [Anubhutee]   \n",
       "3         [Red]        [Nayo]   \n",
       "4       [Black]       [AHIKA]   \n",
       "\n",
       "                                                 img  \\\n",
       "0  http://assets.myntassets.com/assets/images/170...   \n",
       "1  http://assets.myntassets.com/assets/images/165...   \n",
       "2  http://assets.myntassets.com/assets/images/163...   \n",
       "3  http://assets.myntassets.com/assets/images/147...   \n",
       "4  http://assets.myntassets.com/assets/images/110...   \n",
       "\n",
       "                                         description  \\\n",
       "0  [Black, printed, Kurta, with, Palazzos, with, ...   \n",
       "1  [Orange, solid, Kurta, with, Palazzos, with, d...   \n",
       "2  [Navy, blue, embroidered, Kurta, with, Trouser...   \n",
       "3  [Red, printed, kurta, with, trouser, and, dupa...   \n",
       "4  [Black, and, green, printed, straight, kurta,,...   \n",
       "\n",
       "                                        p_attributes  \\\n",
       "0  [NA, 443,333,324,424, Garment Measurements in,...   \n",
       "1  [NA, 443,333,324,424, Garment Measurements in,...   \n",
       "2  [NA, 333,424, Garment Measurements in, Slip-On...   \n",
       "3  [NA, 333,424, Garment Measurements in, Slip-On...   \n",
       "4  [424, Garment Measurements in, Monochrome, Reg...   \n",
       "\n",
       "                                                tags  \n",
       "0  [5099.0, Black, Khushal, K, Black, printed, Ku...  \n",
       "1  [5899.0, Orange, InWeave, Orange, solid, Kurta...  \n",
       "2  [4899.0, Navy, Blue, Anubhutee, Navy, blue, em...  \n",
       "3  [3699.0, Red, Nayo, Red, printed, kurta, with,...  \n",
       "4  [1350.0, Black, AHIKA, Black, and, green, prin...  "
      ]
     },
     "execution_count": 44,
     "metadata": {},
     "output_type": "execute_result"
    }
   ],
   "source": [
    "fashion.head()"
   ]
  },
  {
   "cell_type": "code",
   "execution_count": 45,
   "id": "d547fc17",
   "metadata": {},
   "outputs": [
    {
     "data": {
      "text/plain": [
       "['5099.0',\n",
       " 'Black',\n",
       " 'Khushal',\n",
       " 'K',\n",
       " 'Black',\n",
       " 'printed',\n",
       " 'Kurta',\n",
       " 'with',\n",
       " 'Palazzos',\n",
       " 'with',\n",
       " 'dupatta',\n",
       " 'Kurta',\n",
       " 'design:',\n",
       " 'Ethnic',\n",
       " 'motifs',\n",
       " 'printed',\n",
       " 'Anarkali',\n",
       " 'shape',\n",
       " 'Regular',\n",
       " 'style',\n",
       " 'Mandarin',\n",
       " 'collar,',\n",
       " 'three-quarter',\n",
       " 'regular',\n",
       " 'sleeves',\n",
       " 'Calf',\n",
       " 'length',\n",
       " 'with',\n",
       " 'flared',\n",
       " 'hem',\n",
       " 'Viscose',\n",
       " 'rayon',\n",
       " 'machine',\n",
       " 'weave',\n",
       " 'fabric',\n",
       " 'Palazzos',\n",
       " 'design:',\n",
       " 'Printed',\n",
       " 'Palazzos',\n",
       " 'Elasticated',\n",
       " 'waistband',\n",
       " 'Slip-on',\n",
       " 'closure',\n",
       " 'Dupatta',\n",
       " 'Length',\n",
       " '2.43',\n",
       " 'meters',\n",
       " 'Width:88',\n",
       " 'cmThe',\n",
       " 'model',\n",
       " '(height',\n",
       " \"5'8)\",\n",
       " 'is',\n",
       " 'wearing',\n",
       " 'a',\n",
       " 'size',\n",
       " 'S100%',\n",
       " 'RayonMachine',\n",
       " 'wash',\n",
       " 'NA',\n",
       " '443,333,324,424',\n",
       " 'Garment Measurements in',\n",
       " 'Slip-On',\n",
       " 'Viscose Rayon',\n",
       " 'Printed',\n",
       " 'Palazzos',\n",
       " 'NA',\n",
       " 'With Dupatta',\n",
       " 'Solid',\n",
       " 'Viscose Rayon',\n",
       " 'Printed',\n",
       " 'Indie Prints',\n",
       " 'Mandarin Collar',\n",
       " 'NA',\n",
       " 'Festive',\n",
       " 'NA',\n",
       " 'Placement',\n",
       " 'Ethnic Motifs',\n",
       " 'Three-Quarter Sleeves',\n",
       " 'Regular Sleeves',\n",
       " 'NA',\n",
       " 'Ready to Wear',\n",
       " 'Regular',\n",
       " 'Screen',\n",
       " 'Regular',\n",
       " 'Viscose Rayon',\n",
       " 'Flared',\n",
       " 'Calf Length',\n",
       " 'Printed',\n",
       " 'Anarkali',\n",
       " 'Kurta',\n",
       " 'Elasticated',\n",
       " 'Machine Wash',\n",
       " 'Regular',\n",
       " 'Machine Weave']"
      ]
     },
     "execution_count": 45,
     "metadata": {},
     "output_type": "execute_result"
    }
   ],
   "source": [
    "fashion.iloc[0]['tags']"
   ]
  },
  {
   "cell_type": "markdown",
   "id": "6660908e",
   "metadata": {},
   "source": [
    "## Dropping those extra columns"
   ]
  },
  {
   "cell_type": "code",
   "execution_count": 46,
   "id": "29a23a45",
   "metadata": {},
   "outputs": [],
   "source": [
    "new_df = fashion[['p_id','name','img','tags']]"
   ]
  },
  {
   "cell_type": "code",
   "execution_count": 47,
   "id": "e00ed2d8",
   "metadata": {},
   "outputs": [
    {
     "data": {
      "text/html": [
       "<div>\n",
       "<style scoped>\n",
       "    .dataframe tbody tr th:only-of-type {\n",
       "        vertical-align: middle;\n",
       "    }\n",
       "\n",
       "    .dataframe tbody tr th {\n",
       "        vertical-align: top;\n",
       "    }\n",
       "\n",
       "    .dataframe thead th {\n",
       "        text-align: right;\n",
       "    }\n",
       "</style>\n",
       "<table border=\"1\" class=\"dataframe\">\n",
       "  <thead>\n",
       "    <tr style=\"text-align: right;\">\n",
       "      <th></th>\n",
       "      <th>p_id</th>\n",
       "      <th>name</th>\n",
       "      <th>img</th>\n",
       "      <th>tags</th>\n",
       "    </tr>\n",
       "  </thead>\n",
       "  <tbody>\n",
       "    <tr>\n",
       "      <th>0</th>\n",
       "      <td>17048614.0</td>\n",
       "      <td>Khushal K Women Black Ethnic Motifs Printed Ku...</td>\n",
       "      <td>http://assets.myntassets.com/assets/images/170...</td>\n",
       "      <td>[5099.0, Black, Khushal, K, Black, printed, Ku...</td>\n",
       "    </tr>\n",
       "    <tr>\n",
       "      <th>1</th>\n",
       "      <td>16524740.0</td>\n",
       "      <td>InWeave Women Orange Solid Kurta with Palazzos...</td>\n",
       "      <td>http://assets.myntassets.com/assets/images/165...</td>\n",
       "      <td>[5899.0, Orange, InWeave, Orange, solid, Kurta...</td>\n",
       "    </tr>\n",
       "    <tr>\n",
       "      <th>2</th>\n",
       "      <td>16331376.0</td>\n",
       "      <td>Anubhutee Women Navy Blue Ethnic Motifs Embroi...</td>\n",
       "      <td>http://assets.myntassets.com/assets/images/163...</td>\n",
       "      <td>[4899.0, Navy, Blue, Anubhutee, Navy, blue, em...</td>\n",
       "    </tr>\n",
       "    <tr>\n",
       "      <th>3</th>\n",
       "      <td>14709966.0</td>\n",
       "      <td>Nayo Women Red Floral Printed Kurta With Trous...</td>\n",
       "      <td>http://assets.myntassets.com/assets/images/147...</td>\n",
       "      <td>[3699.0, Red, Nayo, Red, printed, kurta, with,...</td>\n",
       "    </tr>\n",
       "    <tr>\n",
       "      <th>4</th>\n",
       "      <td>11056154.0</td>\n",
       "      <td>AHIKA Women Black &amp; Green Printed Straight Kurta</td>\n",
       "      <td>http://assets.myntassets.com/assets/images/110...</td>\n",
       "      <td>[1350.0, Black, AHIKA, Black, and, green, prin...</td>\n",
       "    </tr>\n",
       "  </tbody>\n",
       "</table>\n",
       "</div>"
      ],
      "text/plain": [
       "         p_id                                               name  \\\n",
       "0  17048614.0  Khushal K Women Black Ethnic Motifs Printed Ku...   \n",
       "1  16524740.0  InWeave Women Orange Solid Kurta with Palazzos...   \n",
       "2  16331376.0  Anubhutee Women Navy Blue Ethnic Motifs Embroi...   \n",
       "3  14709966.0  Nayo Women Red Floral Printed Kurta With Trous...   \n",
       "4  11056154.0   AHIKA Women Black & Green Printed Straight Kurta   \n",
       "\n",
       "                                                 img  \\\n",
       "0  http://assets.myntassets.com/assets/images/170...   \n",
       "1  http://assets.myntassets.com/assets/images/165...   \n",
       "2  http://assets.myntassets.com/assets/images/163...   \n",
       "3  http://assets.myntassets.com/assets/images/147...   \n",
       "4  http://assets.myntassets.com/assets/images/110...   \n",
       "\n",
       "                                                tags  \n",
       "0  [5099.0, Black, Khushal, K, Black, printed, Ku...  \n",
       "1  [5899.0, Orange, InWeave, Orange, solid, Kurta...  \n",
       "2  [4899.0, Navy, Blue, Anubhutee, Navy, blue, em...  \n",
       "3  [3699.0, Red, Nayo, Red, printed, kurta, with,...  \n",
       "4  [1350.0, Black, AHIKA, Black, and, green, prin...  "
      ]
     },
     "execution_count": 47,
     "metadata": {},
     "output_type": "execute_result"
    }
   ],
   "source": [
    "new_df.head()"
   ]
  },
  {
   "cell_type": "markdown",
   "id": "79a5442a",
   "metadata": {},
   "source": [
    "##  Converting list to str"
   ]
  },
  {
   "cell_type": "code",
   "execution_count": 48,
   "id": "8c3e5ad1",
   "metadata": {},
   "outputs": [
    {
     "name": "stderr",
     "output_type": "stream",
     "text": [
      "C:\\Users\\vktaw\\AppData\\Local\\Temp\\ipykernel_24640\\1955922539.py:1: SettingWithCopyWarning: \n",
      "A value is trying to be set on a copy of a slice from a DataFrame.\n",
      "Try using .loc[row_indexer,col_indexer] = value instead\n",
      "\n",
      "See the caveats in the documentation: https://pandas.pydata.org/pandas-docs/stable/user_guide/indexing.html#returning-a-view-versus-a-copy\n",
      "  new_df['tags'] = new_df['tags'].apply(lambda x: \" \".join(x))\n"
     ]
    },
    {
     "data": {
      "text/html": [
       "<div>\n",
       "<style scoped>\n",
       "    .dataframe tbody tr th:only-of-type {\n",
       "        vertical-align: middle;\n",
       "    }\n",
       "\n",
       "    .dataframe tbody tr th {\n",
       "        vertical-align: top;\n",
       "    }\n",
       "\n",
       "    .dataframe thead th {\n",
       "        text-align: right;\n",
       "    }\n",
       "</style>\n",
       "<table border=\"1\" class=\"dataframe\">\n",
       "  <thead>\n",
       "    <tr style=\"text-align: right;\">\n",
       "      <th></th>\n",
       "      <th>p_id</th>\n",
       "      <th>name</th>\n",
       "      <th>img</th>\n",
       "      <th>tags</th>\n",
       "    </tr>\n",
       "  </thead>\n",
       "  <tbody>\n",
       "    <tr>\n",
       "      <th>0</th>\n",
       "      <td>17048614.0</td>\n",
       "      <td>Khushal K Women Black Ethnic Motifs Printed Ku...</td>\n",
       "      <td>http://assets.myntassets.com/assets/images/170...</td>\n",
       "      <td>5099.0 Black Khushal K Black printed Kurta wit...</td>\n",
       "    </tr>\n",
       "    <tr>\n",
       "      <th>1</th>\n",
       "      <td>16524740.0</td>\n",
       "      <td>InWeave Women Orange Solid Kurta with Palazzos...</td>\n",
       "      <td>http://assets.myntassets.com/assets/images/165...</td>\n",
       "      <td>5899.0 Orange InWeave Orange solid Kurta with ...</td>\n",
       "    </tr>\n",
       "    <tr>\n",
       "      <th>2</th>\n",
       "      <td>16331376.0</td>\n",
       "      <td>Anubhutee Women Navy Blue Ethnic Motifs Embroi...</td>\n",
       "      <td>http://assets.myntassets.com/assets/images/163...</td>\n",
       "      <td>4899.0 Navy Blue Anubhutee Navy blue embroider...</td>\n",
       "    </tr>\n",
       "    <tr>\n",
       "      <th>3</th>\n",
       "      <td>14709966.0</td>\n",
       "      <td>Nayo Women Red Floral Printed Kurta With Trous...</td>\n",
       "      <td>http://assets.myntassets.com/assets/images/147...</td>\n",
       "      <td>3699.0 Red Nayo Red printed kurta with trouser...</td>\n",
       "    </tr>\n",
       "    <tr>\n",
       "      <th>4</th>\n",
       "      <td>11056154.0</td>\n",
       "      <td>AHIKA Women Black &amp; Green Printed Straight Kurta</td>\n",
       "      <td>http://assets.myntassets.com/assets/images/110...</td>\n",
       "      <td>1350.0 Black AHIKA Black and green printed str...</td>\n",
       "    </tr>\n",
       "  </tbody>\n",
       "</table>\n",
       "</div>"
      ],
      "text/plain": [
       "         p_id                                               name  \\\n",
       "0  17048614.0  Khushal K Women Black Ethnic Motifs Printed Ku...   \n",
       "1  16524740.0  InWeave Women Orange Solid Kurta with Palazzos...   \n",
       "2  16331376.0  Anubhutee Women Navy Blue Ethnic Motifs Embroi...   \n",
       "3  14709966.0  Nayo Women Red Floral Printed Kurta With Trous...   \n",
       "4  11056154.0   AHIKA Women Black & Green Printed Straight Kurta   \n",
       "\n",
       "                                                 img  \\\n",
       "0  http://assets.myntassets.com/assets/images/170...   \n",
       "1  http://assets.myntassets.com/assets/images/165...   \n",
       "2  http://assets.myntassets.com/assets/images/163...   \n",
       "3  http://assets.myntassets.com/assets/images/147...   \n",
       "4  http://assets.myntassets.com/assets/images/110...   \n",
       "\n",
       "                                                tags  \n",
       "0  5099.0 Black Khushal K Black printed Kurta wit...  \n",
       "1  5899.0 Orange InWeave Orange solid Kurta with ...  \n",
       "2  4899.0 Navy Blue Anubhutee Navy blue embroider...  \n",
       "3  3699.0 Red Nayo Red printed kurta with trouser...  \n",
       "4  1350.0 Black AHIKA Black and green printed str...  "
      ]
     },
     "execution_count": 48,
     "metadata": {},
     "output_type": "execute_result"
    }
   ],
   "source": [
    "new_df['tags'] = new_df['tags'].apply(lambda x: \" \".join(x))\n",
    "new_df.head()"
   ]
  },
  {
   "cell_type": "code",
   "execution_count": 49,
   "id": "63729a81",
   "metadata": {},
   "outputs": [
    {
     "data": {
      "text/plain": [
       "\"5099.0 Black Khushal K Black printed Kurta with Palazzos with dupatta Kurta design: Ethnic motifs printed Anarkali shape Regular style Mandarin collar, three-quarter regular sleeves Calf length with flared hem Viscose rayon machine weave fabric Palazzos design: Printed Palazzos Elasticated waistband Slip-on closure Dupatta Length 2.43 meters Width:88 cmThe model (height 5'8) is wearing a size S100% RayonMachine wash NA 443,333,324,424 Garment Measurements in Slip-On Viscose Rayon Printed Palazzos NA With Dupatta Solid Viscose Rayon Printed Indie Prints Mandarin Collar NA Festive NA Placement Ethnic Motifs Three-Quarter Sleeves Regular Sleeves NA Ready to Wear Regular Screen Regular Viscose Rayon Flared Calf Length Printed Anarkali Kurta Elasticated Machine Wash Regular Machine Weave\""
      ]
     },
     "execution_count": 49,
     "metadata": {},
     "output_type": "execute_result"
    }
   ],
   "source": [
    "new_df.iloc[0]['tags']"
   ]
  },
  {
   "cell_type": "markdown",
   "id": "829feae8",
   "metadata": {},
   "source": [
    "## Converting to lower case"
   ]
  },
  {
   "cell_type": "code",
   "execution_count": 50,
   "id": "74b8b4d4",
   "metadata": {},
   "outputs": [
    {
     "name": "stderr",
     "output_type": "stream",
     "text": [
      "C:\\Users\\vktaw\\AppData\\Local\\Temp\\ipykernel_24640\\3214958533.py:1: SettingWithCopyWarning: \n",
      "A value is trying to be set on a copy of a slice from a DataFrame.\n",
      "Try using .loc[row_indexer,col_indexer] = value instead\n",
      "\n",
      "See the caveats in the documentation: https://pandas.pydata.org/pandas-docs/stable/user_guide/indexing.html#returning-a-view-versus-a-copy\n",
      "  new_df['tags'] = new_df['tags'].apply(lambda x:x.lower())\n"
     ]
    }
   ],
   "source": [
    "new_df['tags'] = new_df['tags'].apply(lambda x:x.lower())"
   ]
  },
  {
   "cell_type": "code",
   "execution_count": 51,
   "id": "52f5f271",
   "metadata": {},
   "outputs": [
    {
     "data": {
      "text/html": [
       "<div>\n",
       "<style scoped>\n",
       "    .dataframe tbody tr th:only-of-type {\n",
       "        vertical-align: middle;\n",
       "    }\n",
       "\n",
       "    .dataframe tbody tr th {\n",
       "        vertical-align: top;\n",
       "    }\n",
       "\n",
       "    .dataframe thead th {\n",
       "        text-align: right;\n",
       "    }\n",
       "</style>\n",
       "<table border=\"1\" class=\"dataframe\">\n",
       "  <thead>\n",
       "    <tr style=\"text-align: right;\">\n",
       "      <th></th>\n",
       "      <th>p_id</th>\n",
       "      <th>name</th>\n",
       "      <th>img</th>\n",
       "      <th>tags</th>\n",
       "    </tr>\n",
       "  </thead>\n",
       "  <tbody>\n",
       "    <tr>\n",
       "      <th>0</th>\n",
       "      <td>17048614.0</td>\n",
       "      <td>Khushal K Women Black Ethnic Motifs Printed Ku...</td>\n",
       "      <td>http://assets.myntassets.com/assets/images/170...</td>\n",
       "      <td>5099.0 black khushal k black printed kurta wit...</td>\n",
       "    </tr>\n",
       "    <tr>\n",
       "      <th>1</th>\n",
       "      <td>16524740.0</td>\n",
       "      <td>InWeave Women Orange Solid Kurta with Palazzos...</td>\n",
       "      <td>http://assets.myntassets.com/assets/images/165...</td>\n",
       "      <td>5899.0 orange inweave orange solid kurta with ...</td>\n",
       "    </tr>\n",
       "    <tr>\n",
       "      <th>2</th>\n",
       "      <td>16331376.0</td>\n",
       "      <td>Anubhutee Women Navy Blue Ethnic Motifs Embroi...</td>\n",
       "      <td>http://assets.myntassets.com/assets/images/163...</td>\n",
       "      <td>4899.0 navy blue anubhutee navy blue embroider...</td>\n",
       "    </tr>\n",
       "    <tr>\n",
       "      <th>3</th>\n",
       "      <td>14709966.0</td>\n",
       "      <td>Nayo Women Red Floral Printed Kurta With Trous...</td>\n",
       "      <td>http://assets.myntassets.com/assets/images/147...</td>\n",
       "      <td>3699.0 red nayo red printed kurta with trouser...</td>\n",
       "    </tr>\n",
       "    <tr>\n",
       "      <th>4</th>\n",
       "      <td>11056154.0</td>\n",
       "      <td>AHIKA Women Black &amp; Green Printed Straight Kurta</td>\n",
       "      <td>http://assets.myntassets.com/assets/images/110...</td>\n",
       "      <td>1350.0 black ahika black and green printed str...</td>\n",
       "    </tr>\n",
       "  </tbody>\n",
       "</table>\n",
       "</div>"
      ],
      "text/plain": [
       "         p_id                                               name  \\\n",
       "0  17048614.0  Khushal K Women Black Ethnic Motifs Printed Ku...   \n",
       "1  16524740.0  InWeave Women Orange Solid Kurta with Palazzos...   \n",
       "2  16331376.0  Anubhutee Women Navy Blue Ethnic Motifs Embroi...   \n",
       "3  14709966.0  Nayo Women Red Floral Printed Kurta With Trous...   \n",
       "4  11056154.0   AHIKA Women Black & Green Printed Straight Kurta   \n",
       "\n",
       "                                                 img  \\\n",
       "0  http://assets.myntassets.com/assets/images/170...   \n",
       "1  http://assets.myntassets.com/assets/images/165...   \n",
       "2  http://assets.myntassets.com/assets/images/163...   \n",
       "3  http://assets.myntassets.com/assets/images/147...   \n",
       "4  http://assets.myntassets.com/assets/images/110...   \n",
       "\n",
       "                                                tags  \n",
       "0  5099.0 black khushal k black printed kurta wit...  \n",
       "1  5899.0 orange inweave orange solid kurta with ...  \n",
       "2  4899.0 navy blue anubhutee navy blue embroider...  \n",
       "3  3699.0 red nayo red printed kurta with trouser...  \n",
       "4  1350.0 black ahika black and green printed str...  "
      ]
     },
     "execution_count": 51,
     "metadata": {},
     "output_type": "execute_result"
    }
   ],
   "source": [
    "new_df.head()"
   ]
  },
  {
   "cell_type": "code",
   "execution_count": 52,
   "id": "9292d4a2",
   "metadata": {},
   "outputs": [
    {
     "data": {
      "text/plain": [
       "\"5099.0 black khushal k black printed kurta with palazzos with dupatta kurta design: ethnic motifs printed anarkali shape regular style mandarin collar, three-quarter regular sleeves calf length with flared hem viscose rayon machine weave fabric palazzos design: printed palazzos elasticated waistband slip-on closure dupatta length 2.43 meters width:88 cmthe model (height 5'8) is wearing a size s100% rayonmachine wash na 443,333,324,424 garment measurements in slip-on viscose rayon printed palazzos na with dupatta solid viscose rayon printed indie prints mandarin collar na festive na placement ethnic motifs three-quarter sleeves regular sleeves na ready to wear regular screen regular viscose rayon flared calf length printed anarkali kurta elasticated machine wash regular machine weave\""
      ]
     },
     "execution_count": 52,
     "metadata": {},
     "output_type": "execute_result"
    }
   ],
   "source": [
    "new_df.iloc[0]['tags']"
   ]
  },
  {
   "cell_type": "markdown",
   "id": "de1b2ec4",
   "metadata": {},
   "source": [
    "## Using nltk library to perform stemming where we are reducing the words into base words like love loving and lovely will become live as they convey same meaning over here"
   ]
  },
  {
   "cell_type": "code",
   "execution_count": 53,
   "id": "80e7bbfa",
   "metadata": {},
   "outputs": [],
   "source": [
    "import nltk\n",
    "from nltk.stem import PorterStemmer"
   ]
  },
  {
   "cell_type": "code",
   "execution_count": 54,
   "id": "10899447",
   "metadata": {},
   "outputs": [],
   "source": [
    "ps = PorterStemmer()"
   ]
  },
  {
   "cell_type": "code",
   "execution_count": 55,
   "id": "dd1dc755",
   "metadata": {},
   "outputs": [],
   "source": [
    "def stems(text):\n",
    "    T = []\n",
    "    \n",
    "    for i in text.split():\n",
    "        T.append(ps.stem(i))\n",
    "    \n",
    "    return \" \".join(T)"
   ]
  },
  {
   "cell_type": "code",
   "execution_count": 56,
   "id": "dfec771f",
   "metadata": {},
   "outputs": [
    {
     "name": "stderr",
     "output_type": "stream",
     "text": [
      "C:\\Users\\vktaw\\AppData\\Local\\Temp\\ipykernel_24640\\3973021881.py:1: SettingWithCopyWarning: \n",
      "A value is trying to be set on a copy of a slice from a DataFrame.\n",
      "Try using .loc[row_indexer,col_indexer] = value instead\n",
      "\n",
      "See the caveats in the documentation: https://pandas.pydata.org/pandas-docs/stable/user_guide/indexing.html#returning-a-view-versus-a-copy\n",
      "  new_df['tags'] = new_df['tags'].apply(stems)\n"
     ]
    }
   ],
   "source": [
    "new_df['tags'] = new_df['tags'].apply(stems)"
   ]
  },
  {
   "cell_type": "code",
   "execution_count": 57,
   "id": "61b3508e",
   "metadata": {},
   "outputs": [
    {
     "data": {
      "text/plain": [
       "\"5099.0 black khushal k black print kurta with palazzo with dupatta kurta design: ethnic motif print anarkali shape regular style mandarin collar, three-quart regular sleev calf length with flare hem viscos rayon machin weav fabric palazzo design: print palazzo elast waistband slip-on closur dupatta length 2.43 meter width:88 cmthe model (height 5'8) is wear a size s100% rayonmachin wash na 443,333,324,424 garment measur in slip-on viscos rayon print palazzo na with dupatta solid viscos rayon print indi print mandarin collar na festiv na placement ethnic motif three-quart sleev regular sleev na readi to wear regular screen regular viscos rayon flare calf length print anarkali kurta elast machin wash regular machin weav\""
      ]
     },
     "execution_count": 57,
     "metadata": {},
     "output_type": "execute_result"
    }
   ],
   "source": [
    "new_df.iloc[0]['tags']"
   ]
  },
  {
   "cell_type": "code",
   "execution_count": 58,
   "id": "dfd35434",
   "metadata": {},
   "outputs": [
    {
     "data": {
      "text/plain": [
       "(14265, 9)"
      ]
     },
     "execution_count": 58,
     "metadata": {},
     "output_type": "execute_result"
    }
   ],
   "source": [
    "fashion.shape"
   ]
  },
  {
   "cell_type": "markdown",
   "id": "b219f585",
   "metadata": {},
   "source": [
    "## Performing text feature extraction using CountVectorizer for fetching the count of how many times that word appears in the correspoding document"
   ]
  },
  {
   "cell_type": "code",
   "execution_count": 59,
   "id": "47ef540f",
   "metadata": {},
   "outputs": [
    {
     "name": "stderr",
     "output_type": "stream",
     "text": [
      "c:\\Users\\vktaw\\Desktop\\FashionFinderMyntra\\venv\\lib\\site-packages\\tqdm\\auto.py:21: TqdmWarning: IProgress not found. Please update jupyter and ipywidgets. See https://ipywidgets.readthedocs.io/en/stable/user_install.html\n",
      "  from .autonotebook import tqdm as notebook_tqdm\n"
     ]
    }
   ],
   "source": [
    "from sentence_transformers import SentenceTransformer\n",
    "from rank_bm25 import BM25Okapi"
   ]
  },
  {
   "cell_type": "code",
   "execution_count": 60,
   "id": "f9a703cf",
   "metadata": {},
   "outputs": [
    {
     "data": {
      "text/plain": [
       "0        5099.0 black khushal k black print kurta with ...\n",
       "1        5899.0 orang inweav orang solid kurta with pal...\n",
       "2        4899.0 navi blue anubhute navi blue embroid ku...\n",
       "3        3699.0 red nayo red print kurta with trouser a...\n",
       "4        1350.0 black ahika black and green print strai...\n",
       "                               ...                        \n",
       "14325    2299.0 blue fli machin blue solid front-open s...\n",
       "14326    2299.0 green juell green print sweatshirt ha a...\n",
       "14327    2299.0 pink vero moda pink solid sweatshirt ha...\n",
       "14328    2299.0 blue vero moda blue solid sweatshirt ha...\n",
       "14329    2299.0 grey vero moda grey and green colourblo...\n",
       "Name: tags, Length: 14265, dtype: object"
      ]
     },
     "execution_count": 60,
     "metadata": {},
     "output_type": "execute_result"
    }
   ],
   "source": [
    "new_df['tags']"
   ]
  },
  {
   "cell_type": "code",
   "execution_count": 61,
   "id": "f9b92776",
   "metadata": {},
   "outputs": [],
   "source": [
    "new_df = new_df.reset_index(drop=True)"
   ]
  },
  {
   "cell_type": "code",
   "execution_count": 62,
   "id": "6c4a89ab",
   "metadata": {},
   "outputs": [],
   "source": [
    "model = SentenceTransformer('all-MiniLM-L6-v2')\n",
    "embeddings = model.encode(new_df['tags'], convert_to_tensor=True)"
   ]
  },
  {
   "cell_type": "code",
   "execution_count": 63,
   "id": "dbbc9bfd",
   "metadata": {},
   "outputs": [],
   "source": [
    "from sentence_transformers import util"
   ]
  },
  {
   "cell_type": "code",
   "execution_count": 64,
   "id": "5f2a2535",
   "metadata": {},
   "outputs": [],
   "source": [
    "similarity = util.pytorch_cos_sim(embeddings, embeddings).numpy()"
   ]
  },
  {
   "cell_type": "code",
   "execution_count": 65,
   "id": "d01f8482",
   "metadata": {},
   "outputs": [],
   "source": [
    "tokenized_corpus = [doc.split() for doc in new_df['tags']]\n",
    "bm25 = BM25Okapi(tokenized_corpus)\n"
   ]
  },
  {
   "cell_type": "code",
   "execution_count": 66,
   "id": "8e9c881a",
   "metadata": {},
   "outputs": [],
   "source": [
    "def hybrid_recommend(name, alpha=0.5):\n",
    "    \"\"\"Hybrid recommendation combining BM25 and Semantic Similarity\"\"\"\n",
    "    if name not in new_df['name'].values:\n",
    "        print(\"Item not found!\")\n",
    "        return\n",
    "\n",
    "    index = new_df[new_df['name'] == name].index[0]\n",
    "\n",
    "    # BM25 Scores\n",
    "    bm25_scores = bm25.get_scores(new_df['tags'][index].split())\n",
    "    bm25_scores = np.array(bm25_scores)\n",
    "    bm25_scores = (bm25_scores - bm25_scores.min()) / (bm25_scores.max() - bm25_scores.min())  # Normalize\n",
    "\n",
    "    # Semantic Similarity Scores\n",
    "    sem_scores = similarity[index]\n",
    "    sem_scores = (sem_scores - sem_scores.min()) / (sem_scores.max() - sem_scores.min())  # Normalize\n",
    "\n",
    "    # Hybrid Score Calculation\n",
    "    hybrid_scores = alpha * sem_scores + (1 - alpha) * bm25_scores\n",
    "    ranked_items = sorted(list(enumerate(hybrid_scores)), key=lambda x: x[1], reverse=True)\n",
    "\n",
    "    print(\"Your Recommendations:\")\n",
    "    for i in ranked_items[1:6]:  # Skip the first one as it's the input itself\n",
    "        print(f\"{new_df.iloc[i[0]]['name']} - Score: {i[1]:.4f}\")\n"
   ]
  },
  {
   "cell_type": "code",
   "execution_count": null,
   "id": "7d2a2c4c",
   "metadata": {},
   "outputs": [],
   "source": []
  },
  {
   "cell_type": "markdown",
   "id": "43a18d45",
   "metadata": {},
   "source": [
    "## We are using cosine similarity to measure the similarity between two documents based on their content as we are building content based recommendation system"
   ]
  },
  {
   "cell_type": "code",
   "execution_count": 70,
   "id": "4b140aaa",
   "metadata": {
    "scrolled": false
   },
   "outputs": [
    {
     "name": "stdout",
     "output_type": "stream",
     "text": [
      "Your Recommendations:\n",
      "Indo Era Women Peach-Coloured & Pink Pure Cotton Printed Kurta with Trousers & Dupatta - Score: 0.6558\n",
      "Indo Era Women Blue Floral Printed Regular Pure Cotton Kurta with Palazzos & With Dupatta - Score: 0.6526\n",
      "Khushal K Women Green & Pink Printed Pure Cotton Kurta with Palazzos & Dupatta - Score: 0.6463\n",
      "Rudra Bazaar Women Grey & Pink Floral Pleated Pure Cotton Kurta & Trousers & Dupatta - Score: 0.6440\n",
      "Biba Women Red Floral Printed Regular Pure Cotton Kurta with Palazzos & With Dupatta - Score: 0.6439\n"
     ]
    }
   ],
   "source": [
    "hybrid_recommend('Libas Women Navy Blue Pure Cotton Floral Print Kurta with Palazzos & Dupatta')"
   ]
  },
  {
   "cell_type": "code",
   "execution_count": 71,
   "id": "34e7c62c",
   "metadata": {},
   "outputs": [],
   "source": [
    "import pickle\n"
   ]
  },
  {
   "cell_type": "code",
   "execution_count": 72,
   "id": "670a3adc",
   "metadata": {},
   "outputs": [],
   "source": [
    "pickle.dump(new_df,open('artifacts/product_list.pkl','wb'))\n",
    "pickle.dump(similarity,open('artifacts/similarity.pkl','wb'))"
   ]
  },
  {
   "cell_type": "code",
   "execution_count": null,
   "id": "00ce85fe",
   "metadata": {},
   "outputs": [],
   "source": []
  },
  {
   "cell_type": "code",
   "execution_count": null,
   "id": "3ec6f559",
   "metadata": {},
   "outputs": [],
   "source": []
  },
  {
   "cell_type": "code",
   "execution_count": null,
   "id": "cd70cf45",
   "metadata": {},
   "outputs": [],
   "source": []
  },
  {
   "cell_type": "code",
   "execution_count": null,
   "id": "3f0b9cdf",
   "metadata": {},
   "outputs": [],
   "source": []
  },
  {
   "cell_type": "code",
   "execution_count": null,
   "id": "b04493d6",
   "metadata": {},
   "outputs": [],
   "source": []
  },
  {
   "cell_type": "code",
   "execution_count": null,
   "id": "34c60097",
   "metadata": {},
   "outputs": [],
   "source": []
  },
  {
   "cell_type": "code",
   "execution_count": null,
   "id": "dd250876",
   "metadata": {},
   "outputs": [],
   "source": []
  },
  {
   "cell_type": "code",
   "execution_count": null,
   "id": "047ffd6a",
   "metadata": {},
   "outputs": [],
   "source": []
  },
  {
   "cell_type": "code",
   "execution_count": null,
   "id": "b5df3904",
   "metadata": {},
   "outputs": [],
   "source": []
  },
  {
   "cell_type": "code",
   "execution_count": null,
   "id": "f43837b8",
   "metadata": {},
   "outputs": [],
   "source": []
  },
  {
   "cell_type": "code",
   "execution_count": null,
   "id": "8538078e",
   "metadata": {},
   "outputs": [],
   "source": []
  },
  {
   "cell_type": "code",
   "execution_count": null,
   "id": "baffa519",
   "metadata": {},
   "outputs": [],
   "source": []
  },
  {
   "cell_type": "code",
   "execution_count": null,
   "id": "489cafad",
   "metadata": {},
   "outputs": [],
   "source": []
  },
  {
   "cell_type": "code",
   "execution_count": null,
   "id": "0a9889ae",
   "metadata": {},
   "outputs": [],
   "source": []
  },
  {
   "cell_type": "code",
   "execution_count": null,
   "id": "a6081ee3",
   "metadata": {},
   "outputs": [],
   "source": []
  },
  {
   "cell_type": "code",
   "execution_count": null,
   "id": "3b66e666",
   "metadata": {},
   "outputs": [],
   "source": []
  },
  {
   "cell_type": "code",
   "execution_count": null,
   "id": "07ae92a7",
   "metadata": {},
   "outputs": [],
   "source": []
  },
  {
   "cell_type": "code",
   "execution_count": null,
   "id": "cc8dd2d4",
   "metadata": {},
   "outputs": [],
   "source": []
  },
  {
   "cell_type": "code",
   "execution_count": null,
   "id": "380e3399",
   "metadata": {},
   "outputs": [],
   "source": []
  },
  {
   "cell_type": "code",
   "execution_count": null,
   "id": "94448cb7",
   "metadata": {},
   "outputs": [],
   "source": []
  },
  {
   "cell_type": "code",
   "execution_count": null,
   "id": "ad4812ff",
   "metadata": {},
   "outputs": [],
   "source": []
  },
  {
   "cell_type": "code",
   "execution_count": null,
   "id": "17cb285f",
   "metadata": {},
   "outputs": [],
   "source": []
  },
  {
   "cell_type": "code",
   "execution_count": null,
   "id": "f7d88b69",
   "metadata": {},
   "outputs": [],
   "source": []
  },
  {
   "cell_type": "code",
   "execution_count": null,
   "id": "91abf6cc",
   "metadata": {},
   "outputs": [],
   "source": []
  },
  {
   "cell_type": "code",
   "execution_count": null,
   "id": "d2b48487",
   "metadata": {},
   "outputs": [],
   "source": []
  },
  {
   "cell_type": "code",
   "execution_count": null,
   "id": "d6557a34",
   "metadata": {},
   "outputs": [],
   "source": []
  },
  {
   "cell_type": "code",
   "execution_count": null,
   "id": "e3ab315f",
   "metadata": {},
   "outputs": [],
   "source": []
  },
  {
   "cell_type": "code",
   "execution_count": null,
   "id": "53f6d536",
   "metadata": {},
   "outputs": [],
   "source": []
  },
  {
   "cell_type": "code",
   "execution_count": null,
   "id": "049c8b02",
   "metadata": {},
   "outputs": [],
   "source": []
  },
  {
   "cell_type": "code",
   "execution_count": null,
   "id": "e32d9025",
   "metadata": {},
   "outputs": [],
   "source": []
  },
  {
   "cell_type": "code",
   "execution_count": null,
   "id": "f751f852",
   "metadata": {},
   "outputs": [],
   "source": []
  },
  {
   "cell_type": "code",
   "execution_count": null,
   "id": "4efff2d5",
   "metadata": {},
   "outputs": [],
   "source": []
  },
  {
   "cell_type": "code",
   "execution_count": null,
   "id": "b8b69a02",
   "metadata": {},
   "outputs": [],
   "source": []
  },
  {
   "cell_type": "code",
   "execution_count": null,
   "id": "42b2500b",
   "metadata": {},
   "outputs": [],
   "source": []
  },
  {
   "cell_type": "code",
   "execution_count": null,
   "id": "fbb2373c",
   "metadata": {},
   "outputs": [],
   "source": []
  },
  {
   "cell_type": "code",
   "execution_count": null,
   "id": "b775d03c",
   "metadata": {},
   "outputs": [],
   "source": []
  },
  {
   "cell_type": "code",
   "execution_count": null,
   "id": "17cecf8d",
   "metadata": {},
   "outputs": [],
   "source": []
  },
  {
   "cell_type": "code",
   "execution_count": null,
   "id": "c8d56686",
   "metadata": {},
   "outputs": [],
   "source": []
  },
  {
   "cell_type": "code",
   "execution_count": null,
   "id": "6697e3b7",
   "metadata": {},
   "outputs": [],
   "source": []
  },
  {
   "cell_type": "code",
   "execution_count": null,
   "id": "b812a181",
   "metadata": {},
   "outputs": [],
   "source": []
  },
  {
   "cell_type": "code",
   "execution_count": null,
   "id": "b709e34b",
   "metadata": {},
   "outputs": [],
   "source": []
  },
  {
   "cell_type": "code",
   "execution_count": null,
   "id": "679cb482",
   "metadata": {},
   "outputs": [],
   "source": []
  },
  {
   "cell_type": "code",
   "execution_count": null,
   "id": "82d3eb79",
   "metadata": {},
   "outputs": [],
   "source": []
  }
 ],
 "metadata": {
  "kernelspec": {
   "display_name": "Python 3",
   "language": "python",
   "name": "python3"
  },
  "language_info": {
   "codemirror_mode": {
    "name": "ipython",
    "version": 3
   },
   "file_extension": ".py",
   "mimetype": "text/x-python",
   "name": "python",
   "nbconvert_exporter": "python",
   "pygments_lexer": "ipython3",
   "version": "3.10.0"
  }
 },
 "nbformat": 4,
 "nbformat_minor": 5
}
